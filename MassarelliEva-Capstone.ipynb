{
 "cells": [
  {
   "cell_type": "markdown",
   "metadata": {
    "application/vnd.databricks.v1+cell": {
     "cellMetadata": {
      "byteLimit": 2048000,
      "rowLimit": 10000
     },
     "inputWidgets": {},
     "nuid": "4f6cce12-a006-4a6f-aa2d-49ffb1836a2e",
     "showTitle": false,
     "title": ""
    }
   },
   "source": [
    "## DS2002 Capstone - Eva Massarelli\n",
    "\n",
    "**Deliverable:** Design and populate a dimensional (star schema) data mart that represents a simple\n",
    "business process of your choosing. Examples might include retail sales, procurement, order\n",
    "management, transportation or hospitality bookings, medical appointments, student registration and/or\n",
    "attendance. You may select any business process that interests you, but remember that a dimensional\n",
    "data mart provides for the post hoc summarization and historic analysis of business transactions\n",
    "(represented by a Fact table) that reflect the interaction between various business entities (e.g., patients\n",
    "& doctors, retailers & customers, travelers & airlines/hotels) as represented by dimension tables.\n",
    "\n",
    "Your project should demonstrate your ability to implement the Data Lakehouse architecture using\n",
    "Databricks Spark Structured Streaming & Delta Tables technologies. It should demonstrate your\n",
    "understanding of the differing types of data systems (e.g., Relational (aka SQL), NoSQL, File Systems,\n",
    "API’s), and how data (structured, semi-structured, unstructured) can be extracted from those source\n",
    "systems, transformed (cleansed, integrated), and then loaded into (or exposed through) a destination\n",
    "system that’s optimized for post hoc diagnostic analysis. Your project should also demonstrate your\n",
    "knowledge of data integration design patterns like ETL, ELT and ELTL, and architectures (e.g., lambda or\n",
    "kappa) for integrating batch and real-time (streaming) data sources.\n",
    "\n",
    "**Benchmarks:**\n",
    "1. Your solution must demonstrate accumulating data that originates from a real-time (streaming)\n",
    "data source for a predetermined interval (mini-batch), integrating it with reference data, and\n",
    "then using the product as a source for populating some aspect of your dimensional data mart.\n",
    "(i.e., implement something like the Databricks bronze, silver, gold architecture).\n",
    "    - a. Your solution must demonstrate the integration of streaming data for at least 3 intervals.\n",
    "This behavior can be mimicked by exporting transaction (fact table) data into a collection\n",
    "of data files (e.g., JSON, CSV) that represent a sequence of rows from that table.\n",
    "    - b. Your data visualization(s) need NOT reflect the integration of data in real-time.\n",
    "2. You must submit all reference data used to populate the source databases, JSON/CSV files, etc.\n",
    "3. You must submit all SQL code, including any data definition and data manipulation statements.\n",
    "4. You must submit all Python code needed to implement data integration, and any object creation.\n",
    "5. You must submit either all data visualization source files (e.g., Excel, Power BI workbook).\n",
    "– OR –\n",
    "6. Submit screen-grabs of your finished data visualization(s)\n",
    "\n",
    "\n",
    "### Prerequisites\n",
    "\n",
    "#### 1.0. Import Required Libraries"
   ]
  },
  {
   "cell_type": "code",
   "execution_count": 0,
   "metadata": {
    "application/vnd.databricks.v1+cell": {
     "cellMetadata": {
      "byteLimit": 2048000,
      "rowLimit": 10000
     },
     "inputWidgets": {},
     "nuid": "f6a8545c-e396-40dd-a0eb-8fb98663bef7",
     "showTitle": false,
     "title": ""
    }
   },
   "outputs": [],
   "source": [
    "import os\n",
    "import json\n",
    "import pymongo\n",
    "import pyspark.pandas as pd  # This uses Koalas that is included in PySpark version 3.2 or newer.\n",
    "from pyspark.sql.functions import col\n",
    "from pyspark.sql.types import StructType, StructField, StringType, TimestampType, BinaryType\n",
    "from pyspark.sql.types import ByteType, ShortType, IntegerType, LongType, FloatType, DecimalType"
   ]
  },
  {
   "cell_type": "markdown",
   "metadata": {
    "application/vnd.databricks.v1+cell": {
     "cellMetadata": {
      "byteLimit": 2048000,
      "rowLimit": 10000
     },
     "inputWidgets": {},
     "nuid": "3c43fc7d-2918-4270-8595-354881a4e36d",
     "showTitle": false,
     "title": ""
    }
   },
   "source": [
    "#### 2.0. Instantiate Global Variables"
   ]
  },
  {
   "cell_type": "code",
   "execution_count": 0,
   "metadata": {
    "application/vnd.databricks.v1+cell": {
     "cellMetadata": {
      "byteLimit": 2048000,
      "rowLimit": 10000
     },
     "inputWidgets": {},
     "nuid": "ae18ed4a-a051-4249-ac4d-55d27a42b4e5",
     "showTitle": false,
     "title": ""
    }
   },
   "outputs": [
    {
     "output_type": "stream",
     "name": "stdout",
     "output_type": "stream",
     "text": [
      "Out[10]: True"
     ]
    }
   ],
   "source": [
    "# Azure MySQL Server Connection Information ###################\n",
    "jdbc_hostname = \"ecm8yu-mysql.mysql.database.azure.com\"\n",
    "jdbc_port = 3306\n",
    "src_database = \"sakila_dw2\"\n",
    "\n",
    "connection_properties = {\n",
    "  \"user\" : \"ecm8yu\",\n",
    "  \"password\" : \"Passw0rd123\",\n",
    "  \"driver\" : \"org.mariadb.jdbc.Driver\"\n",
    "}\n",
    "\n",
    "# MongoDB Atlas Connection Information ########################\n",
    "atlas_cluster_name = \"sandbox.den9rfu\"\n",
    "atlas_database_name = \"sakila_dw2\"\n",
    "atlas_user_name = \"ecm8yu\"\n",
    "atlas_password = \"HR91sK8EWrAUzWRM\"\n",
    "\n",
    "# Data Files (JSON) Information ###############################\n",
    "dst_database = \"sakila_dlh\"\n",
    "\n",
    "base_dir = \"dbfs:/FileStore/MassarelliEva-Capstone\"\n",
    "database_dir = f\"{base_dir}/{dst_database}\"\n",
    "\n",
    "data_dir = f\"{base_dir}/source_data\"\n",
    "batch_dir = f\"{data_dir}/batch\"\n",
    "stream_dir = f\"{data_dir}/stream\"\n",
    "\n",
    "rentals_stream_dir = f\"{stream_dir}/rentals\"\n",
    "\n",
    "rentals_output_bronze = f\"{database_dir}/fact_rentals/bronze\"\n",
    "rentals_output_silver = f\"{database_dir}/fact_rentals/silver\"\n",
    "rentals_output_gold   = f\"{database_dir}/fact_rentals/gold\"\n",
    "\n",
    "# Delete the Streaming Files ################################## \n",
    "dbutils.fs.rm(f\"{database_dir}/fact_rentals\", True)\n",
    "\n",
    "# Delete the Database Files ###################################\n",
    "dbutils.fs.rm(database_dir, True)"
   ]
  },
  {
   "cell_type": "markdown",
   "metadata": {
    "application/vnd.databricks.v1+cell": {
     "cellMetadata": {
      "byteLimit": 2048000,
      "rowLimit": 10000
     },
     "inputWidgets": {},
     "nuid": "4e33d70f-637e-4eb6-a1a8-c00ea26011a5",
     "showTitle": false,
     "title": ""
    }
   },
   "source": [
    "#### 3.0. Define Global Functions"
   ]
  },
  {
   "cell_type": "code",
   "execution_count": 0,
   "metadata": {
    "application/vnd.databricks.v1+cell": {
     "cellMetadata": {
      "byteLimit": 2048000,
      "rowLimit": 10000
     },
     "inputWidgets": {},
     "nuid": "939af89f-638e-44fd-8e58-f88591889f4c",
     "showTitle": false,
     "title": ""
    }
   },
   "outputs": [],
   "source": [
    "# ######################################################################################################################\n",
    "# Use this Function to Fetch a DataFrame from the MongoDB Atlas database server Using PyMongo.\n",
    "# ######################################################################################################################\n",
    "def get_mongo_dataframe(user_id, pwd, cluster_name, db_name, collection, conditions, projection, sort):\n",
    "    '''Create a client connection to MongoDB'''\n",
    "    mongo_uri = f\"mongodb+srv://{user_id}:{pwd}@{cluster_name}.mongodb.net/{db_name}\"\n",
    "    \n",
    "    client = pymongo.MongoClient(mongo_uri)\n",
    "\n",
    "    '''Query MongoDB, and fill a python list with documents to create a DataFrame'''\n",
    "    db = client[db_name]\n",
    "    if conditions and projection and sort:\n",
    "        dframe = pd.DataFrame(list(db[collection].find(conditions, projection).sort(sort)))\n",
    "    elif conditions and projection and not sort:\n",
    "        dframe = pd.DataFrame(list(db[collection].find(conditions, projection)))\n",
    "    else:\n",
    "        dframe = pd.DataFrame(list(db[collection].find()))\n",
    "\n",
    "    client.close()\n",
    "    \n",
    "    return dframe\n",
    "\n",
    "# ######################################################################################################################\n",
    "# Use this Function to Create New Collections by Uploading JSON file(s) to the MongoDB Atlas server.\n",
    "# ######################################################################################################################\n",
    "def set_mongo_collection(user_id, pwd, cluster_name, db_name, src_file_path, json_files):\n",
    "    '''Create a client connection to MongoDB'''\n",
    "    mongo_uri = f\"mongodb+srv://{user_id}:{pwd}@{cluster_name}.mongodb.net/{db_name}\"\n",
    "    client = pymongo.MongoClient(mongo_uri)\n",
    "    db = client[db_name]\n",
    "    \n",
    "    '''Read in a JSON file, and Use It to Create a New Collection'''\n",
    "    for file in json_files:\n",
    "        db.drop_collection(file)\n",
    "        json_file = os.path.join(src_file_path, json_files[file])\n",
    "        with open(json_file, 'r') as openfile:\n",
    "            json_object = json.load(openfile)\n",
    "            file = db[file]\n",
    "            result = file.insert_many(json_object)\n",
    "\n",
    "    client.close()\n",
    "    \n",
    "    return result"
   ]
  },
  {
   "cell_type": "markdown",
   "metadata": {
    "application/vnd.databricks.v1+cell": {
     "cellMetadata": {
      "byteLimit": 2048000,
      "rowLimit": 10000
     },
     "inputWidgets": {},
     "nuid": "8066e8d6-3626-449d-a985-2fce976d0914",
     "showTitle": false,
     "title": ""
    }
   },
   "source": [
    "### Section II: Populate Dimensions by Ingesting Reference (Cold-path) Data (From Relational Database Source)\n",
    "#### 1.0. Create New Databricks Metadata Database from Fetching Reference Data From an Azure MySQL Database\n",
    "##### 1.1. Integrating Date Dimension."
   ]
  },
  {
   "cell_type": "code",
   "execution_count": 0,
   "metadata": {
    "application/vnd.databricks.v1+cell": {
     "cellMetadata": {
      "byteLimit": 2048000,
      "implicitDf": true,
      "rowLimit": 10000
     },
     "inputWidgets": {},
     "nuid": "cd70267e-3bc4-4f48-a7ef-4ea4d2dcc3c6",
     "showTitle": false,
     "title": ""
    }
   },
   "outputs": [
    {
     "output_type": "display_data",
     "data": {
      "text/html": [
       "<style scoped>\n",
       "  .table-result-container {\n",
       "    max-height: 300px;\n",
       "    overflow: auto;\n",
       "  }\n",
       "  table, th, td {\n",
       "    border: 1px solid black;\n",
       "    border-collapse: collapse;\n",
       "  }\n",
       "  th, td {\n",
       "    padding: 5px;\n",
       "  }\n",
       "  th {\n",
       "    text-align: left;\n",
       "  }\n",
       "</style><div class='table-result-container'><table class='table-result'><thead style='background-color: white'><tr></tr></thead><tbody></tbody></table></div>"
      ]
     },
     "metadata": {
      "application/vnd.databricks.v1+output": {
       "addedWidgets": {},
       "aggData": [],
       "aggError": "",
       "aggOverflow": false,
       "aggSchema": [],
       "aggSeriesLimitReached": false,
       "aggType": "",
       "arguments": {},
       "columnCustomDisplayInfos": {},
       "data": [],
       "datasetInfos": [],
       "dbfsResultPath": null,
       "isJsonSchema": true,
       "metadata": {},
       "overflow": false,
       "plotOptions": {
        "customPlotOptions": {},
        "displayType": "table",
        "pivotAggregation": null,
        "pivotColumns": null,
        "xColumns": null,
        "yColumns": null
       },
       "removedWidgets": [],
       "schema": [],
       "type": "table"
      }
     },
     "output_type": "display_data"
    }
   ],
   "source": [
    "%sql\n",
    "DROP DATABASE IF EXISTS sakila_dlh CASCADE;"
   ]
  },
  {
   "cell_type": "code",
   "execution_count": 0,
   "metadata": {
    "application/vnd.databricks.v1+cell": {
     "cellMetadata": {
      "byteLimit": 2048000,
      "implicitDf": true,
      "rowLimit": 10000
     },
     "inputWidgets": {},
     "nuid": "8753d7a5-d652-4163-b69f-71355180c93a",
     "showTitle": false,
     "title": ""
    }
   },
   "outputs": [
    {
     "output_type": "display_data",
     "data": {
      "text/html": [
       "<style scoped>\n",
       "  .table-result-container {\n",
       "    max-height: 300px;\n",
       "    overflow: auto;\n",
       "  }\n",
       "  table, th, td {\n",
       "    border: 1px solid black;\n",
       "    border-collapse: collapse;\n",
       "  }\n",
       "  th, td {\n",
       "    padding: 5px;\n",
       "  }\n",
       "  th {\n",
       "    text-align: left;\n",
       "  }\n",
       "</style><div class='table-result-container'><table class='table-result'><thead style='background-color: white'><tr></tr></thead><tbody></tbody></table></div>"
      ]
     },
     "metadata": {
      "application/vnd.databricks.v1+output": {
       "addedWidgets": {},
       "aggData": [],
       "aggError": "",
       "aggOverflow": false,
       "aggSchema": [],
       "aggSeriesLimitReached": false,
       "aggType": "",
       "arguments": {},
       "columnCustomDisplayInfos": {},
       "data": [],
       "datasetInfos": [],
       "dbfsResultPath": null,
       "isJsonSchema": true,
       "metadata": {},
       "overflow": false,
       "plotOptions": {
        "customPlotOptions": {},
        "displayType": "table",
        "pivotAggregation": null,
        "pivotColumns": null,
        "xColumns": null,
        "yColumns": null
       },
       "removedWidgets": [],
       "schema": [],
       "type": "table"
      }
     },
     "output_type": "display_data"
    }
   ],
   "source": [
    "%sql\n",
    "CREATE DATABASE IF NOT EXISTS sakila_dlh\n",
    "COMMENT \"DS-2002 Capstone Database\"\n",
    "LOCATION \"dbfs:/FileStore/MassarelliEva-Capstone/sakila_dlh\"\n",
    "WITH DBPROPERTIES (contains_pii = true, purpose = \"DS-2002 Capstone\");"
   ]
  },
  {
   "cell_type": "markdown",
   "metadata": {
    "application/vnd.databricks.v1+cell": {
     "cellMetadata": {
      "byteLimit": 2048000,
      "rowLimit": 10000
     },
     "inputWidgets": {},
     "nuid": "8b8250c5-9f2b-4b9b-9e3a-6e5fcd2b3aff",
     "showTitle": false,
     "title": ""
    }
   },
   "source": [
    "##### 1.2. Create a New Table that Sources Date Dimension Data from a Table in an Azure MySQL database."
   ]
  },
  {
   "cell_type": "code",
   "execution_count": 0,
   "metadata": {
    "application/vnd.databricks.v1+cell": {
     "cellMetadata": {
      "byteLimit": 2048000,
      "implicitDf": true,
      "rowLimit": 10000
     },
     "inputWidgets": {},
     "nuid": "7fc64a21-eb30-4d1d-9ed9-9258593d5281",
     "showTitle": false,
     "title": ""
    }
   },
   "outputs": [
    {
     "output_type": "display_data",
     "data": {
      "text/html": [
       "<style scoped>\n",
       "  .table-result-container {\n",
       "    max-height: 300px;\n",
       "    overflow: auto;\n",
       "  }\n",
       "  table, th, td {\n",
       "    border: 1px solid black;\n",
       "    border-collapse: collapse;\n",
       "  }\n",
       "  th, td {\n",
       "    padding: 5px;\n",
       "  }\n",
       "  th {\n",
       "    text-align: left;\n",
       "  }\n",
       "</style><div class='table-result-container'><table class='table-result'><thead style='background-color: white'><tr></tr></thead><tbody></tbody></table></div>"
      ]
     },
     "metadata": {
      "application/vnd.databricks.v1+output": {
       "addedWidgets": {},
       "aggData": [],
       "aggError": "",
       "aggOverflow": false,
       "aggSchema": [],
       "aggSeriesLimitReached": false,
       "aggType": "",
       "arguments": {},
       "columnCustomDisplayInfos": {},
       "data": [],
       "datasetInfos": [],
       "dbfsResultPath": null,
       "isJsonSchema": true,
       "metadata": {},
       "overflow": false,
       "plotOptions": {
        "customPlotOptions": {},
        "displayType": "table",
        "pivotAggregation": null,
        "pivotColumns": null,
        "xColumns": null,
        "yColumns": null
       },
       "removedWidgets": [],
       "schema": [],
       "type": "table"
      }
     },
     "output_type": "display_data"
    }
   ],
   "source": [
    "%sql\n",
    "CREATE OR REPLACE TEMPORARY VIEW view_date\n",
    "USING org.apache.spark.sql.jdbc\n",
    "OPTIONS (\n",
    "  url \"jdbc:mysql://ecm8yu-mysql.mysql.database.azure.com:3306/sakila_dw2\",\n",
    "  dbtable \"dim_date\",\n",
    "  user \"ecm8yu\",\n",
    "  password \"Passw0rd123\"\n",
    ")"
   ]
  },
  {
   "cell_type": "code",
   "execution_count": 0,
   "metadata": {
    "application/vnd.databricks.v1+cell": {
     "cellMetadata": {
      "byteLimit": 2048000,
      "implicitDf": true,
      "rowLimit": 10000
     },
     "inputWidgets": {},
     "nuid": "015675a3-1b74-4f42-b00b-df8b9f2cfa0c",
     "showTitle": false,
     "title": ""
    }
   },
   "outputs": [
    {
     "output_type": "display_data",
     "data": {
      "text/html": [
       "<style scoped>\n",
       "  .table-result-container {\n",
       "    max-height: 300px;\n",
       "    overflow: auto;\n",
       "  }\n",
       "  table, th, td {\n",
       "    border: 1px solid black;\n",
       "    border-collapse: collapse;\n",
       "  }\n",
       "  th, td {\n",
       "    padding: 5px;\n",
       "  }\n",
       "  th {\n",
       "    text-align: left;\n",
       "  }\n",
       "</style><div class='table-result-container'><table class='table-result'><thead style='background-color: white'><tr><th>num_affected_rows</th><th>num_inserted_rows</th></tr></thead><tbody></tbody></table></div>"
      ]
     },
     "metadata": {
      "application/vnd.databricks.v1+output": {
       "addedWidgets": {},
       "aggData": [],
       "aggError": "",
       "aggOverflow": false,
       "aggSchema": [],
       "aggSeriesLimitReached": false,
       "aggType": "",
       "arguments": {},
       "columnCustomDisplayInfos": {},
       "data": [],
       "datasetInfos": [],
       "dbfsResultPath": null,
       "isJsonSchema": true,
       "metadata": {},
       "overflow": false,
       "plotOptions": {
        "customPlotOptions": {},
        "displayType": "table",
        "pivotAggregation": null,
        "pivotColumns": null,
        "xColumns": null,
        "yColumns": null
       },
       "removedWidgets": [],
       "schema": [
        {
         "metadata": "{}",
         "name": "num_affected_rows",
         "type": "\"long\""
        },
        {
         "metadata": "{}",
         "name": "num_inserted_rows",
         "type": "\"long\""
        }
       ],
       "type": "table"
      }
     },
     "output_type": "display_data"
    }
   ],
   "source": [
    "%sql\n",
    "USE DATABASE sakila_dlh;\n",
    "\n",
    "CREATE OR REPLACE TABLE sakila_dlh.dim_date\n",
    "COMMENT \"Date Dimension Table\"\n",
    "LOCATION \"dbfs:/FileStore/MassarelliEva-Capstone/sakila_dlh/dim_date\"\n",
    "AS SELECT * FROM view_date"
   ]
  },
  {
   "cell_type": "code",
   "execution_count": 0,
   "metadata": {
    "application/vnd.databricks.v1+cell": {
     "cellMetadata": {
      "byteLimit": 2048000,
      "implicitDf": true,
      "rowLimit": 10000
     },
     "inputWidgets": {},
     "nuid": "368e6706-b13d-4be4-98dd-16956e85d40b",
     "showTitle": false,
     "title": ""
    }
   },
   "outputs": [
    {
     "output_type": "display_data",
     "data": {
      "text/html": [
       "<style scoped>\n",
       "  .table-result-container {\n",
       "    max-height: 300px;\n",
       "    overflow: auto;\n",
       "  }\n",
       "  table, th, td {\n",
       "    border: 1px solid black;\n",
       "    border-collapse: collapse;\n",
       "  }\n",
       "  th, td {\n",
       "    padding: 5px;\n",
       "  }\n",
       "  th {\n",
       "    text-align: left;\n",
       "  }\n",
       "</style><div class='table-result-container'><table class='table-result'><thead style='background-color: white'><tr><th>col_name</th><th>data_type</th><th>comment</th></tr></thead><tbody><tr><td>date_key</td><td>int</td><td>null</td></tr><tr><td>full_date</td><td>date</td><td>null</td></tr><tr><td>date_name</td><td>string</td><td>null</td></tr><tr><td>date_name_us</td><td>string</td><td>null</td></tr><tr><td>date_name_eu</td><td>string</td><td>null</td></tr><tr><td>day_of_week</td><td>int</td><td>null</td></tr><tr><td>day_name_of_week</td><td>string</td><td>null</td></tr><tr><td>day_of_month</td><td>int</td><td>null</td></tr><tr><td>day_of_year</td><td>int</td><td>null</td></tr><tr><td>weekday_weekend</td><td>string</td><td>null</td></tr><tr><td>week_of_year</td><td>int</td><td>null</td></tr><tr><td>month_name</td><td>string</td><td>null</td></tr><tr><td>month_of_year</td><td>int</td><td>null</td></tr><tr><td>is_last_day_of_month</td><td>string</td><td>null</td></tr><tr><td>calendar_quarter</td><td>int</td><td>null</td></tr><tr><td>calendar_year</td><td>int</td><td>null</td></tr><tr><td>calendar_year_month</td><td>string</td><td>null</td></tr><tr><td>calendar_year_qtr</td><td>string</td><td>null</td></tr><tr><td>fiscal_month_of_year</td><td>int</td><td>null</td></tr><tr><td>fiscal_quarter</td><td>int</td><td>null</td></tr><tr><td>fiscal_year</td><td>int</td><td>null</td></tr><tr><td>fiscal_year_month</td><td>string</td><td>null</td></tr><tr><td>fiscal_year_qtr</td><td>string</td><td>null</td></tr><tr><td></td><td></td><td></td></tr><tr><td># Detailed Table Information</td><td></td><td></td></tr><tr><td>Catalog</td><td>spark_catalog</td><td></td></tr><tr><td>Database</td><td>sakila_dlh</td><td></td></tr><tr><td>Table</td><td>dim_date</td><td></td></tr><tr><td>Type</td><td>EXTERNAL</td><td></td></tr><tr><td>Comment</td><td>Date Dimension Table</td><td></td></tr><tr><td>Location</td><td>dbfs:/FileStore/MassarelliEva-Capstone/sakila_dlh/dim_date</td><td></td></tr><tr><td>Provider</td><td>delta</td><td></td></tr><tr><td>Owner</td><td>root</td><td></td></tr><tr><td>Table Properties</td><td>[delta.minReaderVersion=1,delta.minWriterVersion=2]</td><td></td></tr></tbody></table></div>"
      ]
     },
     "metadata": {
      "application/vnd.databricks.v1+output": {
       "addedWidgets": {},
       "aggData": [],
       "aggError": "",
       "aggOverflow": false,
       "aggSchema": [],
       "aggSeriesLimitReached": false,
       "aggType": "",
       "arguments": {},
       "columnCustomDisplayInfos": {},
       "data": [
        [
         "date_key",
         "int",
         null
        ],
        [
         "full_date",
         "date",
         null
        ],
        [
         "date_name",
         "string",
         null
        ],
        [
         "date_name_us",
         "string",
         null
        ],
        [
         "date_name_eu",
         "string",
         null
        ],
        [
         "day_of_week",
         "int",
         null
        ],
        [
         "day_name_of_week",
         "string",
         null
        ],
        [
         "day_of_month",
         "int",
         null
        ],
        [
         "day_of_year",
         "int",
         null
        ],
        [
         "weekday_weekend",
         "string",
         null
        ],
        [
         "week_of_year",
         "int",
         null
        ],
        [
         "month_name",
         "string",
         null
        ],
        [
         "month_of_year",
         "int",
         null
        ],
        [
         "is_last_day_of_month",
         "string",
         null
        ],
        [
         "calendar_quarter",
         "int",
         null
        ],
        [
         "calendar_year",
         "int",
         null
        ],
        [
         "calendar_year_month",
         "string",
         null
        ],
        [
         "calendar_year_qtr",
         "string",
         null
        ],
        [
         "fiscal_month_of_year",
         "int",
         null
        ],
        [
         "fiscal_quarter",
         "int",
         null
        ],
        [
         "fiscal_year",
         "int",
         null
        ],
        [
         "fiscal_year_month",
         "string",
         null
        ],
        [
         "fiscal_year_qtr",
         "string",
         null
        ],
        [
         "",
         "",
         ""
        ],
        [
         "# Detailed Table Information",
         "",
         ""
        ],
        [
         "Catalog",
         "spark_catalog",
         ""
        ],
        [
         "Database",
         "sakila_dlh",
         ""
        ],
        [
         "Table",
         "dim_date",
         ""
        ],
        [
         "Type",
         "EXTERNAL",
         ""
        ],
        [
         "Comment",
         "Date Dimension Table",
         ""
        ],
        [
         "Location",
         "dbfs:/FileStore/MassarelliEva-Capstone/sakila_dlh/dim_date",
         ""
        ],
        [
         "Provider",
         "delta",
         ""
        ],
        [
         "Owner",
         "root",
         ""
        ],
        [
         "Table Properties",
         "[delta.minReaderVersion=1,delta.minWriterVersion=2]",
         ""
        ]
       ],
       "datasetInfos": [],
       "dbfsResultPath": null,
       "isJsonSchema": true,
       "metadata": {},
       "overflow": false,
       "plotOptions": {
        "customPlotOptions": {},
        "displayType": "table",
        "pivotAggregation": null,
        "pivotColumns": null,
        "xColumns": null,
        "yColumns": null
       },
       "removedWidgets": [],
       "schema": [
        {
         "metadata": "{\"comment\":\"name of the column\"}",
         "name": "col_name",
         "type": "\"string\""
        },
        {
         "metadata": "{\"comment\":\"data type of the column\"}",
         "name": "data_type",
         "type": "\"string\""
        },
        {
         "metadata": "{\"comment\":\"comment of the column\"}",
         "name": "comment",
         "type": "\"string\""
        }
       ],
       "type": "table"
      }
     },
     "output_type": "display_data"
    }
   ],
   "source": [
    "%sql\n",
    "DESCRIBE EXTENDED sakila_dlh.dim_date;"
   ]
  },
  {
   "cell_type": "code",
   "execution_count": 0,
   "metadata": {
    "application/vnd.databricks.v1+cell": {
     "cellMetadata": {
      "byteLimit": 2048000,
      "implicitDf": true,
      "rowLimit": 10000
     },
     "inputWidgets": {},
     "nuid": "7f395402-1acd-49e7-85e7-a47ff0439522",
     "showTitle": false,
     "title": ""
    }
   },
   "outputs": [
    {
     "output_type": "display_data",
     "data": {
      "text/html": [
       "<style scoped>\n",
       "  .table-result-container {\n",
       "    max-height: 300px;\n",
       "    overflow: auto;\n",
       "  }\n",
       "  table, th, td {\n",
       "    border: 1px solid black;\n",
       "    border-collapse: collapse;\n",
       "  }\n",
       "  th, td {\n",
       "    padding: 5px;\n",
       "  }\n",
       "  th {\n",
       "    text-align: left;\n",
       "  }\n",
       "</style><div class='table-result-container'><table class='table-result'><thead style='background-color: white'><tr><th>date_key</th><th>full_date</th><th>date_name</th><th>date_name_us</th><th>date_name_eu</th><th>day_of_week</th><th>day_name_of_week</th><th>day_of_month</th><th>day_of_year</th><th>weekday_weekend</th><th>week_of_year</th><th>month_name</th><th>month_of_year</th><th>is_last_day_of_month</th><th>calendar_quarter</th><th>calendar_year</th><th>calendar_year_month</th><th>calendar_year_qtr</th><th>fiscal_month_of_year</th><th>fiscal_quarter</th><th>fiscal_year</th><th>fiscal_year_month</th><th>fiscal_year_qtr</th></tr></thead><tbody><tr><td>20010101</td><td>2001-01-01</td><td>2001/01/01</td><td>01/01/2001</td><td>01/01/2001</td><td>2</td><td>Monday</td><td>1</td><td>1</td><td>Weekday</td><td>1</td><td>January</td><td>1</td><td>N</td><td>1</td><td>2001</td><td>2001-01</td><td>2001Q1</td><td>7</td><td>3</td><td>2001</td><td>2001-07</td><td>2001Q3</td></tr><tr><td>20010102</td><td>2001-01-02</td><td>2001/01/02</td><td>01/02/2001</td><td>02/01/2001</td><td>3</td><td>Tuesday</td><td>2</td><td>2</td><td>Weekday</td><td>1</td><td>January</td><td>1</td><td>N</td><td>1</td><td>2001</td><td>2001-01</td><td>2001Q1</td><td>7</td><td>3</td><td>2001</td><td>2001-07</td><td>2001Q3</td></tr><tr><td>20010103</td><td>2001-01-03</td><td>2001/01/03</td><td>01/03/2001</td><td>03/01/2001</td><td>4</td><td>Wednesday</td><td>3</td><td>3</td><td>Weekday</td><td>1</td><td>January</td><td>1</td><td>N</td><td>1</td><td>2001</td><td>2001-01</td><td>2001Q1</td><td>7</td><td>3</td><td>2001</td><td>2001-07</td><td>2001Q3</td></tr><tr><td>20010104</td><td>2001-01-04</td><td>2001/01/04</td><td>01/04/2001</td><td>04/01/2001</td><td>5</td><td>Thursday</td><td>4</td><td>4</td><td>Weekday</td><td>1</td><td>January</td><td>1</td><td>N</td><td>1</td><td>2001</td><td>2001-01</td><td>2001Q1</td><td>7</td><td>3</td><td>2001</td><td>2001-07</td><td>2001Q3</td></tr><tr><td>20010105</td><td>2001-01-05</td><td>2001/01/05</td><td>01/05/2001</td><td>05/01/2001</td><td>6</td><td>Friday</td><td>5</td><td>5</td><td>Weekday</td><td>1</td><td>January</td><td>1</td><td>N</td><td>1</td><td>2001</td><td>2001-01</td><td>2001Q1</td><td>7</td><td>3</td><td>2001</td><td>2001-07</td><td>2001Q3</td></tr></tbody></table></div>"
      ]
     },
     "metadata": {
      "application/vnd.databricks.v1+output": {
       "addedWidgets": {},
       "aggData": [],
       "aggError": "",
       "aggOverflow": false,
       "aggSchema": [],
       "aggSeriesLimitReached": false,
       "aggType": "",
       "arguments": {},
       "columnCustomDisplayInfos": {},
       "data": [
        [
         20010101,
         "2001-01-01",
         "2001/01/01",
         "01/01/2001",
         "01/01/2001",
         2,
         "Monday",
         1,
         1,
         "Weekday",
         1,
         "January",
         1,
         "N",
         1,
         2001,
         "2001-01",
         "2001Q1",
         7,
         3,
         2001,
         "2001-07",
         "2001Q3"
        ],
        [
         20010102,
         "2001-01-02",
         "2001/01/02",
         "01/02/2001",
         "02/01/2001",
         3,
         "Tuesday",
         2,
         2,
         "Weekday",
         1,
         "January",
         1,
         "N",
         1,
         2001,
         "2001-01",
         "2001Q1",
         7,
         3,
         2001,
         "2001-07",
         "2001Q3"
        ],
        [
         20010103,
         "2001-01-03",
         "2001/01/03",
         "01/03/2001",
         "03/01/2001",
         4,
         "Wednesday",
         3,
         3,
         "Weekday",
         1,
         "January",
         1,
         "N",
         1,
         2001,
         "2001-01",
         "2001Q1",
         7,
         3,
         2001,
         "2001-07",
         "2001Q3"
        ],
        [
         20010104,
         "2001-01-04",
         "2001/01/04",
         "01/04/2001",
         "04/01/2001",
         5,
         "Thursday",
         4,
         4,
         "Weekday",
         1,
         "January",
         1,
         "N",
         1,
         2001,
         "2001-01",
         "2001Q1",
         7,
         3,
         2001,
         "2001-07",
         "2001Q3"
        ],
        [
         20010105,
         "2001-01-05",
         "2001/01/05",
         "01/05/2001",
         "05/01/2001",
         6,
         "Friday",
         5,
         5,
         "Weekday",
         1,
         "January",
         1,
         "N",
         1,
         2001,
         "2001-01",
         "2001Q1",
         7,
         3,
         2001,
         "2001-07",
         "2001Q3"
        ]
       ],
       "datasetInfos": [],
       "dbfsResultPath": null,
       "isJsonSchema": true,
       "metadata": {},
       "overflow": false,
       "plotOptions": {
        "customPlotOptions": {},
        "displayType": "table",
        "pivotAggregation": null,
        "pivotColumns": null,
        "xColumns": null,
        "yColumns": null
       },
       "removedWidgets": [],
       "schema": [
        {
         "metadata": "{\"scale\":0}",
         "name": "date_key",
         "type": "\"integer\""
        },
        {
         "metadata": "{\"scale\":0}",
         "name": "full_date",
         "type": "\"date\""
        },
        {
         "metadata": "{\"scale\":0}",
         "name": "date_name",
         "type": "\"string\""
        },
        {
         "metadata": "{\"scale\":0}",
         "name": "date_name_us",
         "type": "\"string\""
        },
        {
         "metadata": "{\"scale\":0}",
         "name": "date_name_eu",
         "type": "\"string\""
        },
        {
         "metadata": "{\"scale\":0}",
         "name": "day_of_week",
         "type": "\"integer\""
        },
        {
         "metadata": "{\"scale\":0}",
         "name": "day_name_of_week",
         "type": "\"string\""
        },
        {
         "metadata": "{\"scale\":0}",
         "name": "day_of_month",
         "type": "\"integer\""
        },
        {
         "metadata": "{\"scale\":0}",
         "name": "day_of_year",
         "type": "\"integer\""
        },
        {
         "metadata": "{\"scale\":0}",
         "name": "weekday_weekend",
         "type": "\"string\""
        },
        {
         "metadata": "{\"scale\":0}",
         "name": "week_of_year",
         "type": "\"integer\""
        },
        {
         "metadata": "{\"scale\":0}",
         "name": "month_name",
         "type": "\"string\""
        },
        {
         "metadata": "{\"scale\":0}",
         "name": "month_of_year",
         "type": "\"integer\""
        },
        {
         "metadata": "{\"scale\":0}",
         "name": "is_last_day_of_month",
         "type": "\"string\""
        },
        {
         "metadata": "{\"scale\":0}",
         "name": "calendar_quarter",
         "type": "\"integer\""
        },
        {
         "metadata": "{\"scale\":0}",
         "name": "calendar_year",
         "type": "\"integer\""
        },
        {
         "metadata": "{\"scale\":0}",
         "name": "calendar_year_month",
         "type": "\"string\""
        },
        {
         "metadata": "{\"scale\":0}",
         "name": "calendar_year_qtr",
         "type": "\"string\""
        },
        {
         "metadata": "{\"scale\":0}",
         "name": "fiscal_month_of_year",
         "type": "\"integer\""
        },
        {
         "metadata": "{\"scale\":0}",
         "name": "fiscal_quarter",
         "type": "\"integer\""
        },
        {
         "metadata": "{\"scale\":0}",
         "name": "fiscal_year",
         "type": "\"integer\""
        },
        {
         "metadata": "{\"scale\":0}",
         "name": "fiscal_year_month",
         "type": "\"string\""
        },
        {
         "metadata": "{\"scale\":0}",
         "name": "fiscal_year_qtr",
         "type": "\"string\""
        }
       ],
       "type": "table"
      }
     },
     "output_type": "display_data"
    }
   ],
   "source": [
    "%sql\n",
    "SELECT * FROM sakila_dlh.dim_date LIMIT 5"
   ]
  },
  {
   "cell_type": "markdown",
   "metadata": {
    "application/vnd.databricks.v1+cell": {
     "cellMetadata": {
      "byteLimit": 2048000,
      "rowLimit": 10000
     },
     "inputWidgets": {},
     "nuid": "c15f580a-989b-4a6a-bf5c-e50d3a8d3885",
     "showTitle": false,
     "title": ""
    }
   },
   "source": [
    "##### 1.3. Create a New Table that Sources Films Dimension Data from an Azure MySQL database."
   ]
  },
  {
   "cell_type": "code",
   "execution_count": 0,
   "metadata": {
    "application/vnd.databricks.v1+cell": {
     "cellMetadata": {
      "byteLimit": 2048000,
      "implicitDf": true,
      "rowLimit": 10000
     },
     "inputWidgets": {},
     "nuid": "7bb46df0-4476-4cda-86a1-f4cf614113fa",
     "showTitle": false,
     "title": ""
    }
   },
   "outputs": [
    {
     "output_type": "display_data",
     "data": {
      "text/html": [
       "<style scoped>\n",
       "  .table-result-container {\n",
       "    max-height: 300px;\n",
       "    overflow: auto;\n",
       "  }\n",
       "  table, th, td {\n",
       "    border: 1px solid black;\n",
       "    border-collapse: collapse;\n",
       "  }\n",
       "  th, td {\n",
       "    padding: 5px;\n",
       "  }\n",
       "  th {\n",
       "    text-align: left;\n",
       "  }\n",
       "</style><div class='table-result-container'><table class='table-result'><thead style='background-color: white'><tr></tr></thead><tbody></tbody></table></div>"
      ]
     },
     "metadata": {
      "application/vnd.databricks.v1+output": {
       "addedWidgets": {},
       "aggData": [],
       "aggError": "",
       "aggOverflow": false,
       "aggSchema": [],
       "aggSeriesLimitReached": false,
       "aggType": "",
       "arguments": {},
       "columnCustomDisplayInfos": {},
       "data": [],
       "datasetInfos": [],
       "dbfsResultPath": null,
       "isJsonSchema": true,
       "metadata": {},
       "overflow": false,
       "plotOptions": {
        "customPlotOptions": {},
        "displayType": "table",
        "pivotAggregation": null,
        "pivotColumns": null,
        "xColumns": null,
        "yColumns": null
       },
       "removedWidgets": [],
       "schema": [],
       "type": "table"
      }
     },
     "output_type": "display_data"
    }
   ],
   "source": [
    "%sql\n",
    "-- Creates a Temporary View named \"view_films\" that extracts data from my MySQL Sakila database.\n",
    "CREATE OR REPLACE TEMPORARY VIEW view_films\n",
    "USING org.apache.spark.sql.jdbc\n",
    "OPTIONS (\n",
    "  url \"jdbc:mysql://ecm8yu-mysql.mysql.database.azure.com:3306/sakila_dw2\",\n",
    "  dbtable \"dim_films\",\n",
    "  user \"ecm8yu\",\n",
    "  password \"Passw0rd123\"\n",
    ")"
   ]
  },
  {
   "cell_type": "code",
   "execution_count": 0,
   "metadata": {
    "application/vnd.databricks.v1+cell": {
     "cellMetadata": {
      "byteLimit": 2048000,
      "implicitDf": true,
      "rowLimit": 10000
     },
     "inputWidgets": {},
     "nuid": "23d0585b-87f4-4f85-affa-3637c5e073f5",
     "showTitle": false,
     "title": ""
    }
   },
   "outputs": [
    {
     "output_type": "display_data",
     "data": {
      "text/html": [
       "<style scoped>\n",
       "  .table-result-container {\n",
       "    max-height: 300px;\n",
       "    overflow: auto;\n",
       "  }\n",
       "  table, th, td {\n",
       "    border: 1px solid black;\n",
       "    border-collapse: collapse;\n",
       "  }\n",
       "  th, td {\n",
       "    padding: 5px;\n",
       "  }\n",
       "  th {\n",
       "    text-align: left;\n",
       "  }\n",
       "</style><div class='table-result-container'><table class='table-result'><thead style='background-color: white'><tr><th>num_affected_rows</th><th>num_inserted_rows</th></tr></thead><tbody></tbody></table></div>"
      ]
     },
     "metadata": {
      "application/vnd.databricks.v1+output": {
       "addedWidgets": {},
       "aggData": [],
       "aggError": "",
       "aggOverflow": false,
       "aggSchema": [],
       "aggSeriesLimitReached": false,
       "aggType": "",
       "arguments": {},
       "columnCustomDisplayInfos": {},
       "data": [],
       "datasetInfos": [],
       "dbfsResultPath": null,
       "isJsonSchema": true,
       "metadata": {},
       "overflow": false,
       "plotOptions": {
        "customPlotOptions": {},
        "displayType": "table",
        "pivotAggregation": null,
        "pivotColumns": null,
        "xColumns": null,
        "yColumns": null
       },
       "removedWidgets": [],
       "schema": [
        {
         "metadata": "{}",
         "name": "num_affected_rows",
         "type": "\"long\""
        },
        {
         "metadata": "{}",
         "name": "num_inserted_rows",
         "type": "\"long\""
        }
       ],
       "type": "table"
      }
     },
     "output_type": "display_data"
    }
   ],
   "source": [
    "%sql\n",
    "USE DATABASE sakila_dlh;\n",
    "\n",
    "-- Creates a new table named \"sakila_dlh.dim_films\" using data from the view named \"view_films\"\n",
    "CREATE OR REPLACE TABLE sakila_dlh.dim_films\n",
    "COMMENT \"Films Dimension Table\"\n",
    "LOCATION \"dbfs:/FileStore/MassarelliEva-Capstone/sakila_dlh/dim_films\"\n",
    "AS SELECT * FROM view_films"
   ]
  },
  {
   "cell_type": "code",
   "execution_count": 0,
   "metadata": {
    "application/vnd.databricks.v1+cell": {
     "cellMetadata": {
      "byteLimit": 2048000,
      "implicitDf": true,
      "rowLimit": 10000
     },
     "inputWidgets": {},
     "nuid": "f6acafaa-98f3-4b1d-9e14-3466c82c1e6a",
     "showTitle": false,
     "title": ""
    }
   },
   "outputs": [
    {
     "output_type": "display_data",
     "data": {
      "text/html": [
       "<style scoped>\n",
       "  .table-result-container {\n",
       "    max-height: 300px;\n",
       "    overflow: auto;\n",
       "  }\n",
       "  table, th, td {\n",
       "    border: 1px solid black;\n",
       "    border-collapse: collapse;\n",
       "  }\n",
       "  th, td {\n",
       "    padding: 5px;\n",
       "  }\n",
       "  th {\n",
       "    text-align: left;\n",
       "  }\n",
       "</style><div class='table-result-container'><table class='table-result'><thead style='background-color: white'><tr><th>col_name</th><th>data_type</th><th>comment</th></tr></thead><tbody><tr><td>film_key</td><td>bigint</td><td>null</td></tr><tr><td>title</td><td>string</td><td>null</td></tr><tr><td>description</td><td>string</td><td>null</td></tr><tr><td>release_year</td><td>bigint</td><td>null</td></tr><tr><td>language_id</td><td>bigint</td><td>null</td></tr><tr><td>original_language_id</td><td>string</td><td>null</td></tr><tr><td>rental_duration</td><td>bigint</td><td>null</td></tr><tr><td>rental_rate</td><td>double</td><td>null</td></tr><tr><td>length</td><td>bigint</td><td>null</td></tr><tr><td>replacement_cost</td><td>double</td><td>null</td></tr><tr><td>rating</td><td>string</td><td>null</td></tr><tr><td>special_features</td><td>string</td><td>null</td></tr><tr><td></td><td></td><td></td></tr><tr><td># Detailed Table Information</td><td></td><td></td></tr><tr><td>Catalog</td><td>spark_catalog</td><td></td></tr><tr><td>Database</td><td>sakila_dlh</td><td></td></tr><tr><td>Table</td><td>dim_films</td><td></td></tr><tr><td>Type</td><td>EXTERNAL</td><td></td></tr><tr><td>Comment</td><td>Films Dimension Table</td><td></td></tr><tr><td>Location</td><td>dbfs:/FileStore/MassarelliEva-Capstone/sakila_dlh/dim_films</td><td></td></tr><tr><td>Provider</td><td>delta</td><td></td></tr><tr><td>Owner</td><td>root</td><td></td></tr><tr><td>Table Properties</td><td>[delta.minReaderVersion=1,delta.minWriterVersion=2]</td><td></td></tr></tbody></table></div>"
      ]
     },
     "metadata": {
      "application/vnd.databricks.v1+output": {
       "addedWidgets": {},
       "aggData": [],
       "aggError": "",
       "aggOverflow": false,
       "aggSchema": [],
       "aggSeriesLimitReached": false,
       "aggType": "",
       "arguments": {},
       "columnCustomDisplayInfos": {},
       "data": [
        [
         "film_key",
         "bigint",
         null
        ],
        [
         "title",
         "string",
         null
        ],
        [
         "description",
         "string",
         null
        ],
        [
         "release_year",
         "bigint",
         null
        ],
        [
         "language_id",
         "bigint",
         null
        ],
        [
         "original_language_id",
         "string",
         null
        ],
        [
         "rental_duration",
         "bigint",
         null
        ],
        [
         "rental_rate",
         "double",
         null
        ],
        [
         "length",
         "bigint",
         null
        ],
        [
         "replacement_cost",
         "double",
         null
        ],
        [
         "rating",
         "string",
         null
        ],
        [
         "special_features",
         "string",
         null
        ],
        [
         "",
         "",
         ""
        ],
        [
         "# Detailed Table Information",
         "",
         ""
        ],
        [
         "Catalog",
         "spark_catalog",
         ""
        ],
        [
         "Database",
         "sakila_dlh",
         ""
        ],
        [
         "Table",
         "dim_films",
         ""
        ],
        [
         "Type",
         "EXTERNAL",
         ""
        ],
        [
         "Comment",
         "Films Dimension Table",
         ""
        ],
        [
         "Location",
         "dbfs:/FileStore/MassarelliEva-Capstone/sakila_dlh/dim_films",
         ""
        ],
        [
         "Provider",
         "delta",
         ""
        ],
        [
         "Owner",
         "root",
         ""
        ],
        [
         "Table Properties",
         "[delta.minReaderVersion=1,delta.minWriterVersion=2]",
         ""
        ]
       ],
       "datasetInfos": [],
       "dbfsResultPath": null,
       "isJsonSchema": true,
       "metadata": {},
       "overflow": false,
       "plotOptions": {
        "customPlotOptions": {},
        "displayType": "table",
        "pivotAggregation": null,
        "pivotColumns": null,
        "xColumns": null,
        "yColumns": null
       },
       "removedWidgets": [],
       "schema": [
        {
         "metadata": "{\"comment\":\"name of the column\"}",
         "name": "col_name",
         "type": "\"string\""
        },
        {
         "metadata": "{\"comment\":\"data type of the column\"}",
         "name": "data_type",
         "type": "\"string\""
        },
        {
         "metadata": "{\"comment\":\"comment of the column\"}",
         "name": "comment",
         "type": "\"string\""
        }
       ],
       "type": "table"
      }
     },
     "output_type": "display_data"
    }
   ],
   "source": [
    "%sql\n",
    "DESCRIBE EXTENDED sakila_dlh.dim_films;"
   ]
  },
  {
   "cell_type": "code",
   "execution_count": 0,
   "metadata": {
    "application/vnd.databricks.v1+cell": {
     "cellMetadata": {
      "byteLimit": 2048000,
      "implicitDf": true,
      "rowLimit": 10000
     },
     "inputWidgets": {},
     "nuid": "fc516608-0ca2-4c2f-b390-e56aca76b87d",
     "showTitle": false,
     "title": ""
    }
   },
   "outputs": [
    {
     "output_type": "display_data",
     "data": {
      "text/html": [
       "<style scoped>\n",
       "  .table-result-container {\n",
       "    max-height: 300px;\n",
       "    overflow: auto;\n",
       "  }\n",
       "  table, th, td {\n",
       "    border: 1px solid black;\n",
       "    border-collapse: collapse;\n",
       "  }\n",
       "  th, td {\n",
       "    padding: 5px;\n",
       "  }\n",
       "  th {\n",
       "    text-align: left;\n",
       "  }\n",
       "</style><div class='table-result-container'><table class='table-result'><thead style='background-color: white'><tr><th>film_key</th><th>title</th><th>description</th><th>release_year</th><th>language_id</th><th>original_language_id</th><th>rental_duration</th><th>rental_rate</th><th>length</th><th>replacement_cost</th><th>rating</th><th>special_features</th></tr></thead><tbody><tr><td>1</td><td>ACADEMY DINOSAUR</td><td>A Epic Drama of a Feminist And a Mad Scientist who must Battle a Teacher in The Canadian Rockies</td><td>2006</td><td>1</td><td>null</td><td>6</td><td>0.99</td><td>86</td><td>20.99</td><td>PG</td><td>Deleted Scenes,Behind the Scenes</td></tr><tr><td>2</td><td>ACE GOLDFINGER</td><td>A Astounding Epistle of a Database Administrator And a Explorer who must Find a Car in Ancient China</td><td>2006</td><td>1</td><td>null</td><td>3</td><td>4.99</td><td>48</td><td>12.99</td><td>G</td><td>Trailers,Deleted Scenes</td></tr><tr><td>3</td><td>ADAPTATION HOLES</td><td>A Astounding Reflection of a Lumberjack And a Car who must Sink a Lumberjack in A Baloon Factory</td><td>2006</td><td>1</td><td>null</td><td>7</td><td>2.99</td><td>50</td><td>18.99</td><td>NC-17</td><td>Trailers,Deleted Scenes</td></tr><tr><td>4</td><td>AFFAIR PREJUDICE</td><td>A Fanciful Documentary of a Frisbee And a Lumberjack who must Chase a Monkey in A Shark Tank</td><td>2006</td><td>1</td><td>null</td><td>5</td><td>2.99</td><td>117</td><td>26.99</td><td>G</td><td>Commentaries,Behind the Scenes</td></tr><tr><td>5</td><td>AFRICAN EGG</td><td>A Fast-Paced Documentary of a Pastry Chef And a Dentist who must Pursue a Forensic Psychologist in The Gulf of Mexico</td><td>2006</td><td>1</td><td>null</td><td>6</td><td>2.99</td><td>130</td><td>22.99</td><td>G</td><td>Deleted Scenes</td></tr></tbody></table></div>"
      ]
     },
     "metadata": {
      "application/vnd.databricks.v1+output": {
       "addedWidgets": {},
       "aggData": [],
       "aggError": "",
       "aggOverflow": false,
       "aggSchema": [],
       "aggSeriesLimitReached": false,
       "aggType": "",
       "arguments": {},
       "columnCustomDisplayInfos": {},
       "data": [
        [
         1,
         "ACADEMY DINOSAUR",
         "A Epic Drama of a Feminist And a Mad Scientist who must Battle a Teacher in The Canadian Rockies",
         2006,
         1,
         null,
         6,
         0.99,
         86,
         20.99,
         "PG",
         "Deleted Scenes,Behind the Scenes"
        ],
        [
         2,
         "ACE GOLDFINGER",
         "A Astounding Epistle of a Database Administrator And a Explorer who must Find a Car in Ancient China",
         2006,
         1,
         null,
         3,
         4.99,
         48,
         12.99,
         "G",
         "Trailers,Deleted Scenes"
        ],
        [
         3,
         "ADAPTATION HOLES",
         "A Astounding Reflection of a Lumberjack And a Car who must Sink a Lumberjack in A Baloon Factory",
         2006,
         1,
         null,
         7,
         2.99,
         50,
         18.99,
         "NC-17",
         "Trailers,Deleted Scenes"
        ],
        [
         4,
         "AFFAIR PREJUDICE",
         "A Fanciful Documentary of a Frisbee And a Lumberjack who must Chase a Monkey in A Shark Tank",
         2006,
         1,
         null,
         5,
         2.99,
         117,
         26.99,
         "G",
         "Commentaries,Behind the Scenes"
        ],
        [
         5,
         "AFRICAN EGG",
         "A Fast-Paced Documentary of a Pastry Chef And a Dentist who must Pursue a Forensic Psychologist in The Gulf of Mexico",
         2006,
         1,
         null,
         6,
         2.99,
         130,
         22.99,
         "G",
         "Deleted Scenes"
        ]
       ],
       "datasetInfos": [],
       "dbfsResultPath": null,
       "isJsonSchema": true,
       "metadata": {},
       "overflow": false,
       "plotOptions": {
        "customPlotOptions": {},
        "displayType": "table",
        "pivotAggregation": null,
        "pivotColumns": null,
        "xColumns": null,
        "yColumns": null
       },
       "removedWidgets": [],
       "schema": [
        {
         "metadata": "{\"scale\":0}",
         "name": "film_key",
         "type": "\"long\""
        },
        {
         "metadata": "{\"scale\":0}",
         "name": "title",
         "type": "\"string\""
        },
        {
         "metadata": "{\"scale\":0}",
         "name": "description",
         "type": "\"string\""
        },
        {
         "metadata": "{\"scale\":0}",
         "name": "release_year",
         "type": "\"long\""
        },
        {
         "metadata": "{\"scale\":0}",
         "name": "language_id",
         "type": "\"long\""
        },
        {
         "metadata": "{\"scale\":0}",
         "name": "original_language_id",
         "type": "\"string\""
        },
        {
         "metadata": "{\"scale\":0}",
         "name": "rental_duration",
         "type": "\"long\""
        },
        {
         "metadata": "{\"scale\":31}",
         "name": "rental_rate",
         "type": "\"double\""
        },
        {
         "metadata": "{\"scale\":0}",
         "name": "length",
         "type": "\"long\""
        },
        {
         "metadata": "{\"scale\":31}",
         "name": "replacement_cost",
         "type": "\"double\""
        },
        {
         "metadata": "{\"scale\":0}",
         "name": "rating",
         "type": "\"string\""
        },
        {
         "metadata": "{\"scale\":0}",
         "name": "special_features",
         "type": "\"string\""
        }
       ],
       "type": "table"
      }
     },
     "output_type": "display_data"
    }
   ],
   "source": [
    "%sql\n",
    "SELECT * FROM sakila_dlh.dim_films LIMIT 5"
   ]
  },
  {
   "cell_type": "markdown",
   "metadata": {
    "application/vnd.databricks.v1+cell": {
     "cellMetadata": {
      "byteLimit": 2048000,
      "rowLimit": 10000
     },
     "inputWidgets": {},
     "nuid": "c2c10820-179a-44a2-a9a4-4c66b5e6090d",
     "showTitle": false,
     "title": ""
    }
   },
   "source": [
    "##### 1.4. Create a New Table that Sources Rental Dimension Data from an Azure MySQL database."
   ]
  },
  {
   "cell_type": "code",
   "execution_count": 0,
   "metadata": {
    "application/vnd.databricks.v1+cell": {
     "cellMetadata": {
      "byteLimit": 2048000,
      "implicitDf": true,
      "rowLimit": 10000
     },
     "inputWidgets": {},
     "nuid": "99c83daa-e28a-4081-897a-ea9edc0c10eb",
     "showTitle": false,
     "title": ""
    }
   },
   "outputs": [
    {
     "output_type": "display_data",
     "data": {
      "text/html": [
       "<style scoped>\n",
       "  .table-result-container {\n",
       "    max-height: 300px;\n",
       "    overflow: auto;\n",
       "  }\n",
       "  table, th, td {\n",
       "    border: 1px solid black;\n",
       "    border-collapse: collapse;\n",
       "  }\n",
       "  th, td {\n",
       "    padding: 5px;\n",
       "  }\n",
       "  th {\n",
       "    text-align: left;\n",
       "  }\n",
       "</style><div class='table-result-container'><table class='table-result'><thead style='background-color: white'><tr></tr></thead><tbody></tbody></table></div>"
      ]
     },
     "metadata": {
      "application/vnd.databricks.v1+output": {
       "addedWidgets": {},
       "aggData": [],
       "aggError": "",
       "aggOverflow": false,
       "aggSchema": [],
       "aggSeriesLimitReached": false,
       "aggType": "",
       "arguments": {},
       "columnCustomDisplayInfos": {},
       "data": [],
       "datasetInfos": [],
       "dbfsResultPath": null,
       "isJsonSchema": true,
       "metadata": {},
       "overflow": false,
       "plotOptions": {
        "customPlotOptions": {},
        "displayType": "table",
        "pivotAggregation": null,
        "pivotColumns": null,
        "xColumns": null,
        "yColumns": null
       },
       "removedWidgets": [],
       "schema": [],
       "type": "table"
      }
     },
     "output_type": "display_data"
    }
   ],
   "source": [
    "%sql\n",
    "-- Creates a Temporary View named \"view_rentals\" that extracts data from my MySQL Sakila database.\n",
    "CREATE OR REPLACE TEMPORARY VIEW view_rentals\n",
    "USING org.apache.spark.sql.jdbc\n",
    "OPTIONS (\n",
    "  url \"jdbc:mysql://ecm8yu-mysql.mysql.database.azure.com:3306/sakila_dw2\",\n",
    "  dbtable \"dim_rentals\",\n",
    "  user \"ecm8yu\",\n",
    "  password \"Passw0rd123\"\n",
    ")"
   ]
  },
  {
   "cell_type": "code",
   "execution_count": 0,
   "metadata": {
    "application/vnd.databricks.v1+cell": {
     "cellMetadata": {
      "byteLimit": 2048000,
      "implicitDf": true,
      "rowLimit": 10000
     },
     "inputWidgets": {},
     "nuid": "8b322a47-30df-4785-aa2a-30b73b56f16e",
     "showTitle": false,
     "title": ""
    }
   },
   "outputs": [
    {
     "output_type": "display_data",
     "data": {
      "text/html": [
       "<style scoped>\n",
       "  .table-result-container {\n",
       "    max-height: 300px;\n",
       "    overflow: auto;\n",
       "  }\n",
       "  table, th, td {\n",
       "    border: 1px solid black;\n",
       "    border-collapse: collapse;\n",
       "  }\n",
       "  th, td {\n",
       "    padding: 5px;\n",
       "  }\n",
       "  th {\n",
       "    text-align: left;\n",
       "  }\n",
       "</style><div class='table-result-container'><table class='table-result'><thead style='background-color: white'><tr><th>num_affected_rows</th><th>num_inserted_rows</th></tr></thead><tbody></tbody></table></div>"
      ]
     },
     "metadata": {
      "application/vnd.databricks.v1+output": {
       "addedWidgets": {},
       "aggData": [],
       "aggError": "",
       "aggOverflow": false,
       "aggSchema": [],
       "aggSeriesLimitReached": false,
       "aggType": "",
       "arguments": {},
       "columnCustomDisplayInfos": {},
       "data": [],
       "datasetInfos": [],
       "dbfsResultPath": null,
       "isJsonSchema": true,
       "metadata": {},
       "overflow": false,
       "plotOptions": {
        "customPlotOptions": {},
        "displayType": "table",
        "pivotAggregation": null,
        "pivotColumns": null,
        "xColumns": null,
        "yColumns": null
       },
       "removedWidgets": [],
       "schema": [
        {
         "metadata": "{}",
         "name": "num_affected_rows",
         "type": "\"long\""
        },
        {
         "metadata": "{}",
         "name": "num_inserted_rows",
         "type": "\"long\""
        }
       ],
       "type": "table"
      }
     },
     "output_type": "display_data"
    }
   ],
   "source": [
    "%sql\n",
    "USE DATABASE sakila_dlh;\n",
    "\n",
    "-- Creates a new table named \"sakila_dlh.dim_rentals\" using data from the view named \"view_rentals\"\n",
    "CREATE OR REPLACE TABLE sakila_dlh.dim_rentals\n",
    "COMMENT \"Rentals Dimension Table\"\n",
    "LOCATION \"dbfs:/FileStore/MassarelliEva-Capstone/sakila_dlh/dim_rentals\"\n",
    "AS SELECT * FROM view_rentals"
   ]
  },
  {
   "cell_type": "code",
   "execution_count": 0,
   "metadata": {
    "application/vnd.databricks.v1+cell": {
     "cellMetadata": {
      "byteLimit": 2048000,
      "implicitDf": true,
      "rowLimit": 10000
     },
     "inputWidgets": {},
     "nuid": "a9f6e4d8-0dbd-4e3b-abe9-fc3a4162d0e4",
     "showTitle": false,
     "title": ""
    }
   },
   "outputs": [
    {
     "output_type": "display_data",
     "data": {
      "text/html": [
       "<style scoped>\n",
       "  .table-result-container {\n",
       "    max-height: 300px;\n",
       "    overflow: auto;\n",
       "  }\n",
       "  table, th, td {\n",
       "    border: 1px solid black;\n",
       "    border-collapse: collapse;\n",
       "  }\n",
       "  th, td {\n",
       "    padding: 5px;\n",
       "  }\n",
       "  th {\n",
       "    text-align: left;\n",
       "  }\n",
       "</style><div class='table-result-container'><table class='table-result'><thead style='background-color: white'><tr><th>col_name</th><th>data_type</th><th>comment</th></tr></thead><tbody><tr><td>rental_key</td><td>bigint</td><td>null</td></tr><tr><td>rental_date</td><td>string</td><td>null</td></tr><tr><td>inventory_id</td><td>bigint</td><td>null</td></tr><tr><td>customer_id</td><td>bigint</td><td>null</td></tr><tr><td>return_date</td><td>string</td><td>null</td></tr><tr><td>staff_id</td><td>bigint</td><td>null</td></tr><tr><td></td><td></td><td></td></tr><tr><td># Detailed Table Information</td><td></td><td></td></tr><tr><td>Catalog</td><td>spark_catalog</td><td></td></tr><tr><td>Database</td><td>sakila_dlh</td><td></td></tr><tr><td>Table</td><td>dim_rentals</td><td></td></tr><tr><td>Type</td><td>EXTERNAL</td><td></td></tr><tr><td>Comment</td><td>Rentals Dimension Table</td><td></td></tr><tr><td>Location</td><td>dbfs:/FileStore/MassarelliEva-Capstone/sakila_dlh/dim_rentals</td><td></td></tr><tr><td>Provider</td><td>delta</td><td></td></tr><tr><td>Owner</td><td>root</td><td></td></tr><tr><td>Table Properties</td><td>[delta.minReaderVersion=1,delta.minWriterVersion=2]</td><td></td></tr></tbody></table></div>"
      ]
     },
     "metadata": {
      "application/vnd.databricks.v1+output": {
       "addedWidgets": {},
       "aggData": [],
       "aggError": "",
       "aggOverflow": false,
       "aggSchema": [],
       "aggSeriesLimitReached": false,
       "aggType": "",
       "arguments": {},
       "columnCustomDisplayInfos": {},
       "data": [
        [
         "rental_key",
         "bigint",
         null
        ],
        [
         "rental_date",
         "string",
         null
        ],
        [
         "inventory_id",
         "bigint",
         null
        ],
        [
         "customer_id",
         "bigint",
         null
        ],
        [
         "return_date",
         "string",
         null
        ],
        [
         "staff_id",
         "bigint",
         null
        ],
        [
         "",
         "",
         ""
        ],
        [
         "# Detailed Table Information",
         "",
         ""
        ],
        [
         "Catalog",
         "spark_catalog",
         ""
        ],
        [
         "Database",
         "sakila_dlh",
         ""
        ],
        [
         "Table",
         "dim_rentals",
         ""
        ],
        [
         "Type",
         "EXTERNAL",
         ""
        ],
        [
         "Comment",
         "Rentals Dimension Table",
         ""
        ],
        [
         "Location",
         "dbfs:/FileStore/MassarelliEva-Capstone/sakila_dlh/dim_rentals",
         ""
        ],
        [
         "Provider",
         "delta",
         ""
        ],
        [
         "Owner",
         "root",
         ""
        ],
        [
         "Table Properties",
         "[delta.minReaderVersion=1,delta.minWriterVersion=2]",
         ""
        ]
       ],
       "datasetInfos": [],
       "dbfsResultPath": null,
       "isJsonSchema": true,
       "metadata": {},
       "overflow": false,
       "plotOptions": {
        "customPlotOptions": {},
        "displayType": "table",
        "pivotAggregation": null,
        "pivotColumns": null,
        "xColumns": null,
        "yColumns": null
       },
       "removedWidgets": [],
       "schema": [
        {
         "metadata": "{\"comment\":\"name of the column\"}",
         "name": "col_name",
         "type": "\"string\""
        },
        {
         "metadata": "{\"comment\":\"data type of the column\"}",
         "name": "data_type",
         "type": "\"string\""
        },
        {
         "metadata": "{\"comment\":\"comment of the column\"}",
         "name": "comment",
         "type": "\"string\""
        }
       ],
       "type": "table"
      }
     },
     "output_type": "display_data"
    }
   ],
   "source": [
    "%sql\n",
    "DESCRIBE EXTENDED sakila_dlh.dim_rentals;"
   ]
  },
  {
   "cell_type": "code",
   "execution_count": 0,
   "metadata": {
    "application/vnd.databricks.v1+cell": {
     "cellMetadata": {
      "byteLimit": 2048000,
      "implicitDf": true,
      "rowLimit": 10000
     },
     "inputWidgets": {},
     "nuid": "9f25ef28-2f00-4ecf-a739-28c8d5727bdc",
     "showTitle": false,
     "title": ""
    }
   },
   "outputs": [
    {
     "output_type": "display_data",
     "data": {
      "text/html": [
       "<style scoped>\n",
       "  .table-result-container {\n",
       "    max-height: 300px;\n",
       "    overflow: auto;\n",
       "  }\n",
       "  table, th, td {\n",
       "    border: 1px solid black;\n",
       "    border-collapse: collapse;\n",
       "  }\n",
       "  th, td {\n",
       "    padding: 5px;\n",
       "  }\n",
       "  th {\n",
       "    text-align: left;\n",
       "  }\n",
       "</style><div class='table-result-container'><table class='table-result'><thead style='background-color: white'><tr><th>rental_key</th><th>rental_date</th><th>inventory_id</th><th>customer_id</th><th>return_date</th><th>staff_id</th></tr></thead><tbody><tr><td>1</td><td>2005-05-24 22:53:30</td><td>367</td><td>130</td><td>2005-05-26 22:04:30</td><td>1</td></tr><tr><td>2</td><td>2005-05-24 22:54:33</td><td>1525</td><td>459</td><td>2005-05-28 19:40:33</td><td>1</td></tr><tr><td>3</td><td>2005-05-24 23:03:39</td><td>1711</td><td>408</td><td>2005-06-01 22:12:39</td><td>1</td></tr><tr><td>4</td><td>2005-05-24 23:04:41</td><td>2452</td><td>333</td><td>2005-06-03 01:43:41</td><td>2</td></tr><tr><td>5</td><td>2005-05-24 23:05:21</td><td>2079</td><td>222</td><td>2005-06-02 04:33:21</td><td>1</td></tr></tbody></table></div>"
      ]
     },
     "metadata": {
      "application/vnd.databricks.v1+output": {
       "addedWidgets": {},
       "aggData": [],
       "aggError": "",
       "aggOverflow": false,
       "aggSchema": [],
       "aggSeriesLimitReached": false,
       "aggType": "",
       "arguments": {},
       "columnCustomDisplayInfos": {},
       "data": [
        [
         1,
         "2005-05-24 22:53:30",
         367,
         130,
         "2005-05-26 22:04:30",
         1
        ],
        [
         2,
         "2005-05-24 22:54:33",
         1525,
         459,
         "2005-05-28 19:40:33",
         1
        ],
        [
         3,
         "2005-05-24 23:03:39",
         1711,
         408,
         "2005-06-01 22:12:39",
         1
        ],
        [
         4,
         "2005-05-24 23:04:41",
         2452,
         333,
         "2005-06-03 01:43:41",
         2
        ],
        [
         5,
         "2005-05-24 23:05:21",
         2079,
         222,
         "2005-06-02 04:33:21",
         1
        ]
       ],
       "datasetInfos": [],
       "dbfsResultPath": null,
       "isJsonSchema": true,
       "metadata": {},
       "overflow": false,
       "plotOptions": {
        "customPlotOptions": {},
        "displayType": "table",
        "pivotAggregation": null,
        "pivotColumns": null,
        "xColumns": null,
        "yColumns": null
       },
       "removedWidgets": [],
       "schema": [
        {
         "metadata": "{\"scale\":0}",
         "name": "rental_key",
         "type": "\"long\""
        },
        {
         "metadata": "{\"scale\":0}",
         "name": "rental_date",
         "type": "\"string\""
        },
        {
         "metadata": "{\"scale\":0}",
         "name": "inventory_id",
         "type": "\"long\""
        },
        {
         "metadata": "{\"scale\":0}",
         "name": "customer_id",
         "type": "\"long\""
        },
        {
         "metadata": "{\"scale\":0}",
         "name": "return_date",
         "type": "\"string\""
        },
        {
         "metadata": "{\"scale\":0}",
         "name": "staff_id",
         "type": "\"long\""
        }
       ],
       "type": "table"
      }
     },
     "output_type": "display_data"
    }
   ],
   "source": [
    "%sql\n",
    "SELECT * FROM sakila_dlh.dim_rentals LIMIT 5"
   ]
  },
  {
   "cell_type": "markdown",
   "metadata": {
    "application/vnd.databricks.v1+cell": {
     "cellMetadata": {
      "byteLimit": 2048000,
      "rowLimit": 10000
     },
     "inputWidgets": {},
     "nuid": "5763da8c-b2df-4cfa-83e6-0e05503ddce0",
     "showTitle": false,
     "title": ""
    }
   },
   "source": [
    "#### 2.0. Fetch Reference Data from a MongoDB Atlas Database (NoSQL Database Source)\n",
    "##### 2.1. View the Data Files on the Databricks File System"
   ]
  },
  {
   "cell_type": "code",
   "execution_count": 0,
   "metadata": {
    "application/vnd.databricks.v1+cell": {
     "cellMetadata": {
      "byteLimit": 2048000,
      "rowLimit": 10000
     },
     "inputWidgets": {},
     "nuid": "fcd0ce73-5fc9-48b1-9ee8-0ffaf402407f",
     "showTitle": false,
     "title": ""
    }
   },
   "outputs": [
    {
     "output_type": "display_data",
     "data": {
      "text/html": [
       "<style scoped>\n",
       "  .table-result-container {\n",
       "    max-height: 300px;\n",
       "    overflow: auto;\n",
       "  }\n",
       "  table, th, td {\n",
       "    border: 1px solid black;\n",
       "    border-collapse: collapse;\n",
       "  }\n",
       "  th, td {\n",
       "    padding: 5px;\n",
       "  }\n",
       "  th {\n",
       "    text-align: left;\n",
       "  }\n",
       "</style><div class='table-result-container'><table class='table-result'><thead style='background-color: white'><tr><th>path</th><th>name</th><th>size</th><th>modificationTime</th></tr></thead><tbody><tr><td>dbfs:/FileStore/MassarelliEva-Capstone/source_data/batch/Sakila_DimCustomers.json</td><td>Sakila_DimCustomers.json</td><td>111654</td><td>1682984154000</td></tr><tr><td>dbfs:/FileStore/MassarelliEva-Capstone/source_data/batch/Sakila_DimFilms.json</td><td>Sakila_DimFilms.json</td><td>422531</td><td>1682984154000</td></tr><tr><td>dbfs:/FileStore/MassarelliEva-Capstone/source_data/batch/Sakila_DimInventory.csv</td><td>Sakila_DimInventory.csv</td><td>9429</td><td>1682984154000</td></tr><tr><td>dbfs:/FileStore/MassarelliEva-Capstone/source_data/batch/Sakila_DimPayments.csv</td><td>Sakila_DimPayments.csv</td><td>30010</td><td>1682984155000</td></tr><tr><td>dbfs:/FileStore/MassarelliEva-Capstone/source_data/batch/Sakila_DimStaff.json</td><td>Sakila_DimStaff.json</td><td>478</td><td>1682984155000</td></tr><tr><td>dbfs:/FileStore/MassarelliEva-Capstone/source_data/batch/Sakila_DimStores.csv</td><td>Sakila_DimStores.csv</td><td>50</td><td>1682984155000</td></tr></tbody></table></div>"
      ]
     },
     "metadata": {
      "application/vnd.databricks.v1+output": {
       "addedWidgets": {},
       "aggData": [],
       "aggError": "",
       "aggOverflow": false,
       "aggSchema": [],
       "aggSeriesLimitReached": false,
       "aggType": "",
       "arguments": {},
       "columnCustomDisplayInfos": {},
       "data": [
        [
         "dbfs:/FileStore/MassarelliEva-Capstone/source_data/batch/Sakila_DimCustomers.json",
         "Sakila_DimCustomers.json",
         111654,
         1682984154000
        ],
        [
         "dbfs:/FileStore/MassarelliEva-Capstone/source_data/batch/Sakila_DimFilms.json",
         "Sakila_DimFilms.json",
         422531,
         1682984154000
        ],
        [
         "dbfs:/FileStore/MassarelliEva-Capstone/source_data/batch/Sakila_DimInventory.csv",
         "Sakila_DimInventory.csv",
         9429,
         1682984154000
        ],
        [
         "dbfs:/FileStore/MassarelliEva-Capstone/source_data/batch/Sakila_DimPayments.csv",
         "Sakila_DimPayments.csv",
         30010,
         1682984155000
        ],
        [
         "dbfs:/FileStore/MassarelliEva-Capstone/source_data/batch/Sakila_DimStaff.json",
         "Sakila_DimStaff.json",
         478,
         1682984155000
        ],
        [
         "dbfs:/FileStore/MassarelliEva-Capstone/source_data/batch/Sakila_DimStores.csv",
         "Sakila_DimStores.csv",
         50,
         1682984155000
        ]
       ],
       "datasetInfos": [],
       "dbfsResultPath": null,
       "isJsonSchema": true,
       "metadata": {},
       "overflow": false,
       "plotOptions": {
        "customPlotOptions": {},
        "displayType": "table",
        "pivotAggregation": null,
        "pivotColumns": null,
        "xColumns": null,
        "yColumns": null
       },
       "removedWidgets": [],
       "schema": [
        {
         "metadata": "{}",
         "name": "path",
         "type": "\"string\""
        },
        {
         "metadata": "{}",
         "name": "name",
         "type": "\"string\""
        },
        {
         "metadata": "{}",
         "name": "size",
         "type": "\"long\""
        },
        {
         "metadata": "{}",
         "name": "modificationTime",
         "type": "\"long\""
        }
       ],
       "type": "table"
      }
     },
     "output_type": "display_data"
    }
   ],
   "source": [
    "display(dbutils.fs.ls(batch_dir))"
   ]
  },
  {
   "cell_type": "markdown",
   "metadata": {
    "application/vnd.databricks.v1+cell": {
     "cellMetadata": {
      "byteLimit": 2048000,
      "rowLimit": 10000
     },
     "inputWidgets": {},
     "nuid": "0e943953-1c04-43a3-b117-01980bfefbf9",
     "showTitle": false,
     "title": ""
    }
   },
   "source": [
    "##### 2.2. Create a New MongoDB Database, and Load JSON Data Into a New MongoDB Collection\n",
    "**NOTE:** The following cell **can** be run more than once because the **set_mongo_collection()** function **is** idempotent."
   ]
  },
  {
   "cell_type": "code",
   "execution_count": 0,
   "metadata": {
    "application/vnd.databricks.v1+cell": {
     "cellMetadata": {
      "byteLimit": 2048000,
      "rowLimit": 10000
     },
     "inputWidgets": {},
     "nuid": "12764988-6562-4070-af68-697ca403bfe3",
     "showTitle": false,
     "title": ""
    }
   },
   "outputs": [
    {
     "output_type": "stream",
     "name": "stdout",
     "output_type": "stream",
     "text": [
      "Out[27]: <pymongo.results.InsertManyResult at 0x7f65100c3e80>"
     ]
    }
   ],
   "source": [
    "source_dir = '/dbfs/FileStore/MassarelliEva-Capstone/source_data/batch'\n",
    "json_files = {\"customers\" : 'Sakila_DimCustomers.json', \"staff\" : 'Sakila_DimStaff.json'}\n",
    "\n",
    "set_mongo_collection(atlas_user_name, atlas_password, atlas_cluster_name, atlas_database_name, source_dir, json_files) "
   ]
  },
  {
   "cell_type": "markdown",
   "metadata": {
    "application/vnd.databricks.v1+cell": {
     "cellMetadata": {
      "byteLimit": 2048000,
      "rowLimit": 10000
     },
     "inputWidgets": {},
     "nuid": "675d2e83-b51d-48ef-937d-f8beacb86fb6",
     "showTitle": false,
     "title": ""
    }
   },
   "source": [
    "##### 2.3.1. Fetch Customer Dimension Data from the New MongoDB Collection"
   ]
  },
  {
   "cell_type": "code",
   "execution_count": 0,
   "metadata": {
    "application/vnd.databricks.v1+cell": {
     "cellMetadata": {
      "byteLimit": 2048000,
      "rowLimit": 10000
     },
     "inputWidgets": {},
     "nuid": "c5029015-be65-49ed-b2e7-eb60d22013ca",
     "showTitle": false,
     "title": ""
    }
   },
   "outputs": [
    {
     "output_type": "display_data",
     "data": {
      "text/html": [
       "<style scoped>\n",
       "  .table-result-container {\n",
       "    max-height: 300px;\n",
       "    overflow: auto;\n",
       "  }\n",
       "  table, th, td {\n",
       "    border: 1px solid black;\n",
       "    border-collapse: collapse;\n",
       "  }\n",
       "  th, td {\n",
       "    padding: 5px;\n",
       "  }\n",
       "  th {\n",
       "    text-align: left;\n",
       "  }\n",
       "</style><div class='table-result-container'><table class='table-result'><thead style='background-color: white'><tr><th>customer_key</th><th>store_id</th><th>first_name</th><th>last_name</th><th>email</th><th>address_id</th><th>active</th></tr></thead><tbody><tr><td>1</td><td>1</td><td>MARY</td><td>SMITH</td><td>MARY.SMITH@sakilacustomer.org</td><td>5</td><td>1</td></tr><tr><td>2</td><td>1</td><td>PATRICIA</td><td>JOHNSON</td><td>PATRICIA.JOHNSON@sakilacustomer.org</td><td>6</td><td>1</td></tr><tr><td>3</td><td>1</td><td>LINDA</td><td>WILLIAMS</td><td>LINDA.WILLIAMS@sakilacustomer.org</td><td>7</td><td>1</td></tr><tr><td>4</td><td>2</td><td>BARBARA</td><td>JONES</td><td>BARBARA.JONES@sakilacustomer.org</td><td>8</td><td>1</td></tr><tr><td>5</td><td>1</td><td>ELIZABETH</td><td>BROWN</td><td>ELIZABETH.BROWN@sakilacustomer.org</td><td>9</td><td>1</td></tr><tr><td>6</td><td>2</td><td>JENNIFER</td><td>DAVIS</td><td>JENNIFER.DAVIS@sakilacustomer.org</td><td>10</td><td>1</td></tr><tr><td>7</td><td>1</td><td>MARIA</td><td>MILLER</td><td>MARIA.MILLER@sakilacustomer.org</td><td>11</td><td>1</td></tr><tr><td>8</td><td>2</td><td>SUSAN</td><td>WILSON</td><td>SUSAN.WILSON@sakilacustomer.org</td><td>12</td><td>1</td></tr><tr><td>9</td><td>2</td><td>MARGARET</td><td>MOORE</td><td>MARGARET.MOORE@sakilacustomer.org</td><td>13</td><td>1</td></tr><tr><td>10</td><td>1</td><td>DOROTHY</td><td>TAYLOR</td><td>DOROTHY.TAYLOR@sakilacustomer.org</td><td>14</td><td>1</td></tr></tbody></table></div>"
      ]
     },
     "metadata": {
      "application/vnd.databricks.v1+output": {
       "addedWidgets": {},
       "aggData": [],
       "aggError": "",
       "aggOverflow": false,
       "aggSchema": [],
       "aggSeriesLimitReached": false,
       "aggType": "",
       "arguments": {},
       "columnCustomDisplayInfos": {},
       "data": [
        [
         1,
         1,
         "MARY",
         "SMITH",
         "MARY.SMITH@sakilacustomer.org",
         5,
         1
        ],
        [
         2,
         1,
         "PATRICIA",
         "JOHNSON",
         "PATRICIA.JOHNSON@sakilacustomer.org",
         6,
         1
        ],
        [
         3,
         1,
         "LINDA",
         "WILLIAMS",
         "LINDA.WILLIAMS@sakilacustomer.org",
         7,
         1
        ],
        [
         4,
         2,
         "BARBARA",
         "JONES",
         "BARBARA.JONES@sakilacustomer.org",
         8,
         1
        ],
        [
         5,
         1,
         "ELIZABETH",
         "BROWN",
         "ELIZABETH.BROWN@sakilacustomer.org",
         9,
         1
        ],
        [
         6,
         2,
         "JENNIFER",
         "DAVIS",
         "JENNIFER.DAVIS@sakilacustomer.org",
         10,
         1
        ],
        [
         7,
         1,
         "MARIA",
         "MILLER",
         "MARIA.MILLER@sakilacustomer.org",
         11,
         1
        ],
        [
         8,
         2,
         "SUSAN",
         "WILSON",
         "SUSAN.WILSON@sakilacustomer.org",
         12,
         1
        ],
        [
         9,
         2,
         "MARGARET",
         "MOORE",
         "MARGARET.MOORE@sakilacustomer.org",
         13,
         1
        ],
        [
         10,
         1,
         "DOROTHY",
         "TAYLOR",
         "DOROTHY.TAYLOR@sakilacustomer.org",
         14,
         1
        ]
       ],
       "datasetInfos": [
        {
         "name": "df_customer",
         "schema": {
          "fields": [
           {
            "metadata": {},
            "name": "customer_key",
            "nullable": true,
            "type": "integer"
           },
           {
            "metadata": {},
            "name": "store_id",
            "nullable": true,
            "type": "integer"
           },
           {
            "metadata": {},
            "name": "first_name",
            "nullable": true,
            "type": "string"
           },
           {
            "metadata": {},
            "name": "last_name",
            "nullable": true,
            "type": "string"
           },
           {
            "metadata": {},
            "name": "email",
            "nullable": true,
            "type": "string"
           },
           {
            "metadata": {},
            "name": "address_id",
            "nullable": true,
            "type": "integer"
           },
           {
            "metadata": {},
            "name": "active",
            "nullable": true,
            "type": "integer"
           }
          ],
          "type": "struct"
         },
         "tableIdentifier": null,
         "typeStr": "org.apache.spark.sql.DataFrame"
        }
       ],
       "dbfsResultPath": null,
       "isJsonSchema": true,
       "metadata": {
        "isDbfsCommandResult": false
       },
       "overflow": false,
       "plotOptions": {
        "customPlotOptions": {},
        "displayType": "table",
        "pivotAggregation": null,
        "pivotColumns": null,
        "xColumns": null,
        "yColumns": null
       },
       "removedWidgets": [],
       "schema": [
        {
         "metadata": "{}",
         "name": "customer_key",
         "type": "\"integer\""
        },
        {
         "metadata": "{}",
         "name": "store_id",
         "type": "\"integer\""
        },
        {
         "metadata": "{}",
         "name": "first_name",
         "type": "\"string\""
        },
        {
         "metadata": "{}",
         "name": "last_name",
         "type": "\"string\""
        },
        {
         "metadata": "{}",
         "name": "email",
         "type": "\"string\""
        },
        {
         "metadata": "{}",
         "name": "address_id",
         "type": "\"integer\""
        },
        {
         "metadata": "{}",
         "name": "active",
         "type": "\"integer\""
        }
       ],
       "type": "table"
      }
     },
     "output_type": "display_data"
    }
   ],
   "source": [
    "%scala\n",
    "import com.mongodb.spark._\n",
    "\n",
    "val df_customer = spark.read.format(\"com.mongodb.spark.sql.DefaultSource\")\n",
    ".option(\"database\", \"sakila_dw2\").option(\"collection\", \"customers\").load()\n",
    ".select(\"customer_key\",\"store_id\",\"first_name\",\"last_name\",\"email\",\"address_id\",\"active\")\n",
    "\n",
    "display(df_customer.limit(10))"
   ]
  },
  {
   "cell_type": "code",
   "execution_count": 0,
   "metadata": {
    "application/vnd.databricks.v1+cell": {
     "cellMetadata": {
      "byteLimit": 2048000,
      "rowLimit": 10000
     },
     "inputWidgets": {},
     "nuid": "4d62a4b0-3071-400f-8bbb-5a89f3c91d5c",
     "showTitle": false,
     "title": ""
    }
   },
   "outputs": [
    {
     "output_type": "display_data",
     "data": {
      "text/html": [
       "<style scoped>\n",
       "  .ansiout {\n",
       "    display: block;\n",
       "    unicode-bidi: embed;\n",
       "    white-space: pre-wrap;\n",
       "    word-wrap: break-word;\n",
       "    word-break: break-all;\n",
       "    font-family: \"Source Code Pro\", \"Menlo\", monospace;;\n",
       "    font-size: 13px;\n",
       "    color: #555;\n",
       "    margin-left: 4px;\n",
       "    line-height: 19px;\n",
       "  }\n",
       "</style>\n",
       "<div class=\"ansiout\">root\n",
       "-- customer_key: integer (nullable = true)\n",
       "-- store_id: integer (nullable = true)\n",
       "-- first_name: string (nullable = true)\n",
       "-- last_name: string (nullable = true)\n",
       "-- email: string (nullable = true)\n",
       "-- address_id: integer (nullable = true)\n",
       "-- active: integer (nullable = true)\n",
       "\n",
       "</div>"
      ]
     },
     "metadata": {
      "application/vnd.databricks.v1+output": {
       "addedWidgets": {},
       "arguments": {},
       "data": "<div class=\"ansiout\">root\n |-- customer_key: integer (nullable = true)\n |-- store_id: integer (nullable = true)\n |-- first_name: string (nullable = true)\n |-- last_name: string (nullable = true)\n |-- email: string (nullable = true)\n |-- address_id: integer (nullable = true)\n |-- active: integer (nullable = true)\n\n</div>",
       "datasetInfos": [],
       "metadata": {
        "isDbfsCommandResult": false
       },
       "removedWidgets": [],
       "type": "html"
      }
     },
     "output_type": "display_data"
    }
   ],
   "source": [
    "%scala\n",
    "df_customer.printSchema()"
   ]
  },
  {
   "cell_type": "markdown",
   "metadata": {
    "application/vnd.databricks.v1+cell": {
     "cellMetadata": {
      "byteLimit": 2048000,
      "rowLimit": 10000
     },
     "inputWidgets": {},
     "nuid": "179f0875-98bd-4988-bfa5-af82d0181eb6",
     "showTitle": false,
     "title": ""
    }
   },
   "source": [
    "##### 2.3.2. Use the Spark DataFrame to Create a New Customer Dimension Table in the Databricks Metadata Database (sakila_dlh)"
   ]
  },
  {
   "cell_type": "code",
   "execution_count": 0,
   "metadata": {
    "application/vnd.databricks.v1+cell": {
     "cellMetadata": {
      "byteLimit": 2048000,
      "rowLimit": 10000
     },
     "inputWidgets": {},
     "nuid": "2de15218-dfa0-4ec1-ab3f-243d650b86b4",
     "showTitle": false,
     "title": ""
    }
   },
   "outputs": [
    {
     "output_type": "display_data",
     "data": {
      "text/html": [
       "<style scoped>\n",
       "  .ansiout {\n",
       "    display: block;\n",
       "    unicode-bidi: embed;\n",
       "    white-space: pre-wrap;\n",
       "    word-wrap: break-word;\n",
       "    word-break: break-all;\n",
       "    font-family: \"Source Code Pro\", \"Menlo\", monospace;;\n",
       "    font-size: 13px;\n",
       "    color: #555;\n",
       "    margin-left: 4px;\n",
       "    line-height: 19px;\n",
       "  }\n",
       "</style>\n",
       "<div class=\"ansiout\"></div>"
      ]
     },
     "metadata": {
      "application/vnd.databricks.v1+output": {
       "addedWidgets": {},
       "arguments": {},
       "data": "<div class=\"ansiout\"></div>",
       "datasetInfos": [],
       "metadata": {
        "isDbfsCommandResult": false
       },
       "removedWidgets": [],
       "type": "html"
      }
     },
     "output_type": "display_data"
    }
   ],
   "source": [
    "%scala\n",
    "df_customer.write.format(\"delta\").mode(\"overwrite\").saveAsTable(\"sakila_dlh.dim_customer\")"
   ]
  },
  {
   "cell_type": "code",
   "execution_count": 0,
   "metadata": {
    "application/vnd.databricks.v1+cell": {
     "cellMetadata": {
      "byteLimit": 2048000,
      "implicitDf": true,
      "rowLimit": 10000
     },
     "inputWidgets": {},
     "nuid": "62999814-4e3e-4bb1-aac1-7ef79266c22d",
     "showTitle": false,
     "title": ""
    }
   },
   "outputs": [
    {
     "output_type": "display_data",
     "data": {
      "text/html": [
       "<style scoped>\n",
       "  .table-result-container {\n",
       "    max-height: 300px;\n",
       "    overflow: auto;\n",
       "  }\n",
       "  table, th, td {\n",
       "    border: 1px solid black;\n",
       "    border-collapse: collapse;\n",
       "  }\n",
       "  th, td {\n",
       "    padding: 5px;\n",
       "  }\n",
       "  th {\n",
       "    text-align: left;\n",
       "  }\n",
       "</style><div class='table-result-container'><table class='table-result'><thead style='background-color: white'><tr><th>col_name</th><th>data_type</th><th>comment</th></tr></thead><tbody><tr><td>customer_key</td><td>int</td><td>null</td></tr><tr><td>store_id</td><td>int</td><td>null</td></tr><tr><td>first_name</td><td>string</td><td>null</td></tr><tr><td>last_name</td><td>string</td><td>null</td></tr><tr><td>email</td><td>string</td><td>null</td></tr><tr><td>address_id</td><td>int</td><td>null</td></tr><tr><td>active</td><td>int</td><td>null</td></tr><tr><td></td><td></td><td></td></tr><tr><td># Detailed Table Information</td><td></td><td></td></tr><tr><td>Catalog</td><td>spark_catalog</td><td></td></tr><tr><td>Database</td><td>sakila_dlh</td><td></td></tr><tr><td>Table</td><td>dim_customer</td><td></td></tr><tr><td>Type</td><td>MANAGED</td><td></td></tr><tr><td>Location</td><td>dbfs:/FileStore/MassarelliEva-Capstone/sakila_dlh/dim_customer</td><td></td></tr><tr><td>Provider</td><td>delta</td><td></td></tr><tr><td>Owner</td><td>root</td><td></td></tr><tr><td>Is_managed_location</td><td>true</td><td></td></tr><tr><td>Table Properties</td><td>[delta.minReaderVersion=1,delta.minWriterVersion=2]</td><td></td></tr></tbody></table></div>"
      ]
     },
     "metadata": {
      "application/vnd.databricks.v1+output": {
       "addedWidgets": {},
       "aggData": [],
       "aggError": "",
       "aggOverflow": false,
       "aggSchema": [],
       "aggSeriesLimitReached": false,
       "aggType": "",
       "arguments": {},
       "columnCustomDisplayInfos": {},
       "data": [
        [
         "customer_key",
         "int",
         null
        ],
        [
         "store_id",
         "int",
         null
        ],
        [
         "first_name",
         "string",
         null
        ],
        [
         "last_name",
         "string",
         null
        ],
        [
         "email",
         "string",
         null
        ],
        [
         "address_id",
         "int",
         null
        ],
        [
         "active",
         "int",
         null
        ],
        [
         "",
         "",
         ""
        ],
        [
         "# Detailed Table Information",
         "",
         ""
        ],
        [
         "Catalog",
         "spark_catalog",
         ""
        ],
        [
         "Database",
         "sakila_dlh",
         ""
        ],
        [
         "Table",
         "dim_customer",
         ""
        ],
        [
         "Type",
         "MANAGED",
         ""
        ],
        [
         "Location",
         "dbfs:/FileStore/MassarelliEva-Capstone/sakila_dlh/dim_customer",
         ""
        ],
        [
         "Provider",
         "delta",
         ""
        ],
        [
         "Owner",
         "root",
         ""
        ],
        [
         "Is_managed_location",
         "true",
         ""
        ],
        [
         "Table Properties",
         "[delta.minReaderVersion=1,delta.minWriterVersion=2]",
         ""
        ]
       ],
       "datasetInfos": [],
       "dbfsResultPath": null,
       "isJsonSchema": true,
       "metadata": {},
       "overflow": false,
       "plotOptions": {
        "customPlotOptions": {},
        "displayType": "table",
        "pivotAggregation": null,
        "pivotColumns": null,
        "xColumns": null,
        "yColumns": null
       },
       "removedWidgets": [],
       "schema": [
        {
         "metadata": "{\"comment\":\"name of the column\"}",
         "name": "col_name",
         "type": "\"string\""
        },
        {
         "metadata": "{\"comment\":\"data type of the column\"}",
         "name": "data_type",
         "type": "\"string\""
        },
        {
         "metadata": "{\"comment\":\"comment of the column\"}",
         "name": "comment",
         "type": "\"string\""
        }
       ],
       "type": "table"
      }
     },
     "output_type": "display_data"
    }
   ],
   "source": [
    "%sql\n",
    "DESCRIBE EXTENDED sakila_dlh.dim_customer"
   ]
  },
  {
   "cell_type": "code",
   "execution_count": 0,
   "metadata": {
    "application/vnd.databricks.v1+cell": {
     "cellMetadata": {
      "byteLimit": 2048000,
      "implicitDf": true,
      "rowLimit": 10000
     },
     "inputWidgets": {},
     "nuid": "d4924a30-ad66-424c-b511-19cbfaefe93e",
     "showTitle": false,
     "title": ""
    }
   },
   "outputs": [
    {
     "output_type": "display_data",
     "data": {
      "text/html": [
       "<style scoped>\n",
       "  .table-result-container {\n",
       "    max-height: 300px;\n",
       "    overflow: auto;\n",
       "  }\n",
       "  table, th, td {\n",
       "    border: 1px solid black;\n",
       "    border-collapse: collapse;\n",
       "  }\n",
       "  th, td {\n",
       "    padding: 5px;\n",
       "  }\n",
       "  th {\n",
       "    text-align: left;\n",
       "  }\n",
       "</style><div class='table-result-container'><table class='table-result'><thead style='background-color: white'><tr><th>customer_key</th><th>store_id</th><th>first_name</th><th>last_name</th><th>email</th><th>address_id</th><th>active</th></tr></thead><tbody><tr><td>1</td><td>1</td><td>MARY</td><td>SMITH</td><td>MARY.SMITH@sakilacustomer.org</td><td>5</td><td>1</td></tr><tr><td>2</td><td>1</td><td>PATRICIA</td><td>JOHNSON</td><td>PATRICIA.JOHNSON@sakilacustomer.org</td><td>6</td><td>1</td></tr><tr><td>3</td><td>1</td><td>LINDA</td><td>WILLIAMS</td><td>LINDA.WILLIAMS@sakilacustomer.org</td><td>7</td><td>1</td></tr><tr><td>4</td><td>2</td><td>BARBARA</td><td>JONES</td><td>BARBARA.JONES@sakilacustomer.org</td><td>8</td><td>1</td></tr><tr><td>5</td><td>1</td><td>ELIZABETH</td><td>BROWN</td><td>ELIZABETH.BROWN@sakilacustomer.org</td><td>9</td><td>1</td></tr></tbody></table></div>"
      ]
     },
     "metadata": {
      "application/vnd.databricks.v1+output": {
       "addedWidgets": {},
       "aggData": [],
       "aggError": "",
       "aggOverflow": false,
       "aggSchema": [],
       "aggSeriesLimitReached": false,
       "aggType": "",
       "arguments": {},
       "columnCustomDisplayInfos": {},
       "data": [
        [
         1,
         1,
         "MARY",
         "SMITH",
         "MARY.SMITH@sakilacustomer.org",
         5,
         1
        ],
        [
         2,
         1,
         "PATRICIA",
         "JOHNSON",
         "PATRICIA.JOHNSON@sakilacustomer.org",
         6,
         1
        ],
        [
         3,
         1,
         "LINDA",
         "WILLIAMS",
         "LINDA.WILLIAMS@sakilacustomer.org",
         7,
         1
        ],
        [
         4,
         2,
         "BARBARA",
         "JONES",
         "BARBARA.JONES@sakilacustomer.org",
         8,
         1
        ],
        [
         5,
         1,
         "ELIZABETH",
         "BROWN",
         "ELIZABETH.BROWN@sakilacustomer.org",
         9,
         1
        ]
       ],
       "datasetInfos": [],
       "dbfsResultPath": null,
       "isJsonSchema": true,
       "metadata": {},
       "overflow": false,
       "plotOptions": {
        "customPlotOptions": {},
        "displayType": "table",
        "pivotAggregation": null,
        "pivotColumns": null,
        "xColumns": null,
        "yColumns": null
       },
       "removedWidgets": [],
       "schema": [
        {
         "metadata": "{}",
         "name": "customer_key",
         "type": "\"integer\""
        },
        {
         "metadata": "{}",
         "name": "store_id",
         "type": "\"integer\""
        },
        {
         "metadata": "{}",
         "name": "first_name",
         "type": "\"string\""
        },
        {
         "metadata": "{}",
         "name": "last_name",
         "type": "\"string\""
        },
        {
         "metadata": "{}",
         "name": "email",
         "type": "\"string\""
        },
        {
         "metadata": "{}",
         "name": "address_id",
         "type": "\"integer\""
        },
        {
         "metadata": "{}",
         "name": "active",
         "type": "\"integer\""
        }
       ],
       "type": "table"
      }
     },
     "output_type": "display_data"
    }
   ],
   "source": [
    "%sql\n",
    "SELECT * FROM sakila_dlh.dim_customer LIMIT 5"
   ]
  },
  {
   "cell_type": "markdown",
   "metadata": {
    "application/vnd.databricks.v1+cell": {
     "cellMetadata": {
      "byteLimit": 2048000,
      "rowLimit": 10000
     },
     "inputWidgets": {},
     "nuid": "8b52ecae-78cd-4dce-a974-f052dbe9b9bf",
     "showTitle": false,
     "title": ""
    }
   },
   "source": [
    "##### 2.4.1 Fetch Staff Dimension Data from the New MongoDB Collection"
   ]
  },
  {
   "cell_type": "code",
   "execution_count": 0,
   "metadata": {
    "application/vnd.databricks.v1+cell": {
     "cellMetadata": {
      "byteLimit": 2048000,
      "rowLimit": 10000
     },
     "inputWidgets": {},
     "nuid": "73350185-ce36-49ed-86e0-041f2d12d289",
     "showTitle": false,
     "title": ""
    }
   },
   "outputs": [
    {
     "output_type": "display_data",
     "data": {
      "text/html": [
       "<style scoped>\n",
       "  .table-result-container {\n",
       "    max-height: 300px;\n",
       "    overflow: auto;\n",
       "  }\n",
       "  table, th, td {\n",
       "    border: 1px solid black;\n",
       "    border-collapse: collapse;\n",
       "  }\n",
       "  th, td {\n",
       "    padding: 5px;\n",
       "  }\n",
       "  th {\n",
       "    text-align: left;\n",
       "  }\n",
       "</style><div class='table-result-container'><table class='table-result'><thead style='background-color: white'><tr><th>staff_key</th><th>first_name</th><th>last_name</th><th>address_id</th><th>email</th><th>store_id</th><th>active</th><th>username</th><th>password</th></tr></thead><tbody><tr><td>1</td><td>Mike</td><td>Hillyer</td><td>3</td><td>Mike.Hillyer@sakilastaff.com</td><td>1</td><td>1</td><td>Mike</td><td>8cb2237d0679ca88db6464eac60da96345513964</td></tr><tr><td>2</td><td>Jon</td><td>Stephens</td><td>4</td><td>Jon.Stephens@sakilastaff.com</td><td>2</td><td>1</td><td>Jon</td><td>null</td></tr></tbody></table></div>"
      ]
     },
     "metadata": {
      "application/vnd.databricks.v1+output": {
       "addedWidgets": {},
       "aggData": [],
       "aggError": "",
       "aggOverflow": false,
       "aggSchema": [],
       "aggSeriesLimitReached": false,
       "aggType": "",
       "arguments": {},
       "columnCustomDisplayInfos": {},
       "data": [
        [
         1,
         "Mike",
         "Hillyer",
         3,
         "Mike.Hillyer@sakilastaff.com",
         1,
         1,
         "Mike",
         "8cb2237d0679ca88db6464eac60da96345513964"
        ],
        [
         2,
         "Jon",
         "Stephens",
         4,
         "Jon.Stephens@sakilastaff.com",
         2,
         1,
         "Jon",
         null
        ]
       ],
       "datasetInfos": [
        {
         "name": "df_staff",
         "schema": {
          "fields": [
           {
            "metadata": {},
            "name": "staff_key",
            "nullable": true,
            "type": "integer"
           },
           {
            "metadata": {},
            "name": "first_name",
            "nullable": true,
            "type": "string"
           },
           {
            "metadata": {},
            "name": "last_name",
            "nullable": true,
            "type": "string"
           },
           {
            "metadata": {},
            "name": "address_id",
            "nullable": true,
            "type": "integer"
           },
           {
            "metadata": {},
            "name": "email",
            "nullable": true,
            "type": "string"
           },
           {
            "metadata": {},
            "name": "store_id",
            "nullable": true,
            "type": "integer"
           },
           {
            "metadata": {},
            "name": "active",
            "nullable": true,
            "type": "integer"
           },
           {
            "metadata": {},
            "name": "username",
            "nullable": true,
            "type": "string"
           },
           {
            "metadata": {},
            "name": "password",
            "nullable": true,
            "type": "string"
           }
          ],
          "type": "struct"
         },
         "tableIdentifier": null,
         "typeStr": "org.apache.spark.sql.DataFrame"
        }
       ],
       "dbfsResultPath": null,
       "isJsonSchema": true,
       "metadata": {
        "isDbfsCommandResult": false
       },
       "overflow": false,
       "plotOptions": {
        "customPlotOptions": {},
        "displayType": "table",
        "pivotAggregation": null,
        "pivotColumns": null,
        "xColumns": null,
        "yColumns": null
       },
       "removedWidgets": [],
       "schema": [
        {
         "metadata": "{}",
         "name": "staff_key",
         "type": "\"integer\""
        },
        {
         "metadata": "{}",
         "name": "first_name",
         "type": "\"string\""
        },
        {
         "metadata": "{}",
         "name": "last_name",
         "type": "\"string\""
        },
        {
         "metadata": "{}",
         "name": "address_id",
         "type": "\"integer\""
        },
        {
         "metadata": "{}",
         "name": "email",
         "type": "\"string\""
        },
        {
         "metadata": "{}",
         "name": "store_id",
         "type": "\"integer\""
        },
        {
         "metadata": "{}",
         "name": "active",
         "type": "\"integer\""
        },
        {
         "metadata": "{}",
         "name": "username",
         "type": "\"string\""
        },
        {
         "metadata": "{}",
         "name": "password",
         "type": "\"string\""
        }
       ],
       "type": "table"
      }
     },
     "output_type": "display_data"
    }
   ],
   "source": [
    "%scala\n",
    "import com.mongodb.spark._\n",
    "\n",
    "val df_staff = spark.read.format(\"com.mongodb.spark.sql.DefaultSource\")\n",
    ".option(\"database\", \"sakila_dw2\").option(\"collection\", \"staff\").load()\n",
    ".select(\"staff_key\",\"first_name\",\"last_name\",\"address_id\",\"email\",\"store_id\",\"active\",\"username\",\"password\")\n",
    "\n",
    "display(df_staff.limit(10))"
   ]
  },
  {
   "cell_type": "code",
   "execution_count": 0,
   "metadata": {
    "application/vnd.databricks.v1+cell": {
     "cellMetadata": {
      "byteLimit": 2048000,
      "rowLimit": 10000
     },
     "inputWidgets": {},
     "nuid": "a37d21b2-511b-4553-837a-b957094d9db8",
     "showTitle": false,
     "title": ""
    }
   },
   "outputs": [
    {
     "output_type": "display_data",
     "data": {
      "text/html": [
       "<style scoped>\n",
       "  .ansiout {\n",
       "    display: block;\n",
       "    unicode-bidi: embed;\n",
       "    white-space: pre-wrap;\n",
       "    word-wrap: break-word;\n",
       "    word-break: break-all;\n",
       "    font-family: \"Source Code Pro\", \"Menlo\", monospace;;\n",
       "    font-size: 13px;\n",
       "    color: #555;\n",
       "    margin-left: 4px;\n",
       "    line-height: 19px;\n",
       "  }\n",
       "</style>\n",
       "<div class=\"ansiout\">root\n",
       "-- staff_key: integer (nullable = true)\n",
       "-- first_name: string (nullable = true)\n",
       "-- last_name: string (nullable = true)\n",
       "-- address_id: integer (nullable = true)\n",
       "-- email: string (nullable = true)\n",
       "-- store_id: integer (nullable = true)\n",
       "-- active: integer (nullable = true)\n",
       "-- username: string (nullable = true)\n",
       "-- password: string (nullable = true)\n",
       "\n",
       "</div>"
      ]
     },
     "metadata": {
      "application/vnd.databricks.v1+output": {
       "addedWidgets": {},
       "arguments": {},
       "data": "<div class=\"ansiout\">root\n |-- staff_key: integer (nullable = true)\n |-- first_name: string (nullable = true)\n |-- last_name: string (nullable = true)\n |-- address_id: integer (nullable = true)\n |-- email: string (nullable = true)\n |-- store_id: integer (nullable = true)\n |-- active: integer (nullable = true)\n |-- username: string (nullable = true)\n |-- password: string (nullable = true)\n\n</div>",
       "datasetInfos": [],
       "metadata": {
        "isDbfsCommandResult": false
       },
       "removedWidgets": [],
       "type": "html"
      }
     },
     "output_type": "display_data"
    }
   ],
   "source": [
    "%scala\n",
    "df_staff.printSchema()"
   ]
  },
  {
   "cell_type": "markdown",
   "metadata": {
    "application/vnd.databricks.v1+cell": {
     "cellMetadata": {
      "byteLimit": 2048000,
      "rowLimit": 10000
     },
     "inputWidgets": {},
     "nuid": "ca79d2c6-6a92-460d-b163-cdbe81c555a9",
     "showTitle": false,
     "title": ""
    }
   },
   "source": [
    "##### 2.4.2. Use the Spark DataFrame to Create a New Staff Dimension Table in the Databricks Metadata Database (sakila_dlh)"
   ]
  },
  {
   "cell_type": "code",
   "execution_count": 0,
   "metadata": {
    "application/vnd.databricks.v1+cell": {
     "cellMetadata": {
      "byteLimit": 2048000,
      "rowLimit": 10000
     },
     "inputWidgets": {},
     "nuid": "0766bc0c-2e6c-4d3e-8879-b9b4fae5f3d8",
     "showTitle": false,
     "title": ""
    }
   },
   "outputs": [
    {
     "output_type": "display_data",
     "data": {
      "text/html": [
       "<style scoped>\n",
       "  .ansiout {\n",
       "    display: block;\n",
       "    unicode-bidi: embed;\n",
       "    white-space: pre-wrap;\n",
       "    word-wrap: break-word;\n",
       "    word-break: break-all;\n",
       "    font-family: \"Source Code Pro\", \"Menlo\", monospace;;\n",
       "    font-size: 13px;\n",
       "    color: #555;\n",
       "    margin-left: 4px;\n",
       "    line-height: 19px;\n",
       "  }\n",
       "</style>\n",
       "<div class=\"ansiout\"></div>"
      ]
     },
     "metadata": {
      "application/vnd.databricks.v1+output": {
       "addedWidgets": {},
       "arguments": {},
       "data": "<div class=\"ansiout\"></div>",
       "datasetInfos": [],
       "metadata": {
        "isDbfsCommandResult": false
       },
       "removedWidgets": [],
       "type": "html"
      }
     },
     "output_type": "display_data"
    }
   ],
   "source": [
    "%scala\n",
    "df_staff.write.format(\"delta\").mode(\"overwrite\").saveAsTable(\"sakila_dlh.dim_staff\")"
   ]
  },
  {
   "cell_type": "code",
   "execution_count": 0,
   "metadata": {
    "application/vnd.databricks.v1+cell": {
     "cellMetadata": {
      "byteLimit": 2048000,
      "implicitDf": true,
      "rowLimit": 10000
     },
     "inputWidgets": {},
     "nuid": "bfbe73eb-d32b-4685-aa6a-ecce737d8b63",
     "showTitle": false,
     "title": ""
    }
   },
   "outputs": [
    {
     "output_type": "display_data",
     "data": {
      "text/html": [
       "<style scoped>\n",
       "  .table-result-container {\n",
       "    max-height: 300px;\n",
       "    overflow: auto;\n",
       "  }\n",
       "  table, th, td {\n",
       "    border: 1px solid black;\n",
       "    border-collapse: collapse;\n",
       "  }\n",
       "  th, td {\n",
       "    padding: 5px;\n",
       "  }\n",
       "  th {\n",
       "    text-align: left;\n",
       "  }\n",
       "</style><div class='table-result-container'><table class='table-result'><thead style='background-color: white'><tr><th>col_name</th><th>data_type</th><th>comment</th></tr></thead><tbody><tr><td>staff_key</td><td>int</td><td>null</td></tr><tr><td>first_name</td><td>string</td><td>null</td></tr><tr><td>last_name</td><td>string</td><td>null</td></tr><tr><td>address_id</td><td>int</td><td>null</td></tr><tr><td>email</td><td>string</td><td>null</td></tr><tr><td>store_id</td><td>int</td><td>null</td></tr><tr><td>active</td><td>int</td><td>null</td></tr><tr><td>username</td><td>string</td><td>null</td></tr><tr><td>password</td><td>string</td><td>null</td></tr><tr><td></td><td></td><td></td></tr><tr><td># Detailed Table Information</td><td></td><td></td></tr><tr><td>Catalog</td><td>spark_catalog</td><td></td></tr><tr><td>Database</td><td>sakila_dlh</td><td></td></tr><tr><td>Table</td><td>dim_staff</td><td></td></tr><tr><td>Type</td><td>MANAGED</td><td></td></tr><tr><td>Location</td><td>dbfs:/FileStore/MassarelliEva-Capstone/sakila_dlh/dim_staff</td><td></td></tr><tr><td>Provider</td><td>delta</td><td></td></tr><tr><td>Owner</td><td>root</td><td></td></tr><tr><td>Is_managed_location</td><td>true</td><td></td></tr><tr><td>Table Properties</td><td>[delta.minReaderVersion=1,delta.minWriterVersion=2]</td><td></td></tr></tbody></table></div>"
      ]
     },
     "metadata": {
      "application/vnd.databricks.v1+output": {
       "addedWidgets": {},
       "aggData": [],
       "aggError": "",
       "aggOverflow": false,
       "aggSchema": [],
       "aggSeriesLimitReached": false,
       "aggType": "",
       "arguments": {},
       "columnCustomDisplayInfos": {},
       "data": [
        [
         "staff_key",
         "int",
         null
        ],
        [
         "first_name",
         "string",
         null
        ],
        [
         "last_name",
         "string",
         null
        ],
        [
         "address_id",
         "int",
         null
        ],
        [
         "email",
         "string",
         null
        ],
        [
         "store_id",
         "int",
         null
        ],
        [
         "active",
         "int",
         null
        ],
        [
         "username",
         "string",
         null
        ],
        [
         "password",
         "string",
         null
        ],
        [
         "",
         "",
         ""
        ],
        [
         "# Detailed Table Information",
         "",
         ""
        ],
        [
         "Catalog",
         "spark_catalog",
         ""
        ],
        [
         "Database",
         "sakila_dlh",
         ""
        ],
        [
         "Table",
         "dim_staff",
         ""
        ],
        [
         "Type",
         "MANAGED",
         ""
        ],
        [
         "Location",
         "dbfs:/FileStore/MassarelliEva-Capstone/sakila_dlh/dim_staff",
         ""
        ],
        [
         "Provider",
         "delta",
         ""
        ],
        [
         "Owner",
         "root",
         ""
        ],
        [
         "Is_managed_location",
         "true",
         ""
        ],
        [
         "Table Properties",
         "[delta.minReaderVersion=1,delta.minWriterVersion=2]",
         ""
        ]
       ],
       "datasetInfos": [],
       "dbfsResultPath": null,
       "isJsonSchema": true,
       "metadata": {},
       "overflow": false,
       "plotOptions": {
        "customPlotOptions": {},
        "displayType": "table",
        "pivotAggregation": null,
        "pivotColumns": null,
        "xColumns": null,
        "yColumns": null
       },
       "removedWidgets": [],
       "schema": [
        {
         "metadata": "{\"comment\":\"name of the column\"}",
         "name": "col_name",
         "type": "\"string\""
        },
        {
         "metadata": "{\"comment\":\"data type of the column\"}",
         "name": "data_type",
         "type": "\"string\""
        },
        {
         "metadata": "{\"comment\":\"comment of the column\"}",
         "name": "comment",
         "type": "\"string\""
        }
       ],
       "type": "table"
      }
     },
     "output_type": "display_data"
    }
   ],
   "source": [
    "%sql\n",
    "DESCRIBE EXTENDED sakila_dlh.dim_staff"
   ]
  },
  {
   "cell_type": "code",
   "execution_count": 0,
   "metadata": {
    "application/vnd.databricks.v1+cell": {
     "cellMetadata": {
      "byteLimit": 2048000,
      "implicitDf": true,
      "rowLimit": 10000
     },
     "inputWidgets": {},
     "nuid": "7c3d611c-95e5-406d-b8da-dd17e797a018",
     "showTitle": false,
     "title": ""
    }
   },
   "outputs": [
    {
     "output_type": "display_data",
     "data": {
      "text/html": [
       "<style scoped>\n",
       "  .table-result-container {\n",
       "    max-height: 300px;\n",
       "    overflow: auto;\n",
       "  }\n",
       "  table, th, td {\n",
       "    border: 1px solid black;\n",
       "    border-collapse: collapse;\n",
       "  }\n",
       "  th, td {\n",
       "    padding: 5px;\n",
       "  }\n",
       "  th {\n",
       "    text-align: left;\n",
       "  }\n",
       "</style><div class='table-result-container'><table class='table-result'><thead style='background-color: white'><tr><th>staff_key</th><th>first_name</th><th>last_name</th><th>address_id</th><th>email</th><th>store_id</th><th>active</th><th>username</th><th>password</th></tr></thead><tbody><tr><td>1</td><td>Mike</td><td>Hillyer</td><td>3</td><td>Mike.Hillyer@sakilastaff.com</td><td>1</td><td>1</td><td>Mike</td><td>8cb2237d0679ca88db6464eac60da96345513964</td></tr><tr><td>2</td><td>Jon</td><td>Stephens</td><td>4</td><td>Jon.Stephens@sakilastaff.com</td><td>2</td><td>1</td><td>Jon</td><td>null</td></tr></tbody></table></div>"
      ]
     },
     "metadata": {
      "application/vnd.databricks.v1+output": {
       "addedWidgets": {},
       "aggData": [],
       "aggError": "",
       "aggOverflow": false,
       "aggSchema": [],
       "aggSeriesLimitReached": false,
       "aggType": "",
       "arguments": {},
       "columnCustomDisplayInfos": {},
       "data": [
        [
         1,
         "Mike",
         "Hillyer",
         3,
         "Mike.Hillyer@sakilastaff.com",
         1,
         1,
         "Mike",
         "8cb2237d0679ca88db6464eac60da96345513964"
        ],
        [
         2,
         "Jon",
         "Stephens",
         4,
         "Jon.Stephens@sakilastaff.com",
         2,
         1,
         "Jon",
         null
        ]
       ],
       "datasetInfos": [],
       "dbfsResultPath": null,
       "isJsonSchema": true,
       "metadata": {},
       "overflow": false,
       "plotOptions": {
        "customPlotOptions": {},
        "displayType": "table",
        "pivotAggregation": null,
        "pivotColumns": null,
        "xColumns": null,
        "yColumns": null
       },
       "removedWidgets": [],
       "schema": [
        {
         "metadata": "{}",
         "name": "staff_key",
         "type": "\"integer\""
        },
        {
         "metadata": "{}",
         "name": "first_name",
         "type": "\"string\""
        },
        {
         "metadata": "{}",
         "name": "last_name",
         "type": "\"string\""
        },
        {
         "metadata": "{}",
         "name": "address_id",
         "type": "\"integer\""
        },
        {
         "metadata": "{}",
         "name": "email",
         "type": "\"string\""
        },
        {
         "metadata": "{}",
         "name": "store_id",
         "type": "\"integer\""
        },
        {
         "metadata": "{}",
         "name": "active",
         "type": "\"integer\""
        },
        {
         "metadata": "{}",
         "name": "username",
         "type": "\"string\""
        },
        {
         "metadata": "{}",
         "name": "password",
         "type": "\"string\""
        }
       ],
       "type": "table"
      }
     },
     "output_type": "display_data"
    }
   ],
   "source": [
    "%sql\n",
    "SELECT * FROM sakila_dlh.dim_staff LIMIT 2"
   ]
  },
  {
   "cell_type": "markdown",
   "metadata": {
    "application/vnd.databricks.v1+cell": {
     "cellMetadata": {
      "byteLimit": 2048000,
      "rowLimit": 10000
     },
     "inputWidgets": {},
     "nuid": "9936b98e-53e2-4f75-9db5-9bbefad735fe",
     "showTitle": false,
     "title": ""
    }
   },
   "source": [
    "#### 3.0. Fetch Data from a File System (Databricks File System (DBFS))\n",
    "##### 3.1. Use PySpark to Read Store Dimension Data from CSV File"
   ]
  },
  {
   "cell_type": "code",
   "execution_count": 0,
   "metadata": {
    "application/vnd.databricks.v1+cell": {
     "cellMetadata": {
      "byteLimit": 2048000,
      "rowLimit": 10000
     },
     "inputWidgets": {},
     "nuid": "b47c7ad8-a57b-46ca-a734-9bbf271cf0bf",
     "showTitle": false,
     "title": ""
    }
   },
   "outputs": [
    {
     "output_type": "display_data",
     "data": {
      "text/html": [
       "<style scoped>\n",
       "  .table-result-container {\n",
       "    max-height: 300px;\n",
       "    overflow: auto;\n",
       "  }\n",
       "  table, th, td {\n",
       "    border: 1px solid black;\n",
       "    border-collapse: collapse;\n",
       "  }\n",
       "  th, td {\n",
       "    padding: 5px;\n",
       "  }\n",
       "  th {\n",
       "    text-align: left;\n",
       "  }\n",
       "</style><div class='table-result-container'><table class='table-result'><thead style='background-color: white'><tr><th>store_key</th><th>manager_staff_id</th><th>address_id</th></tr></thead><tbody><tr><td>1</td><td>1</td><td>1</td></tr><tr><td>2</td><td>2</td><td>2</td></tr></tbody></table></div>"
      ]
     },
     "metadata": {
      "application/vnd.databricks.v1+output": {
       "addedWidgets": {},
       "aggData": [],
       "aggError": "",
       "aggOverflow": false,
       "aggSchema": [],
       "aggSeriesLimitReached": false,
       "aggType": "",
       "arguments": {},
       "columnCustomDisplayInfos": {},
       "data": [
        [
         1,
         1,
         1
        ],
        [
         2,
         2,
         2
        ]
       ],
       "datasetInfos": [],
       "dbfsResultPath": null,
       "isJsonSchema": true,
       "metadata": {},
       "overflow": false,
       "plotOptions": {
        "customPlotOptions": {},
        "displayType": "table",
        "pivotAggregation": null,
        "pivotColumns": null,
        "xColumns": null,
        "yColumns": null
       },
       "removedWidgets": [],
       "schema": [
        {
         "metadata": "{}",
         "name": "store_key",
         "type": "\"integer\""
        },
        {
         "metadata": "{}",
         "name": "manager_staff_id",
         "type": "\"integer\""
        },
        {
         "metadata": "{}",
         "name": "address_id",
         "type": "\"integer\""
        }
       ],
       "type": "table"
      }
     },
     "output_type": "display_data"
    }
   ],
   "source": [
    "stores_csv = f\"{batch_dir}/Sakila_DimStores.csv\"\n",
    "\n",
    "df_stores = spark.read.format('csv').options(header='true', inferSchema='true').load(stores_csv)\n",
    "display(df_stores)"
   ]
  },
  {
   "cell_type": "code",
   "execution_count": 0,
   "metadata": {
    "application/vnd.databricks.v1+cell": {
     "cellMetadata": {
      "byteLimit": 2048000,
      "rowLimit": 10000
     },
     "inputWidgets": {},
     "nuid": "12852bc5-3ebd-4ef8-a96b-8b25516ccbea",
     "showTitle": false,
     "title": ""
    }
   },
   "outputs": [
    {
     "output_type": "stream",
     "name": "stdout",
     "output_type": "stream",
     "text": [
      "root\n |-- store_key: integer (nullable = true)\n |-- manager_staff_id: integer (nullable = true)\n |-- address_id: integer (nullable = true)\n\n"
     ]
    }
   ],
   "source": [
    "df_stores.printSchema()"
   ]
  },
  {
   "cell_type": "code",
   "execution_count": 0,
   "metadata": {
    "application/vnd.databricks.v1+cell": {
     "cellMetadata": {
      "byteLimit": 2048000,
      "rowLimit": 10000
     },
     "inputWidgets": {},
     "nuid": "199f4806-101a-41bf-ac54-b8ec2b8c4935",
     "showTitle": false,
     "title": ""
    }
   },
   "outputs": [],
   "source": [
    "df_stores.write.format(\"delta\").mode(\"overwrite\").saveAsTable(\"sakila_dlh.dim_stores\")"
   ]
  },
  {
   "cell_type": "code",
   "execution_count": 0,
   "metadata": {
    "application/vnd.databricks.v1+cell": {
     "cellMetadata": {
      "byteLimit": 2048000,
      "implicitDf": true,
      "rowLimit": 10000
     },
     "inputWidgets": {},
     "nuid": "cb7e6ae7-5c04-4c46-a49f-bbdaa975ccc6",
     "showTitle": false,
     "title": ""
    }
   },
   "outputs": [
    {
     "output_type": "display_data",
     "data": {
      "text/html": [
       "<style scoped>\n",
       "  .table-result-container {\n",
       "    max-height: 300px;\n",
       "    overflow: auto;\n",
       "  }\n",
       "  table, th, td {\n",
       "    border: 1px solid black;\n",
       "    border-collapse: collapse;\n",
       "  }\n",
       "  th, td {\n",
       "    padding: 5px;\n",
       "  }\n",
       "  th {\n",
       "    text-align: left;\n",
       "  }\n",
       "</style><div class='table-result-container'><table class='table-result'><thead style='background-color: white'><tr><th>col_name</th><th>data_type</th><th>comment</th></tr></thead><tbody><tr><td>store_key</td><td>int</td><td>null</td></tr><tr><td>manager_staff_id</td><td>int</td><td>null</td></tr><tr><td>address_id</td><td>int</td><td>null</td></tr><tr><td></td><td></td><td></td></tr><tr><td># Detailed Table Information</td><td></td><td></td></tr><tr><td>Catalog</td><td>spark_catalog</td><td></td></tr><tr><td>Database</td><td>sakila_dlh</td><td></td></tr><tr><td>Table</td><td>dim_stores</td><td></td></tr><tr><td>Type</td><td>MANAGED</td><td></td></tr><tr><td>Location</td><td>dbfs:/FileStore/MassarelliEva-Capstone/sakila_dlh/dim_stores</td><td></td></tr><tr><td>Provider</td><td>delta</td><td></td></tr><tr><td>Owner</td><td>root</td><td></td></tr><tr><td>Is_managed_location</td><td>true</td><td></td></tr><tr><td>Table Properties</td><td>[delta.minReaderVersion=1,delta.minWriterVersion=2]</td><td></td></tr></tbody></table></div>"
      ]
     },
     "metadata": {
      "application/vnd.databricks.v1+output": {
       "addedWidgets": {},
       "aggData": [],
       "aggError": "",
       "aggOverflow": false,
       "aggSchema": [],
       "aggSeriesLimitReached": false,
       "aggType": "",
       "arguments": {},
       "columnCustomDisplayInfos": {},
       "data": [
        [
         "store_key",
         "int",
         null
        ],
        [
         "manager_staff_id",
         "int",
         null
        ],
        [
         "address_id",
         "int",
         null
        ],
        [
         "",
         "",
         ""
        ],
        [
         "# Detailed Table Information",
         "",
         ""
        ],
        [
         "Catalog",
         "spark_catalog",
         ""
        ],
        [
         "Database",
         "sakila_dlh",
         ""
        ],
        [
         "Table",
         "dim_stores",
         ""
        ],
        [
         "Type",
         "MANAGED",
         ""
        ],
        [
         "Location",
         "dbfs:/FileStore/MassarelliEva-Capstone/sakila_dlh/dim_stores",
         ""
        ],
        [
         "Provider",
         "delta",
         ""
        ],
        [
         "Owner",
         "root",
         ""
        ],
        [
         "Is_managed_location",
         "true",
         ""
        ],
        [
         "Table Properties",
         "[delta.minReaderVersion=1,delta.minWriterVersion=2]",
         ""
        ]
       ],
       "datasetInfos": [],
       "dbfsResultPath": null,
       "isJsonSchema": true,
       "metadata": {},
       "overflow": false,
       "plotOptions": {
        "customPlotOptions": {},
        "displayType": "table",
        "pivotAggregation": null,
        "pivotColumns": null,
        "xColumns": null,
        "yColumns": null
       },
       "removedWidgets": [],
       "schema": [
        {
         "metadata": "{\"comment\":\"name of the column\"}",
         "name": "col_name",
         "type": "\"string\""
        },
        {
         "metadata": "{\"comment\":\"data type of the column\"}",
         "name": "data_type",
         "type": "\"string\""
        },
        {
         "metadata": "{\"comment\":\"comment of the column\"}",
         "name": "comment",
         "type": "\"string\""
        }
       ],
       "type": "table"
      }
     },
     "output_type": "display_data"
    }
   ],
   "source": [
    "%sql\n",
    "DESCRIBE EXTENDED sakila_dlh.dim_stores;"
   ]
  },
  {
   "cell_type": "code",
   "execution_count": 0,
   "metadata": {
    "application/vnd.databricks.v1+cell": {
     "cellMetadata": {
      "byteLimit": 2048000,
      "implicitDf": true,
      "rowLimit": 10000
     },
     "inputWidgets": {},
     "nuid": "c0e93baa-868a-4ea0-b168-df44c2527f17",
     "showTitle": false,
     "title": ""
    }
   },
   "outputs": [
    {
     "output_type": "display_data",
     "data": {
      "text/html": [
       "<style scoped>\n",
       "  .table-result-container {\n",
       "    max-height: 300px;\n",
       "    overflow: auto;\n",
       "  }\n",
       "  table, th, td {\n",
       "    border: 1px solid black;\n",
       "    border-collapse: collapse;\n",
       "  }\n",
       "  th, td {\n",
       "    padding: 5px;\n",
       "  }\n",
       "  th {\n",
       "    text-align: left;\n",
       "  }\n",
       "</style><div class='table-result-container'><table class='table-result'><thead style='background-color: white'><tr><th>store_key</th><th>manager_staff_id</th><th>address_id</th></tr></thead><tbody><tr><td>1</td><td>1</td><td>1</td></tr><tr><td>2</td><td>2</td><td>2</td></tr></tbody></table></div>"
      ]
     },
     "metadata": {
      "application/vnd.databricks.v1+output": {
       "addedWidgets": {},
       "aggData": [],
       "aggError": "",
       "aggOverflow": false,
       "aggSchema": [],
       "aggSeriesLimitReached": false,
       "aggType": "",
       "arguments": {},
       "columnCustomDisplayInfos": {},
       "data": [
        [
         1,
         1,
         1
        ],
        [
         2,
         2,
         2
        ]
       ],
       "datasetInfos": [],
       "dbfsResultPath": null,
       "isJsonSchema": true,
       "metadata": {},
       "overflow": false,
       "plotOptions": {
        "customPlotOptions": {},
        "displayType": "table",
        "pivotAggregation": null,
        "pivotColumns": null,
        "xColumns": null,
        "yColumns": null
       },
       "removedWidgets": [],
       "schema": [
        {
         "metadata": "{}",
         "name": "store_key",
         "type": "\"integer\""
        },
        {
         "metadata": "{}",
         "name": "manager_staff_id",
         "type": "\"integer\""
        },
        {
         "metadata": "{}",
         "name": "address_id",
         "type": "\"integer\""
        }
       ],
       "type": "table"
      }
     },
     "output_type": "display_data"
    }
   ],
   "source": [
    "%sql\n",
    "SELECT * FROM sakila_dlh.dim_stores LIMIT 2;"
   ]
  },
  {
   "cell_type": "markdown",
   "metadata": {
    "application/vnd.databricks.v1+cell": {
     "cellMetadata": {
      "byteLimit": 2048000,
      "rowLimit": 10000
     },
     "inputWidgets": {},
     "nuid": "4f16bed2-735a-4fb4-a8e3-14952976a618",
     "showTitle": false,
     "title": ""
    }
   },
   "source": [
    "##### 3.2 Use PySpark to Read Inventory Dimension Data from CSV File"
   ]
  },
  {
   "cell_type": "code",
   "execution_count": 0,
   "metadata": {
    "application/vnd.databricks.v1+cell": {
     "cellMetadata": {
      "byteLimit": 2048000,
      "rowLimit": 10000
     },
     "inputWidgets": {},
     "nuid": "75129b67-0db6-48cb-8e3b-0323cc4a429a",
     "showTitle": false,
     "title": ""
    }
   },
   "outputs": [
    {
     "output_type": "display_data",
     "data": {
      "text/html": [
       "<style scoped>\n",
       "  .table-result-container {\n",
       "    max-height: 300px;\n",
       "    overflow: auto;\n",
       "  }\n",
       "  table, th, td {\n",
       "    border: 1px solid black;\n",
       "    border-collapse: collapse;\n",
       "  }\n",
       "  th, td {\n",
       "    padding: 5px;\n",
       "  }\n",
       "  th {\n",
       "    text-align: left;\n",
       "  }\n",
       "</style><div class='table-result-container'><table class='table-result'><thead style='background-color: white'><tr><th>inventory_key</th><th>film_id</th><th>store_id</th></tr></thead><tbody><tr><td>1</td><td>1</td><td>1</td></tr><tr><td>2</td><td>1</td><td>1</td></tr><tr><td>3</td><td>1</td><td>1</td></tr><tr><td>4</td><td>1</td><td>1</td></tr><tr><td>5</td><td>1</td><td>2</td></tr><tr><td>6</td><td>1</td><td>2</td></tr><tr><td>7</td><td>1</td><td>2</td></tr><tr><td>8</td><td>1</td><td>2</td></tr><tr><td>9</td><td>2</td><td>2</td></tr><tr><td>10</td><td>2</td><td>2</td></tr></tbody></table></div>"
      ]
     },
     "metadata": {
      "application/vnd.databricks.v1+output": {
       "addedWidgets": {},
       "aggData": [],
       "aggError": "",
       "aggOverflow": false,
       "aggSchema": [],
       "aggSeriesLimitReached": false,
       "aggType": "",
       "arguments": {},
       "columnCustomDisplayInfos": {},
       "data": [
        [
         1,
         1,
         1
        ],
        [
         2,
         1,
         1
        ],
        [
         3,
         1,
         1
        ],
        [
         4,
         1,
         1
        ],
        [
         5,
         1,
         2
        ],
        [
         6,
         1,
         2
        ],
        [
         7,
         1,
         2
        ],
        [
         8,
         1,
         2
        ],
        [
         9,
         2,
         2
        ],
        [
         10,
         2,
         2
        ]
       ],
       "datasetInfos": [],
       "dbfsResultPath": null,
       "isJsonSchema": true,
       "metadata": {},
       "overflow": false,
       "plotOptions": {
        "customPlotOptions": {},
        "displayType": "table",
        "pivotAggregation": null,
        "pivotColumns": null,
        "xColumns": null,
        "yColumns": null
       },
       "removedWidgets": [],
       "schema": [
        {
         "metadata": "{}",
         "name": "inventory_key",
         "type": "\"integer\""
        },
        {
         "metadata": "{}",
         "name": "film_id",
         "type": "\"integer\""
        },
        {
         "metadata": "{}",
         "name": "store_id",
         "type": "\"integer\""
        }
       ],
       "type": "table"
      }
     },
     "output_type": "display_data"
    }
   ],
   "source": [
    "inventory_csv = f\"{batch_dir}/Sakila_DimInventory.csv\"\n",
    "\n",
    "df_inventory = spark.read.format('csv').options(header='true', inferSchema='true').load(inventory_csv)\n",
    "display(df_inventory.limit(10))"
   ]
  },
  {
   "cell_type": "code",
   "execution_count": 0,
   "metadata": {
    "application/vnd.databricks.v1+cell": {
     "cellMetadata": {
      "byteLimit": 2048000,
      "rowLimit": 10000
     },
     "inputWidgets": {},
     "nuid": "a2a25d2a-481e-4022-acbb-425460b5b8cc",
     "showTitle": false,
     "title": ""
    }
   },
   "outputs": [
    {
     "output_type": "stream",
     "name": "stdout",
     "output_type": "stream",
     "text": [
      "root\n |-- inventory_key: integer (nullable = true)\n |-- film_id: integer (nullable = true)\n |-- store_id: integer (nullable = true)\n\n"
     ]
    }
   ],
   "source": [
    "df_inventory.printSchema()"
   ]
  },
  {
   "cell_type": "code",
   "execution_count": 0,
   "metadata": {
    "application/vnd.databricks.v1+cell": {
     "cellMetadata": {
      "byteLimit": 2048000,
      "rowLimit": 10000
     },
     "inputWidgets": {},
     "nuid": "36999c8d-4ce0-47f8-b6bc-d40817d135dd",
     "showTitle": false,
     "title": ""
    }
   },
   "outputs": [],
   "source": [
    "df_inventory.write.format(\"delta\").mode(\"overwrite\").saveAsTable(\"sakila_dlh.dim_inventory\")"
   ]
  },
  {
   "cell_type": "code",
   "execution_count": 0,
   "metadata": {
    "application/vnd.databricks.v1+cell": {
     "cellMetadata": {
      "byteLimit": 2048000,
      "implicitDf": true,
      "rowLimit": 10000
     },
     "inputWidgets": {},
     "nuid": "e3f857ae-fedf-4984-ae51-a5006fe774d7",
     "showTitle": false,
     "title": ""
    }
   },
   "outputs": [
    {
     "output_type": "display_data",
     "data": {
      "text/html": [
       "<style scoped>\n",
       "  .table-result-container {\n",
       "    max-height: 300px;\n",
       "    overflow: auto;\n",
       "  }\n",
       "  table, th, td {\n",
       "    border: 1px solid black;\n",
       "    border-collapse: collapse;\n",
       "  }\n",
       "  th, td {\n",
       "    padding: 5px;\n",
       "  }\n",
       "  th {\n",
       "    text-align: left;\n",
       "  }\n",
       "</style><div class='table-result-container'><table class='table-result'><thead style='background-color: white'><tr><th>col_name</th><th>data_type</th><th>comment</th></tr></thead><tbody><tr><td>inventory_key</td><td>int</td><td>null</td></tr><tr><td>film_id</td><td>int</td><td>null</td></tr><tr><td>store_id</td><td>int</td><td>null</td></tr><tr><td></td><td></td><td></td></tr><tr><td># Detailed Table Information</td><td></td><td></td></tr><tr><td>Catalog</td><td>spark_catalog</td><td></td></tr><tr><td>Database</td><td>sakila_dlh</td><td></td></tr><tr><td>Table</td><td>dim_inventory</td><td></td></tr><tr><td>Type</td><td>MANAGED</td><td></td></tr><tr><td>Location</td><td>dbfs:/FileStore/MassarelliEva-Capstone/sakila_dlh/dim_inventory</td><td></td></tr><tr><td>Provider</td><td>delta</td><td></td></tr><tr><td>Owner</td><td>root</td><td></td></tr><tr><td>Is_managed_location</td><td>true</td><td></td></tr><tr><td>Table Properties</td><td>[delta.minReaderVersion=1,delta.minWriterVersion=2]</td><td></td></tr></tbody></table></div>"
      ]
     },
     "metadata": {
      "application/vnd.databricks.v1+output": {
       "addedWidgets": {},
       "aggData": [],
       "aggError": "",
       "aggOverflow": false,
       "aggSchema": [],
       "aggSeriesLimitReached": false,
       "aggType": "",
       "arguments": {},
       "columnCustomDisplayInfos": {},
       "data": [
        [
         "inventory_key",
         "int",
         null
        ],
        [
         "film_id",
         "int",
         null
        ],
        [
         "store_id",
         "int",
         null
        ],
        [
         "",
         "",
         ""
        ],
        [
         "# Detailed Table Information",
         "",
         ""
        ],
        [
         "Catalog",
         "spark_catalog",
         ""
        ],
        [
         "Database",
         "sakila_dlh",
         ""
        ],
        [
         "Table",
         "dim_inventory",
         ""
        ],
        [
         "Type",
         "MANAGED",
         ""
        ],
        [
         "Location",
         "dbfs:/FileStore/MassarelliEva-Capstone/sakila_dlh/dim_inventory",
         ""
        ],
        [
         "Provider",
         "delta",
         ""
        ],
        [
         "Owner",
         "root",
         ""
        ],
        [
         "Is_managed_location",
         "true",
         ""
        ],
        [
         "Table Properties",
         "[delta.minReaderVersion=1,delta.minWriterVersion=2]",
         ""
        ]
       ],
       "datasetInfos": [],
       "dbfsResultPath": null,
       "isJsonSchema": true,
       "metadata": {},
       "overflow": false,
       "plotOptions": {
        "customPlotOptions": {},
        "displayType": "table",
        "pivotAggregation": null,
        "pivotColumns": null,
        "xColumns": null,
        "yColumns": null
       },
       "removedWidgets": [],
       "schema": [
        {
         "metadata": "{\"comment\":\"name of the column\"}",
         "name": "col_name",
         "type": "\"string\""
        },
        {
         "metadata": "{\"comment\":\"data type of the column\"}",
         "name": "data_type",
         "type": "\"string\""
        },
        {
         "metadata": "{\"comment\":\"comment of the column\"}",
         "name": "comment",
         "type": "\"string\""
        }
       ],
       "type": "table"
      }
     },
     "output_type": "display_data"
    }
   ],
   "source": [
    "%sql\n",
    "DESCRIBE EXTENDED sakila_dlh.dim_inventory;"
   ]
  },
  {
   "cell_type": "code",
   "execution_count": 0,
   "metadata": {
    "application/vnd.databricks.v1+cell": {
     "cellMetadata": {
      "byteLimit": 2048000,
      "implicitDf": true,
      "rowLimit": 10000
     },
     "inputWidgets": {},
     "nuid": "da35ad65-400d-45f1-928f-dfeccfccf359",
     "showTitle": false,
     "title": ""
    }
   },
   "outputs": [
    {
     "output_type": "display_data",
     "data": {
      "text/html": [
       "<style scoped>\n",
       "  .table-result-container {\n",
       "    max-height: 300px;\n",
       "    overflow: auto;\n",
       "  }\n",
       "  table, th, td {\n",
       "    border: 1px solid black;\n",
       "    border-collapse: collapse;\n",
       "  }\n",
       "  th, td {\n",
       "    padding: 5px;\n",
       "  }\n",
       "  th {\n",
       "    text-align: left;\n",
       "  }\n",
       "</style><div class='table-result-container'><table class='table-result'><thead style='background-color: white'><tr><th>inventory_key</th><th>film_id</th><th>store_id</th></tr></thead><tbody><tr><td>1</td><td>1</td><td>1</td></tr><tr><td>2</td><td>1</td><td>1</td></tr><tr><td>3</td><td>1</td><td>1</td></tr><tr><td>4</td><td>1</td><td>1</td></tr><tr><td>5</td><td>1</td><td>2</td></tr></tbody></table></div>"
      ]
     },
     "metadata": {
      "application/vnd.databricks.v1+output": {
       "addedWidgets": {},
       "aggData": [],
       "aggError": "",
       "aggOverflow": false,
       "aggSchema": [],
       "aggSeriesLimitReached": false,
       "aggType": "",
       "arguments": {},
       "columnCustomDisplayInfos": {},
       "data": [
        [
         1,
         1,
         1
        ],
        [
         2,
         1,
         1
        ],
        [
         3,
         1,
         1
        ],
        [
         4,
         1,
         1
        ],
        [
         5,
         1,
         2
        ]
       ],
       "datasetInfos": [],
       "dbfsResultPath": null,
       "isJsonSchema": true,
       "metadata": {},
       "overflow": false,
       "plotOptions": {
        "customPlotOptions": {},
        "displayType": "table",
        "pivotAggregation": null,
        "pivotColumns": null,
        "xColumns": null,
        "yColumns": null
       },
       "removedWidgets": [],
       "schema": [
        {
         "metadata": "{}",
         "name": "inventory_key",
         "type": "\"integer\""
        },
        {
         "metadata": "{}",
         "name": "film_id",
         "type": "\"integer\""
        },
        {
         "metadata": "{}",
         "name": "store_id",
         "type": "\"integer\""
        }
       ],
       "type": "table"
      }
     },
     "output_type": "display_data"
    }
   ],
   "source": [
    "%sql\n",
    "SELECT * FROM sakila_dlh.dim_inventory LIMIT 5;"
   ]
  },
  {
   "cell_type": "markdown",
   "metadata": {
    "application/vnd.databricks.v1+cell": {
     "cellMetadata": {
      "byteLimit": 2048000,
      "rowLimit": 10000
     },
     "inputWidgets": {},
     "nuid": "2cbc29ba-50b2-4c55-b60f-004dddf5d678",
     "showTitle": false,
     "title": ""
    }
   },
   "source": [
    "##### 3.3 Use PySpark to Read Payment Dimension Data from CSV File"
   ]
  },
  {
   "cell_type": "code",
   "execution_count": 0,
   "metadata": {
    "application/vnd.databricks.v1+cell": {
     "cellMetadata": {
      "byteLimit": 2048000,
      "rowLimit": 10000
     },
     "inputWidgets": {},
     "nuid": "4f767df7-56ba-4c8c-8a91-3062f943ebbf",
     "showTitle": false,
     "title": ""
    }
   },
   "outputs": [
    {
     "output_type": "display_data",
     "data": {
      "text/html": [
       "<style scoped>\n",
       "  .table-result-container {\n",
       "    max-height: 300px;\n",
       "    overflow: auto;\n",
       "  }\n",
       "  table, th, td {\n",
       "    border: 1px solid black;\n",
       "    border-collapse: collapse;\n",
       "  }\n",
       "  th, td {\n",
       "    padding: 5px;\n",
       "  }\n",
       "  th {\n",
       "    text-align: left;\n",
       "  }\n",
       "</style><div class='table-result-container'><table class='table-result'><thead style='background-color: white'><tr><th>payment_key</th><th>customer_id</th><th>staff_id</th><th>rental_id</th><th>amount</th><th>payment_date</th></tr></thead><tbody><tr><td>1</td><td>1</td><td>1</td><td>76</td><td>2.99</td><td>2005-08-23</td></tr><tr><td>2</td><td>1</td><td>1</td><td>573</td><td>0.99</td><td>2005-08-23</td></tr><tr><td>3</td><td>1</td><td>1</td><td>1185</td><td>5.99</td><td>2005-08-23</td></tr><tr><td>4</td><td>1</td><td>2</td><td>1422</td><td>0.99</td><td>2005-08-23</td></tr><tr><td>5</td><td>1</td><td>2</td><td>1476</td><td>9.99</td><td>2005-08-23</td></tr><tr><td>6</td><td>1</td><td>1</td><td>1725</td><td>4.99</td><td>2005-08-23</td></tr><tr><td>7</td><td>1</td><td>1</td><td>2308</td><td>4.99</td><td>2005-08-23</td></tr><tr><td>8</td><td>1</td><td>2</td><td>2363</td><td>0.99</td><td>2005-08-23</td></tr><tr><td>9</td><td>1</td><td>1</td><td>3284</td><td>3.99</td><td>2005-08-23</td></tr><tr><td>10</td><td>1</td><td>2</td><td>4526</td><td>5.99</td><td>2005-08-23</td></tr></tbody></table></div>"
      ]
     },
     "metadata": {
      "application/vnd.databricks.v1+output": {
       "addedWidgets": {},
       "aggData": [],
       "aggError": "",
       "aggOverflow": false,
       "aggSchema": [],
       "aggSeriesLimitReached": false,
       "aggType": "",
       "arguments": {},
       "columnCustomDisplayInfos": {},
       "data": [
        [
         1,
         1,
         1,
         76,
         2.99,
         "2005-08-23"
        ],
        [
         2,
         1,
         1,
         573,
         0.99,
         "2005-08-23"
        ],
        [
         3,
         1,
         1,
         1185,
         5.99,
         "2005-08-23"
        ],
        [
         4,
         1,
         2,
         1422,
         0.99,
         "2005-08-23"
        ],
        [
         5,
         1,
         2,
         1476,
         9.99,
         "2005-08-23"
        ],
        [
         6,
         1,
         1,
         1725,
         4.99,
         "2005-08-23"
        ],
        [
         7,
         1,
         1,
         2308,
         4.99,
         "2005-08-23"
        ],
        [
         8,
         1,
         2,
         2363,
         0.99,
         "2005-08-23"
        ],
        [
         9,
         1,
         1,
         3284,
         3.99,
         "2005-08-23"
        ],
        [
         10,
         1,
         2,
         4526,
         5.99,
         "2005-08-23"
        ]
       ],
       "datasetInfos": [],
       "dbfsResultPath": null,
       "isJsonSchema": true,
       "metadata": {},
       "overflow": false,
       "plotOptions": {
        "customPlotOptions": {},
        "displayType": "table",
        "pivotAggregation": null,
        "pivotColumns": null,
        "xColumns": null,
        "yColumns": null
       },
       "removedWidgets": [],
       "schema": [
        {
         "metadata": "{}",
         "name": "payment_key",
         "type": "\"integer\""
        },
        {
         "metadata": "{}",
         "name": "customer_id",
         "type": "\"integer\""
        },
        {
         "metadata": "{}",
         "name": "staff_id",
         "type": "\"integer\""
        },
        {
         "metadata": "{}",
         "name": "rental_id",
         "type": "\"integer\""
        },
        {
         "metadata": "{}",
         "name": "amount",
         "type": "\"double\""
        },
        {
         "metadata": "{\"__detected_date_formats\":\"yyyy-M-d\"}",
         "name": "payment_date",
         "type": "\"date\""
        }
       ],
       "type": "table"
      }
     },
     "output_type": "display_data"
    }
   ],
   "source": [
    "payments_csv = f\"{batch_dir}/Sakila_DimPayments.csv\"\n",
    "\n",
    "df_payments = spark.read.format('csv').options(header='true', inferSchema='true').load(payments_csv)\n",
    "display(df_payments.limit(10))"
   ]
  },
  {
   "cell_type": "code",
   "execution_count": 0,
   "metadata": {
    "application/vnd.databricks.v1+cell": {
     "cellMetadata": {
      "byteLimit": 2048000,
      "rowLimit": 10000
     },
     "inputWidgets": {},
     "nuid": "c22c2232-4ed7-4df3-84ef-00fba25b0bba",
     "showTitle": false,
     "title": ""
    }
   },
   "outputs": [
    {
     "output_type": "stream",
     "name": "stdout",
     "output_type": "stream",
     "text": [
      "root\n |-- payment_key: integer (nullable = true)\n |-- customer_id: integer (nullable = true)\n |-- staff_id: integer (nullable = true)\n |-- rental_id: integer (nullable = true)\n |-- amount: double (nullable = true)\n |-- payment_date: date (nullable = true)\n\n"
     ]
    }
   ],
   "source": [
    "df_payments.printSchema()"
   ]
  },
  {
   "cell_type": "code",
   "execution_count": 0,
   "metadata": {
    "application/vnd.databricks.v1+cell": {
     "cellMetadata": {
      "byteLimit": 2048000,
      "rowLimit": 10000
     },
     "inputWidgets": {},
     "nuid": "f2e9149a-1e76-4217-9726-369dd45d743a",
     "showTitle": false,
     "title": ""
    }
   },
   "outputs": [],
   "source": [
    "df_payments.write.format(\"delta\").mode(\"overwrite\").saveAsTable(\"sakila_dlh.dim_payments\")"
   ]
  },
  {
   "cell_type": "code",
   "execution_count": 0,
   "metadata": {
    "application/vnd.databricks.v1+cell": {
     "cellMetadata": {
      "byteLimit": 2048000,
      "implicitDf": true,
      "rowLimit": 10000
     },
     "inputWidgets": {},
     "nuid": "9dff15a9-0f42-410b-8572-ce2cab8222b2",
     "showTitle": false,
     "title": ""
    }
   },
   "outputs": [
    {
     "output_type": "display_data",
     "data": {
      "text/html": [
       "<style scoped>\n",
       "  .table-result-container {\n",
       "    max-height: 300px;\n",
       "    overflow: auto;\n",
       "  }\n",
       "  table, th, td {\n",
       "    border: 1px solid black;\n",
       "    border-collapse: collapse;\n",
       "  }\n",
       "  th, td {\n",
       "    padding: 5px;\n",
       "  }\n",
       "  th {\n",
       "    text-align: left;\n",
       "  }\n",
       "</style><div class='table-result-container'><table class='table-result'><thead style='background-color: white'><tr><th>col_name</th><th>data_type</th><th>comment</th></tr></thead><tbody><tr><td>payment_key</td><td>int</td><td>null</td></tr><tr><td>customer_id</td><td>int</td><td>null</td></tr><tr><td>staff_id</td><td>int</td><td>null</td></tr><tr><td>rental_id</td><td>int</td><td>null</td></tr><tr><td>amount</td><td>double</td><td>null</td></tr><tr><td>payment_date</td><td>date</td><td>null</td></tr><tr><td></td><td></td><td></td></tr><tr><td># Detailed Table Information</td><td></td><td></td></tr><tr><td>Catalog</td><td>spark_catalog</td><td></td></tr><tr><td>Database</td><td>sakila_dlh</td><td></td></tr><tr><td>Table</td><td>dim_payments</td><td></td></tr><tr><td>Type</td><td>MANAGED</td><td></td></tr><tr><td>Location</td><td>dbfs:/FileStore/MassarelliEva-Capstone/sakila_dlh/dim_payments</td><td></td></tr><tr><td>Provider</td><td>delta</td><td></td></tr><tr><td>Owner</td><td>root</td><td></td></tr><tr><td>Is_managed_location</td><td>true</td><td></td></tr><tr><td>Table Properties</td><td>[delta.minReaderVersion=1,delta.minWriterVersion=2]</td><td></td></tr></tbody></table></div>"
      ]
     },
     "metadata": {
      "application/vnd.databricks.v1+output": {
       "addedWidgets": {},
       "aggData": [],
       "aggError": "",
       "aggOverflow": false,
       "aggSchema": [],
       "aggSeriesLimitReached": false,
       "aggType": "",
       "arguments": {},
       "columnCustomDisplayInfos": {},
       "data": [
        [
         "payment_key",
         "int",
         null
        ],
        [
         "customer_id",
         "int",
         null
        ],
        [
         "staff_id",
         "int",
         null
        ],
        [
         "rental_id",
         "int",
         null
        ],
        [
         "amount",
         "double",
         null
        ],
        [
         "payment_date",
         "date",
         null
        ],
        [
         "",
         "",
         ""
        ],
        [
         "# Detailed Table Information",
         "",
         ""
        ],
        [
         "Catalog",
         "spark_catalog",
         ""
        ],
        [
         "Database",
         "sakila_dlh",
         ""
        ],
        [
         "Table",
         "dim_payments",
         ""
        ],
        [
         "Type",
         "MANAGED",
         ""
        ],
        [
         "Location",
         "dbfs:/FileStore/MassarelliEva-Capstone/sakila_dlh/dim_payments",
         ""
        ],
        [
         "Provider",
         "delta",
         ""
        ],
        [
         "Owner",
         "root",
         ""
        ],
        [
         "Is_managed_location",
         "true",
         ""
        ],
        [
         "Table Properties",
         "[delta.minReaderVersion=1,delta.minWriterVersion=2]",
         ""
        ]
       ],
       "datasetInfos": [],
       "dbfsResultPath": null,
       "isJsonSchema": true,
       "metadata": {},
       "overflow": false,
       "plotOptions": {
        "customPlotOptions": {},
        "displayType": "table",
        "pivotAggregation": null,
        "pivotColumns": null,
        "xColumns": null,
        "yColumns": null
       },
       "removedWidgets": [],
       "schema": [
        {
         "metadata": "{\"comment\":\"name of the column\"}",
         "name": "col_name",
         "type": "\"string\""
        },
        {
         "metadata": "{\"comment\":\"data type of the column\"}",
         "name": "data_type",
         "type": "\"string\""
        },
        {
         "metadata": "{\"comment\":\"comment of the column\"}",
         "name": "comment",
         "type": "\"string\""
        }
       ],
       "type": "table"
      }
     },
     "output_type": "display_data"
    }
   ],
   "source": [
    "%sql\n",
    "DESCRIBE EXTENDED sakila_dlh.dim_payments;"
   ]
  },
  {
   "cell_type": "code",
   "execution_count": 0,
   "metadata": {
    "application/vnd.databricks.v1+cell": {
     "cellMetadata": {
      "byteLimit": 2048000,
      "implicitDf": true,
      "rowLimit": 10000
     },
     "inputWidgets": {},
     "nuid": "06953598-994c-4fa5-91bf-30c95fbaaf3b",
     "showTitle": false,
     "title": ""
    }
   },
   "outputs": [
    {
     "output_type": "display_data",
     "data": {
      "text/html": [
       "<style scoped>\n",
       "  .table-result-container {\n",
       "    max-height: 300px;\n",
       "    overflow: auto;\n",
       "  }\n",
       "  table, th, td {\n",
       "    border: 1px solid black;\n",
       "    border-collapse: collapse;\n",
       "  }\n",
       "  th, td {\n",
       "    padding: 5px;\n",
       "  }\n",
       "  th {\n",
       "    text-align: left;\n",
       "  }\n",
       "</style><div class='table-result-container'><table class='table-result'><thead style='background-color: white'><tr><th>payment_key</th><th>customer_id</th><th>staff_id</th><th>rental_id</th><th>amount</th><th>payment_date</th></tr></thead><tbody><tr><td>1</td><td>1</td><td>1</td><td>76</td><td>2.99</td><td>2005-08-23</td></tr><tr><td>2</td><td>1</td><td>1</td><td>573</td><td>0.99</td><td>2005-08-23</td></tr><tr><td>3</td><td>1</td><td>1</td><td>1185</td><td>5.99</td><td>2005-08-23</td></tr><tr><td>4</td><td>1</td><td>2</td><td>1422</td><td>0.99</td><td>2005-08-23</td></tr><tr><td>5</td><td>1</td><td>2</td><td>1476</td><td>9.99</td><td>2005-08-23</td></tr></tbody></table></div>"
      ]
     },
     "metadata": {
      "application/vnd.databricks.v1+output": {
       "addedWidgets": {},
       "aggData": [],
       "aggError": "",
       "aggOverflow": false,
       "aggSchema": [],
       "aggSeriesLimitReached": false,
       "aggType": "",
       "arguments": {},
       "columnCustomDisplayInfos": {},
       "data": [
        [
         1,
         1,
         1,
         76,
         2.99,
         "2005-08-23"
        ],
        [
         2,
         1,
         1,
         573,
         0.99,
         "2005-08-23"
        ],
        [
         3,
         1,
         1,
         1185,
         5.99,
         "2005-08-23"
        ],
        [
         4,
         1,
         2,
         1422,
         0.99,
         "2005-08-23"
        ],
        [
         5,
         1,
         2,
         1476,
         9.99,
         "2005-08-23"
        ]
       ],
       "datasetInfos": [],
       "dbfsResultPath": null,
       "isJsonSchema": true,
       "metadata": {},
       "overflow": false,
       "plotOptions": {
        "customPlotOptions": {},
        "displayType": "table",
        "pivotAggregation": null,
        "pivotColumns": null,
        "xColumns": null,
        "yColumns": null
       },
       "removedWidgets": [],
       "schema": [
        {
         "metadata": "{}",
         "name": "payment_key",
         "type": "\"integer\""
        },
        {
         "metadata": "{}",
         "name": "customer_id",
         "type": "\"integer\""
        },
        {
         "metadata": "{}",
         "name": "staff_id",
         "type": "\"integer\""
        },
        {
         "metadata": "{}",
         "name": "rental_id",
         "type": "\"integer\""
        },
        {
         "metadata": "{}",
         "name": "amount",
         "type": "\"double\""
        },
        {
         "metadata": "{\"__detected_date_formats\":\"yyyy-M-d\"}",
         "name": "payment_date",
         "type": "\"date\""
        }
       ],
       "type": "table"
      }
     },
     "output_type": "display_data"
    }
   ],
   "source": [
    "%sql\n",
    "SELECT * FROM sakila_dlh.dim_payments LIMIT 5;"
   ]
  },
  {
   "cell_type": "markdown",
   "metadata": {
    "application/vnd.databricks.v1+cell": {
     "cellMetadata": {
      "byteLimit": 2048000,
      "rowLimit": 10000
     },
     "inputWidgets": {},
     "nuid": "10b2930e-732d-409a-9853-28738802fac4",
     "showTitle": false,
     "title": ""
    }
   },
   "source": [
    "##### Verify Dimension Tables"
   ]
  },
  {
   "cell_type": "code",
   "execution_count": 0,
   "metadata": {
    "application/vnd.databricks.v1+cell": {
     "cellMetadata": {
      "byteLimit": 2048000,
      "implicitDf": true,
      "rowLimit": 10000
     },
     "inputWidgets": {},
     "nuid": "0da830d5-ecdd-4b6f-bc43-7c7559e9d34e",
     "showTitle": false,
     "title": ""
    }
   },
   "outputs": [
    {
     "output_type": "display_data",
     "data": {
      "text/html": [
       "<style scoped>\n",
       "  .table-result-container {\n",
       "    max-height: 300px;\n",
       "    overflow: auto;\n",
       "  }\n",
       "  table, th, td {\n",
       "    border: 1px solid black;\n",
       "    border-collapse: collapse;\n",
       "  }\n",
       "  th, td {\n",
       "    padding: 5px;\n",
       "  }\n",
       "  th {\n",
       "    text-align: left;\n",
       "  }\n",
       "</style><div class='table-result-container'><table class='table-result'><thead style='background-color: white'><tr><th>database</th><th>tableName</th><th>isTemporary</th></tr></thead><tbody><tr><td>sakila_dlh</td><td>dim_customer</td><td>false</td></tr><tr><td>sakila_dlh</td><td>dim_date</td><td>false</td></tr><tr><td>sakila_dlh</td><td>dim_films</td><td>false</td></tr><tr><td>sakila_dlh</td><td>dim_inventory</td><td>false</td></tr><tr><td>sakila_dlh</td><td>dim_payments</td><td>false</td></tr><tr><td>sakila_dlh</td><td>dim_rentals</td><td>false</td></tr><tr><td>sakila_dlh</td><td>dim_staff</td><td>false</td></tr><tr><td>sakila_dlh</td><td>dim_stores</td><td>false</td></tr><tr><td></td><td>view_date</td><td>true</td></tr><tr><td></td><td>view_films</td><td>true</td></tr><tr><td></td><td>view_rentals</td><td>true</td></tr></tbody></table></div>"
      ]
     },
     "metadata": {
      "application/vnd.databricks.v1+output": {
       "addedWidgets": {},
       "aggData": [],
       "aggError": "",
       "aggOverflow": false,
       "aggSchema": [],
       "aggSeriesLimitReached": false,
       "aggType": "",
       "arguments": {},
       "columnCustomDisplayInfos": {},
       "data": [
        [
         "sakila_dlh",
         "dim_customer",
         false
        ],
        [
         "sakila_dlh",
         "dim_date",
         false
        ],
        [
         "sakila_dlh",
         "dim_films",
         false
        ],
        [
         "sakila_dlh",
         "dim_inventory",
         false
        ],
        [
         "sakila_dlh",
         "dim_payments",
         false
        ],
        [
         "sakila_dlh",
         "dim_rentals",
         false
        ],
        [
         "sakila_dlh",
         "dim_staff",
         false
        ],
        [
         "sakila_dlh",
         "dim_stores",
         false
        ],
        [
         "",
         "view_date",
         true
        ],
        [
         "",
         "view_films",
         true
        ],
        [
         "",
         "view_rentals",
         true
        ]
       ],
       "datasetInfos": [],
       "dbfsResultPath": null,
       "isJsonSchema": true,
       "metadata": {},
       "overflow": false,
       "plotOptions": {
        "customPlotOptions": {},
        "displayType": "table",
        "pivotAggregation": null,
        "pivotColumns": null,
        "xColumns": null,
        "yColumns": null
       },
       "removedWidgets": [],
       "schema": [
        {
         "metadata": "{}",
         "name": "database",
         "type": "\"string\""
        },
        {
         "metadata": "{}",
         "name": "tableName",
         "type": "\"string\""
        },
        {
         "metadata": "{}",
         "name": "isTemporary",
         "type": "\"boolean\""
        }
       ],
       "type": "table"
      }
     },
     "output_type": "display_data"
    }
   ],
   "source": [
    "%sql\n",
    "USE sakila_dlh;\n",
    "SHOW TABLES"
   ]
  },
  {
   "cell_type": "markdown",
   "metadata": {
    "application/vnd.databricks.v1+cell": {
     "cellMetadata": {
      "byteLimit": 2048000,
      "rowLimit": 10000
     },
     "inputWidgets": {},
     "nuid": "7cd1e0df-ee40-4631-95f2-fecd438276d8",
     "showTitle": false,
     "title": ""
    }
   },
   "source": [
    "### Section III: Integrate Reference Data with Real-Time Data\n",
    "#### 6.0. Use AutoLoader to Process Streaming (Hot Path) Rentals Fact Data \n",
    "##### 6.1. Bronze Table: Process 'Raw' JSON Data"
   ]
  },
  {
   "cell_type": "markdown",
   "metadata": {
    "application/vnd.databricks.v1+cell": {
     "cellMetadata": {
      "byteLimit": 2048000,
      "rowLimit": 10000
     },
     "inputWidgets": {},
     "nuid": "9e4b3fd2-7f72-4854-8600-0db422b35d71",
     "showTitle": false,
     "title": ""
    }
   },
   "source": [
    "Go to mysql workbench, right click table and click create table to get this info"
   ]
  },
  {
   "cell_type": "code",
   "execution_count": 0,
   "metadata": {
    "application/vnd.databricks.v1+cell": {
     "cellMetadata": {
      "byteLimit": 2048000,
      "rowLimit": 10000
     },
     "inputWidgets": {},
     "nuid": "34000bc1-7f1b-4d21-bfd2-10e2bf9ee979",
     "showTitle": false,
     "title": ""
    }
   },
   "outputs": [],
   "source": [
    "(spark.readStream\n",
    " .format(\"cloudFiles\")\n",
    " .option(\"cloudFiles.format\", \"json\")\n",
    " .option(\"cloudFiles.schemaHints\", \"fact_order_key BIGINT\")\n",
    " .option(\"cloudFiles.schemaHints\", \"rental_key BIGINT\")\n",
    " .option(\"cloudFiles.schemaHints\", \"store_key BIGINT\")\n",
    " .option(\"cloudFiles.schemaHints\", \"film_key BIGINT\") \n",
    " .option(\"cloudFiles.schemaHints\", \"customer_key BIGINT\")\n",
    " .option(\"cloudFiles.schemaHints\", \"staff_key BIGINT\")\n",
    " .option(\"cloudFiles.schemaHints\", \"rental_date_key DECIMAL\")\n",
    " .option(\"cloudFiles.schemaHints\", \"return_date_key DECIMAL\")\n",
    " .option(\"cloudFiles.schemaHints\", \"payment_date_key DECIMAL\") \n",
    " .option(\"cloudFiles.schemaHints\", \"amount DOUBLE\")\n",
    " .option(\"cloudFiles.schemaLocation\", rentals_output_bronze)\n",
    " .option(\"cloudFiles.inferColumnTypes\", \"true\")\n",
    " .option(\"multiLine\", \"true\")\n",
    " .load(rentals_stream_dir)\n",
    " .createOrReplaceTempView(\"rentals_raw_tempview\"))"
   ]
  },
  {
   "cell_type": "code",
   "execution_count": 0,
   "metadata": {
    "application/vnd.databricks.v1+cell": {
     "cellMetadata": {
      "byteLimit": 2048000,
      "implicitDf": true,
      "rowLimit": 10000
     },
     "inputWidgets": {},
     "nuid": "acf1fa4c-6860-4a4b-9046-bd79a738891b",
     "showTitle": false,
     "title": ""
    }
   },
   "outputs": [
    {
     "output_type": "display_data",
     "data": {
      "text/html": [
       "<style scoped>\n",
       "  .table-result-container {\n",
       "    max-height: 300px;\n",
       "    overflow: auto;\n",
       "  }\n",
       "  table, th, td {\n",
       "    border: 1px solid black;\n",
       "    border-collapse: collapse;\n",
       "  }\n",
       "  th, td {\n",
       "    padding: 5px;\n",
       "  }\n",
       "  th {\n",
       "    text-align: left;\n",
       "  }\n",
       "</style><div class='table-result-container'><table class='table-result'><thead style='background-color: white'><tr></tr></thead><tbody></tbody></table></div>"
      ]
     },
     "metadata": {
      "application/vnd.databricks.v1+output": {
       "addedWidgets": {},
       "aggData": [],
       "aggError": "",
       "aggOverflow": false,
       "aggSchema": [],
       "aggSeriesLimitReached": false,
       "aggType": "",
       "arguments": {},
       "columnCustomDisplayInfos": {},
       "data": [],
       "datasetInfos": [],
       "dbfsResultPath": null,
       "isJsonSchema": true,
       "metadata": {},
       "overflow": false,
       "plotOptions": {
        "customPlotOptions": {},
        "displayType": "table",
        "pivotAggregation": null,
        "pivotColumns": null,
        "xColumns": null,
        "yColumns": null
       },
       "removedWidgets": [],
       "schema": [],
       "type": "table"
      }
     },
     "output_type": "display_data"
    }
   ],
   "source": [
    "%sql\n",
    "/* Add Metadata for Traceability */\n",
    "CREATE OR REPLACE TEMPORARY VIEW rentals_bronze_tempview AS (\n",
    "  SELECT *, current_timestamp() receipt_time, input_file_name() source_file\n",
    "  FROM rentals_raw_tempview\n",
    ")"
   ]
  },
  {
   "cell_type": "code",
   "execution_count": 0,
   "metadata": {
    "application/vnd.databricks.v1+cell": {
     "cellMetadata": {
      "byteLimit": 2048000,
      "implicitDf": true,
      "rowLimit": 10000
     },
     "inputWidgets": {},
     "nuid": "93ecede6-693c-4949-8aba-b2344680af03",
     "showTitle": false,
     "title": ""
    }
   },
   "outputs": [
    {
     "output_type": "display_data",
     "data": {
      "text/html": [
       "<style scoped>\n",
       "  .table-result-container {\n",
       "    max-height: 300px;\n",
       "    overflow: auto;\n",
       "  }\n",
       "  table, th, td {\n",
       "    border: 1px solid black;\n",
       "    border-collapse: collapse;\n",
       "  }\n",
       "  th, td {\n",
       "    padding: 5px;\n",
       "  }\n",
       "  th {\n",
       "    text-align: left;\n",
       "  }\n",
       "</style><div class='table-result-container'><table class='table-result'><thead style='background-color: white'><tr><th>amount</th><th>customer_key</th><th>fact_order_key</th><th>film_key</th><th>payment_date_key</th><th>rental_date_key</th><th>rental_key</th><th>return_date_key</th><th>staff_key</th><th>store_key</th><th>_rescued_data</th><th>receipt_time</th><th>source_file</th></tr></thead><tbody><tr><td>0.99</td><td>19</td><td>501</td><td>875</td><td>20050823</td><td>20050823</td><td>9256</td><td>20050830</td><td>1</td><td>2</td><td>null</td><td>2023-05-02T00:02:52.667+0000</td><td>dbfs:/FileStore/MassarelliEva-Capstone/source_data/stream/rentals/Sakila_DimFactOrders03.json</td></tr><tr><td>9.99</td><td>19</td><td>502</td><td>506</td><td>20050823</td><td>20050823</td><td>10077</td><td>20050830</td><td>1</td><td>2</td><td>null</td><td>2023-05-02T00:02:52.667+0000</td><td>dbfs:/FileStore/MassarelliEva-Capstone/source_data/stream/rentals/Sakila_DimFactOrders03.json</td></tr><tr><td>7.99</td><td>19</td><td>503</td><td>263</td><td>20050823</td><td>20050823</td><td>10176</td><td>20050830</td><td>2</td><td>1</td><td>null</td><td>2023-05-02T00:02:52.667+0000</td><td>dbfs:/FileStore/MassarelliEva-Capstone/source_data/stream/rentals/Sakila_DimFactOrders03.json</td></tr><tr><td>8.99</td><td>19</td><td>504</td><td>590</td><td>20050823</td><td>20050823</td><td>11508</td><td>20050830</td><td>2</td><td>1</td><td>null</td><td>2023-05-02T00:02:52.667+0000</td><td>dbfs:/FileStore/MassarelliEva-Capstone/source_data/stream/rentals/Sakila_DimFactOrders03.json</td></tr><tr><td>5.99</td><td>19</td><td>505</td><td>757</td><td>20050823</td><td>20050823</td><td>11869</td><td>20050830</td><td>1</td><td>1</td><td>null</td><td>2023-05-02T00:02:52.667+0000</td><td>dbfs:/FileStore/MassarelliEva-Capstone/source_data/stream/rentals/Sakila_DimFactOrders03.json</td></tr></tbody></table></div>"
      ]
     },
     "metadata": {
      "application/vnd.databricks.v1+output": {
       "addedWidgets": {},
       "aggData": [],
       "aggError": "",
       "aggOverflow": false,
       "aggSchema": [],
       "aggSeriesLimitReached": false,
       "aggType": "",
       "arguments": {},
       "columnCustomDisplayInfos": {},
       "data": [
        [
         0.99,
         19,
         501,
         875,
         20050823,
         20050823,
         9256,
         20050830,
         1,
         2,
         null,
         "2023-05-02T00:02:52.667+0000",
         "dbfs:/FileStore/MassarelliEva-Capstone/source_data/stream/rentals/Sakila_DimFactOrders03.json"
        ],
        [
         9.99,
         19,
         502,
         506,
         20050823,
         20050823,
         10077,
         20050830,
         1,
         2,
         null,
         "2023-05-02T00:02:52.667+0000",
         "dbfs:/FileStore/MassarelliEva-Capstone/source_data/stream/rentals/Sakila_DimFactOrders03.json"
        ],
        [
         7.99,
         19,
         503,
         263,
         20050823,
         20050823,
         10176,
         20050830,
         2,
         1,
         null,
         "2023-05-02T00:02:52.667+0000",
         "dbfs:/FileStore/MassarelliEva-Capstone/source_data/stream/rentals/Sakila_DimFactOrders03.json"
        ],
        [
         8.99,
         19,
         504,
         590,
         20050823,
         20050823,
         11508,
         20050830,
         2,
         1,
         null,
         "2023-05-02T00:02:52.667+0000",
         "dbfs:/FileStore/MassarelliEva-Capstone/source_data/stream/rentals/Sakila_DimFactOrders03.json"
        ],
        [
         5.99,
         19,
         505,
         757,
         20050823,
         20050823,
         11869,
         20050830,
         1,
         1,
         null,
         "2023-05-02T00:02:52.667+0000",
         "dbfs:/FileStore/MassarelliEva-Capstone/source_data/stream/rentals/Sakila_DimFactOrders03.json"
        ]
       ],
       "datasetInfos": [],
       "dbfsResultPath": null,
       "isJsonSchema": true,
       "metadata": {
        "isDbfsCommandResult": false
       },
       "overflow": false,
       "plotOptions": {
        "customPlotOptions": {},
        "displayType": "table",
        "pivotAggregation": null,
        "pivotColumns": null,
        "xColumns": null,
        "yColumns": null
       },
       "removedWidgets": [],
       "schema": [
        {
         "metadata": "{}",
         "name": "amount",
         "type": "\"double\""
        },
        {
         "metadata": "{}",
         "name": "customer_key",
         "type": "\"long\""
        },
        {
         "metadata": "{}",
         "name": "fact_order_key",
         "type": "\"long\""
        },
        {
         "metadata": "{}",
         "name": "film_key",
         "type": "\"long\""
        },
        {
         "metadata": "{}",
         "name": "payment_date_key",
         "type": "\"long\""
        },
        {
         "metadata": "{}",
         "name": "rental_date_key",
         "type": "\"long\""
        },
        {
         "metadata": "{}",
         "name": "rental_key",
         "type": "\"long\""
        },
        {
         "metadata": "{}",
         "name": "return_date_key",
         "type": "\"long\""
        },
        {
         "metadata": "{}",
         "name": "staff_key",
         "type": "\"long\""
        },
        {
         "metadata": "{}",
         "name": "store_key",
         "type": "\"long\""
        },
        {
         "metadata": "{}",
         "name": "_rescued_data",
         "type": "\"string\""
        },
        {
         "metadata": "{}",
         "name": "receipt_time",
         "type": "\"timestamp\""
        },
        {
         "metadata": "{}",
         "name": "source_file",
         "type": "\"string\""
        }
       ],
       "type": "table"
      }
     },
     "output_type": "display_data"
    }
   ],
   "source": [
    "%sql\n",
    "SELECT * FROM rentals_bronze_tempview LIMIT 5;"
   ]
  },
  {
   "cell_type": "code",
   "execution_count": 0,
   "metadata": {
    "application/vnd.databricks.v1+cell": {
     "cellMetadata": {
      "byteLimit": 2048000,
      "rowLimit": 10000
     },
     "inputWidgets": {},
     "nuid": "e89a9e0c-69da-452a-92d5-724fb81529ed",
     "showTitle": false,
     "title": ""
    }
   },
   "outputs": [
    {
     "output_type": "stream",
     "name": "stdout",
     "output_type": "stream",
     "text": [
      "Out[63]: <pyspark.sql.streaming.query.StreamingQuery at 0x7f6508317730>"
     ]
    }
   ],
   "source": [
    "(spark.table(\"rentals_bronze_tempview\")\n",
    "      .writeStream\n",
    "      .format(\"delta\")\n",
    "      .option(\"checkpointLocation\", f\"{rentals_output_bronze}/_checkpoint\")\n",
    "      .outputMode(\"append\")\n",
    "      .table(\"fact_rentals_bronze\"))"
   ]
  },
  {
   "cell_type": "markdown",
   "metadata": {
    "application/vnd.databricks.v1+cell": {
     "cellMetadata": {
      "byteLimit": 2048000,
      "rowLimit": 10000
     },
     "inputWidgets": {},
     "nuid": "030a8ad8-1937-4708-91e2-2975eb731862",
     "showTitle": false,
     "title": ""
    }
   },
   "source": [
    "##### 6.2. Silver Table: Include Reference Data"
   ]
  },
  {
   "cell_type": "code",
   "execution_count": 0,
   "metadata": {
    "application/vnd.databricks.v1+cell": {
     "cellMetadata": {
      "byteLimit": 2048000,
      "rowLimit": 10000
     },
     "inputWidgets": {},
     "nuid": "4998a27c-4486-4d7c-bb79-f29d7cdeae01",
     "showTitle": false,
     "title": ""
    }
   },
   "outputs": [],
   "source": [
    "(spark.readStream\n",
    "  .table(\"fact_rentals_bronze\")\n",
    "  .createOrReplaceTempView(\"rentals_silver_tempview\"))"
   ]
  },
  {
   "cell_type": "code",
   "execution_count": 0,
   "metadata": {
    "application/vnd.databricks.v1+cell": {
     "cellMetadata": {
      "byteLimit": 2048000,
      "implicitDf": true,
      "rowLimit": 10000
     },
     "inputWidgets": {},
     "nuid": "b160aaaf-2edc-46eb-8514-765d55695ad5",
     "showTitle": false,
     "title": ""
    }
   },
   "outputs": [
    {
     "output_type": "display_data",
     "data": {
      "text/html": [
       "<style scoped>\n",
       "  .table-result-container {\n",
       "    max-height: 300px;\n",
       "    overflow: auto;\n",
       "  }\n",
       "  table, th, td {\n",
       "    border: 1px solid black;\n",
       "    border-collapse: collapse;\n",
       "  }\n",
       "  th, td {\n",
       "    padding: 5px;\n",
       "  }\n",
       "  th {\n",
       "    text-align: left;\n",
       "  }\n",
       "</style><div class='table-result-container'><table class='table-result'><thead style='background-color: white'><tr><th>amount</th><th>customer_key</th><th>fact_order_key</th><th>film_key</th><th>payment_date_key</th><th>rental_date_key</th><th>rental_key</th><th>return_date_key</th><th>staff_key</th><th>store_key</th><th>_rescued_data</th><th>receipt_time</th><th>source_file</th></tr></thead><tbody><tr><td>2.99</td><td>1</td><td>1</td><td>663</td><td>20050823</td><td>20050823</td><td>76</td><td>20050830</td><td>2</td><td>2</td><td>null</td><td>2023-05-01T23:56:58.275+0000</td><td>dbfs:/FileStore/MassarelliEva-Capstone/source_data/stream/rentals/Sakila_DimFactOrders01.json</td></tr><tr><td>0.99</td><td>1</td><td>2</td><td>875</td><td>20050823</td><td>20050823</td><td>573</td><td>20050830</td><td>1</td><td>2</td><td>null</td><td>2023-05-01T23:56:58.275+0000</td><td>dbfs:/FileStore/MassarelliEva-Capstone/source_data/stream/rentals/Sakila_DimFactOrders01.json</td></tr><tr><td>5.99</td><td>1</td><td>3</td><td>611</td><td>20050823</td><td>20050823</td><td>1185</td><td>20050830</td><td>2</td><td>1</td><td>null</td><td>2023-05-01T23:56:58.275+0000</td><td>dbfs:/FileStore/MassarelliEva-Capstone/source_data/stream/rentals/Sakila_DimFactOrders01.json</td></tr><tr><td>0.99</td><td>1</td><td>4</td><td>228</td><td>20050823</td><td>20050823</td><td>1422</td><td>20050830</td><td>2</td><td>2</td><td>null</td><td>2023-05-01T23:56:58.275+0000</td><td>dbfs:/FileStore/MassarelliEva-Capstone/source_data/stream/rentals/Sakila_DimFactOrders01.json</td></tr><tr><td>9.99</td><td>1</td><td>5</td><td>308</td><td>20050823</td><td>20050823</td><td>1476</td><td>20050830</td><td>1</td><td>1</td><td>null</td><td>2023-05-01T23:56:58.275+0000</td><td>dbfs:/FileStore/MassarelliEva-Capstone/source_data/stream/rentals/Sakila_DimFactOrders01.json</td></tr></tbody></table></div>"
      ]
     },
     "metadata": {
      "application/vnd.databricks.v1+output": {
       "addedWidgets": {},
       "aggData": [],
       "aggError": "",
       "aggOverflow": false,
       "aggSchema": [],
       "aggSeriesLimitReached": false,
       "aggType": "",
       "arguments": {},
       "columnCustomDisplayInfos": {},
       "data": [
        [
         2.99,
         1,
         1,
         663,
         20050823,
         20050823,
         76,
         20050830,
         2,
         2,
         null,
         "2023-05-01T23:56:58.275+0000",
         "dbfs:/FileStore/MassarelliEva-Capstone/source_data/stream/rentals/Sakila_DimFactOrders01.json"
        ],
        [
         0.99,
         1,
         2,
         875,
         20050823,
         20050823,
         573,
         20050830,
         1,
         2,
         null,
         "2023-05-01T23:56:58.275+0000",
         "dbfs:/FileStore/MassarelliEva-Capstone/source_data/stream/rentals/Sakila_DimFactOrders01.json"
        ],
        [
         5.99,
         1,
         3,
         611,
         20050823,
         20050823,
         1185,
         20050830,
         2,
         1,
         null,
         "2023-05-01T23:56:58.275+0000",
         "dbfs:/FileStore/MassarelliEva-Capstone/source_data/stream/rentals/Sakila_DimFactOrders01.json"
        ],
        [
         0.99,
         1,
         4,
         228,
         20050823,
         20050823,
         1422,
         20050830,
         2,
         2,
         null,
         "2023-05-01T23:56:58.275+0000",
         "dbfs:/FileStore/MassarelliEva-Capstone/source_data/stream/rentals/Sakila_DimFactOrders01.json"
        ],
        [
         9.99,
         1,
         5,
         308,
         20050823,
         20050823,
         1476,
         20050830,
         1,
         1,
         null,
         "2023-05-01T23:56:58.275+0000",
         "dbfs:/FileStore/MassarelliEva-Capstone/source_data/stream/rentals/Sakila_DimFactOrders01.json"
        ]
       ],
       "datasetInfos": [],
       "dbfsResultPath": null,
       "isJsonSchema": true,
       "metadata": {
        "isDbfsCommandResult": false
       },
       "overflow": false,
       "plotOptions": {
        "customPlotOptions": {},
        "displayType": "table",
        "pivotAggregation": null,
        "pivotColumns": null,
        "xColumns": null,
        "yColumns": null
       },
       "removedWidgets": [],
       "schema": [
        {
         "metadata": "{}",
         "name": "amount",
         "type": "\"double\""
        },
        {
         "metadata": "{}",
         "name": "customer_key",
         "type": "\"long\""
        },
        {
         "metadata": "{}",
         "name": "fact_order_key",
         "type": "\"long\""
        },
        {
         "metadata": "{}",
         "name": "film_key",
         "type": "\"long\""
        },
        {
         "metadata": "{}",
         "name": "payment_date_key",
         "type": "\"long\""
        },
        {
         "metadata": "{}",
         "name": "rental_date_key",
         "type": "\"long\""
        },
        {
         "metadata": "{}",
         "name": "rental_key",
         "type": "\"long\""
        },
        {
         "metadata": "{}",
         "name": "return_date_key",
         "type": "\"long\""
        },
        {
         "metadata": "{}",
         "name": "staff_key",
         "type": "\"long\""
        },
        {
         "metadata": "{}",
         "name": "store_key",
         "type": "\"long\""
        },
        {
         "metadata": "{}",
         "name": "_rescued_data",
         "type": "\"string\""
        },
        {
         "metadata": "{}",
         "name": "receipt_time",
         "type": "\"timestamp\""
        },
        {
         "metadata": "{}",
         "name": "source_file",
         "type": "\"string\""
        }
       ],
       "type": "table"
      }
     },
     "output_type": "display_data"
    }
   ],
   "source": [
    "%sql\n",
    "SELECT * FROM rentals_silver_tempview LIMIT 5;"
   ]
  },
  {
   "cell_type": "code",
   "execution_count": 0,
   "metadata": {
    "application/vnd.databricks.v1+cell": {
     "cellMetadata": {
      "byteLimit": 2048000,
      "implicitDf": true,
      "rowLimit": 10000
     },
     "inputWidgets": {},
     "nuid": "27e95e9e-62c2-4c85-a66b-7d6e145a4193",
     "showTitle": false,
     "title": ""
    }
   },
   "outputs": [
    {
     "output_type": "display_data",
     "data": {
      "text/html": [
       "<style scoped>\n",
       "  .table-result-container {\n",
       "    max-height: 300px;\n",
       "    overflow: auto;\n",
       "  }\n",
       "  table, th, td {\n",
       "    border: 1px solid black;\n",
       "    border-collapse: collapse;\n",
       "  }\n",
       "  th, td {\n",
       "    padding: 5px;\n",
       "  }\n",
       "  th {\n",
       "    text-align: left;\n",
       "  }\n",
       "</style><div class='table-result-container'><table class='table-result'><thead style='background-color: white'><tr><th>col_name</th><th>data_type</th><th>comment</th></tr></thead><tbody><tr><td>amount</td><td>double</td><td>null</td></tr><tr><td>customer_key</td><td>bigint</td><td>null</td></tr><tr><td>fact_order_key</td><td>bigint</td><td>null</td></tr><tr><td>film_key</td><td>bigint</td><td>null</td></tr><tr><td>payment_date_key</td><td>bigint</td><td>null</td></tr><tr><td>rental_date_key</td><td>bigint</td><td>null</td></tr><tr><td>rental_key</td><td>bigint</td><td>null</td></tr><tr><td>return_date_key</td><td>bigint</td><td>null</td></tr><tr><td>staff_key</td><td>bigint</td><td>null</td></tr><tr><td>store_key</td><td>bigint</td><td>null</td></tr><tr><td>_rescued_data</td><td>string</td><td>null</td></tr><tr><td>receipt_time</td><td>timestamp</td><td>null</td></tr><tr><td>source_file</td><td>string</td><td>null</td></tr></tbody></table></div>"
      ]
     },
     "metadata": {
      "application/vnd.databricks.v1+output": {
       "addedWidgets": {},
       "aggData": [],
       "aggError": "",
       "aggOverflow": false,
       "aggSchema": [],
       "aggSeriesLimitReached": false,
       "aggType": "",
       "arguments": {},
       "columnCustomDisplayInfos": {},
       "data": [
        [
         "amount",
         "double",
         null
        ],
        [
         "customer_key",
         "bigint",
         null
        ],
        [
         "fact_order_key",
         "bigint",
         null
        ],
        [
         "film_key",
         "bigint",
         null
        ],
        [
         "payment_date_key",
         "bigint",
         null
        ],
        [
         "rental_date_key",
         "bigint",
         null
        ],
        [
         "rental_key",
         "bigint",
         null
        ],
        [
         "return_date_key",
         "bigint",
         null
        ],
        [
         "staff_key",
         "bigint",
         null
        ],
        [
         "store_key",
         "bigint",
         null
        ],
        [
         "_rescued_data",
         "string",
         null
        ],
        [
         "receipt_time",
         "timestamp",
         null
        ],
        [
         "source_file",
         "string",
         null
        ]
       ],
       "datasetInfos": [],
       "dbfsResultPath": null,
       "isJsonSchema": true,
       "metadata": {},
       "overflow": false,
       "plotOptions": {
        "customPlotOptions": {},
        "displayType": "table",
        "pivotAggregation": null,
        "pivotColumns": null,
        "xColumns": null,
        "yColumns": null
       },
       "removedWidgets": [],
       "schema": [
        {
         "metadata": "{\"comment\":\"name of the column\"}",
         "name": "col_name",
         "type": "\"string\""
        },
        {
         "metadata": "{\"comment\":\"data type of the column\"}",
         "name": "data_type",
         "type": "\"string\""
        },
        {
         "metadata": "{\"comment\":\"comment of the column\"}",
         "name": "comment",
         "type": "\"string\""
        }
       ],
       "type": "table"
      }
     },
     "output_type": "display_data"
    }
   ],
   "source": [
    "%sql\n",
    "DESCRIBE EXTENDED rentals_silver_tempview"
   ]
  },
  {
   "cell_type": "code",
   "execution_count": 0,
   "metadata": {
    "application/vnd.databricks.v1+cell": {
     "cellMetadata": {
      "byteLimit": 2048000,
      "implicitDf": true,
      "rowLimit": 10000
     },
     "inputWidgets": {},
     "nuid": "710c49bc-c34a-4db5-9cea-ab801ffe9688",
     "showTitle": false,
     "title": ""
    }
   },
   "outputs": [
    {
     "output_type": "display_data",
     "data": {
      "text/html": [
       "<style scoped>\n",
       "  .table-result-container {\n",
       "    max-height: 300px;\n",
       "    overflow: auto;\n",
       "  }\n",
       "  table, th, td {\n",
       "    border: 1px solid black;\n",
       "    border-collapse: collapse;\n",
       "  }\n",
       "  th, td {\n",
       "    padding: 5px;\n",
       "  }\n",
       "  th {\n",
       "    text-align: left;\n",
       "  }\n",
       "</style><div class='table-result-container'><table class='table-result'><thead style='background-color: white'><tr></tr></thead><tbody></tbody></table></div>"
      ]
     },
     "metadata": {
      "application/vnd.databricks.v1+output": {
       "addedWidgets": {},
       "aggData": [],
       "aggError": "",
       "aggOverflow": false,
       "aggSchema": [],
       "aggSeriesLimitReached": false,
       "aggType": "",
       "arguments": {},
       "columnCustomDisplayInfos": {},
       "data": [],
       "datasetInfos": [],
       "dbfsResultPath": null,
       "isJsonSchema": true,
       "metadata": {},
       "overflow": false,
       "plotOptions": {
        "customPlotOptions": {},
        "displayType": "table",
        "pivotAggregation": null,
        "pivotColumns": null,
        "xColumns": null,
        "yColumns": null
       },
       "removedWidgets": [],
       "schema": [],
       "type": "table"
      }
     },
     "output_type": "display_data"
    }
   ],
   "source": [
    "%sql\n",
    "CREATE OR REPLACE TEMPORARY VIEW fact_rentals_silver_tempview AS (\n",
    "  SELECT r.fact_order_key,\n",
    "      r.rental_key,\n",
    "      re.inventory_id,\n",
    "      r.store_key,\n",
    "      st.manager_staff_id,\n",
    "      r.film_key,\n",
    "      f.title AS film_name,\n",
    "      f.rating AS film_rating,\n",
    "      f.rental_duration,\n",
    "      f.replacement_cost,\n",
    "      r.customer_key,\n",
    "      c.first_name AS customer_first_name,\n",
    "      c.last_name AS customer_last_name,\n",
    "      c.email AS customer_email,\n",
    "      c.address_id AS customer_address_id,\n",
    "      r.staff_key,\n",
    "      s.first_name AS staff_first_name,\n",
    "      s.last_name AS staff_last_name,\n",
    "      s.email AS staff_email,\n",
    "      r.rental_date_key,\n",
    "      rd.day_name_of_week AS rental_day_name_of_week,\n",
    "      rd.day_of_month AS rental_day_of_month,\n",
    "      rd.weekday_weekend AS rental_weekday_weekend,\n",
    "      rd.month_name AS rental_month_name,\n",
    "      rd.calendar_quarter AS rental_quarter,\n",
    "      rd.calendar_year AS rental_year,\n",
    "      r.return_date_key,\n",
    "      red.day_name_of_week AS return_day_name_of_week,\n",
    "      red.day_of_month AS return_day_of_month,\n",
    "      red.weekday_weekend AS return_weekday_weekend,\n",
    "      red.month_name AS return_month_name,\n",
    "      red.calendar_quarter AS return_quarter,\n",
    "      red.calendar_year AS return_year,\n",
    "      r.payment_date_key,\n",
    "      pd.day_name_of_week AS payment_day_name_of_week,\n",
    "      pd.day_of_month AS payment_day_of_month,\n",
    "      pd.weekday_weekend AS payment_weekday_weekend,\n",
    "      pd.month_name AS payment_month_name,\n",
    "      pd.calendar_quarter AS payment_quarter,\n",
    "      pd.calendar_year AS payment_year,\n",
    "      r.amount AS rental_price\n",
    "  FROM rentals_silver_tempview AS r\n",
    "  INNER JOIN sakila_dlh.dim_rentals AS re\n",
    "  ON re.rental_key = r.rental_key\n",
    "  INNER JOIN sakila_dlh.dim_stores AS st\n",
    "  ON st.store_key = r.store_key\n",
    "  INNER JOIN sakila_dlh.dim_films AS f\n",
    "  ON f.film_key = r.film_key\n",
    "  INNER JOIN sakila_dlh.dim_customer AS c\n",
    "  ON c.customer_key = r.customer_key\n",
    "  INNER JOIN sakila_dlh.dim_staff AS s\n",
    "  ON s.staff_key = r.staff_key\n",
    "  LEFT OUTER JOIN sakila_dlh.dim_date AS rd\n",
    "  ON rd.date_key = r.rental_date_key\n",
    "  LEFT OUTER JOIN sakila_dlh.dim_date AS red\n",
    "  ON red.date_key = r.return_date_key\n",
    "  LEFT OUTER JOIN sakila_dlh.dim_date AS pd\n",
    "  ON pd.date_key = r.payment_date_key\n",
    ")"
   ]
  },
  {
   "cell_type": "code",
   "execution_count": 0,
   "metadata": {
    "application/vnd.databricks.v1+cell": {
     "cellMetadata": {
      "byteLimit": 2048000,
      "rowLimit": 10000
     },
     "inputWidgets": {},
     "nuid": "240d8a94-0801-4e89-966d-a08f843efb6b",
     "showTitle": false,
     "title": ""
    }
   },
   "outputs": [
    {
     "output_type": "stream",
     "name": "stdout",
     "output_type": "stream",
     "text": [
      "Out[68]: <pyspark.sql.streaming.query.StreamingQuery at 0x7f650831ca30>"
     ]
    }
   ],
   "source": [
    "(spark.table(\"fact_rentals_silver_tempview\")\n",
    "      .writeStream\n",
    "      .format(\"delta\")\n",
    "      .option(\"checkpointLocation\", f\"{rentals_output_silver}/_checkpoint\")\n",
    "      .outputMode(\"append\")\n",
    "      .table(\"fact_rentals_silver\"))"
   ]
  },
  {
   "cell_type": "code",
   "execution_count": 0,
   "metadata": {
    "application/vnd.databricks.v1+cell": {
     "cellMetadata": {
      "byteLimit": 2048000,
      "implicitDf": true,
      "rowLimit": 10000
     },
     "inputWidgets": {},
     "nuid": "e0405389-1528-48ba-96cc-90a9c67f1c34",
     "showTitle": false,
     "title": ""
    }
   },
   "outputs": [
    {
     "output_type": "display_data",
     "data": {
      "text/html": [
       "<style scoped>\n",
       "  .table-result-container {\n",
       "    max-height: 300px;\n",
       "    overflow: auto;\n",
       "  }\n",
       "  table, th, td {\n",
       "    border: 1px solid black;\n",
       "    border-collapse: collapse;\n",
       "  }\n",
       "  th, td {\n",
       "    padding: 5px;\n",
       "  }\n",
       "  th {\n",
       "    text-align: left;\n",
       "  }\n",
       "</style><div class='table-result-container'><table class='table-result'><thead style='background-color: white'><tr><th>fact_order_key</th><th>rental_key</th><th>inventory_id</th><th>store_key</th><th>manager_staff_id</th><th>film_key</th><th>film_name</th><th>film_rating</th><th>rental_duration</th><th>replacement_cost</th><th>customer_key</th><th>customer_first_name</th><th>customer_last_name</th><th>customer_email</th><th>customer_address_id</th><th>staff_key</th><th>staff_first_name</th><th>staff_last_name</th><th>staff_email</th><th>rental_date_key</th><th>rental_day_name_of_week</th><th>rental_day_of_month</th><th>rental_weekday_weekend</th><th>rental_month_name</th><th>rental_quarter</th><th>rental_year</th><th>return_date_key</th><th>return_day_name_of_week</th><th>return_day_of_month</th><th>return_weekday_weekend</th><th>return_month_name</th><th>return_quarter</th><th>return_year</th><th>payment_date_key</th><th>payment_day_name_of_week</th><th>payment_day_of_month</th><th>payment_weekday_weekend</th><th>payment_month_name</th><th>payment_quarter</th><th>payment_year</th><th>rental_price</th></tr></thead><tbody><tr><td>489</td><td>18</td><td>3376</td><td>1</td><td>1</td><td>741</td><td>ROMAN PUNK</td><td>NC-17</td><td>7</td><td>28.99</td><td>19</td><td>RUTH</td><td>MARTINEZ</td><td>RUTH.MARTINEZ@sakilacustomer.org</td><td>23</td><td>2</td><td>Jon</td><td>Stephens</td><td>Jon.Stephens@sakilastaff.com</td><td>20050823</td><td>Tuesday</td><td>23</td><td>Weekday</td><td>August</td><td>3</td><td>2005</td><td>20050830</td><td>Tuesday</td><td>30</td><td>Weekday</td><td>August</td><td>3</td><td>2005</td><td>20050823</td><td>Tuesday</td><td>23</td><td>Weekday</td><td>August</td><td>3</td><td>2005</td><td>0.99</td></tr><tr><td>174</td><td>46</td><td>3318</td><td>1</td><td>1</td><td>730</td><td>RIDGEMONT SUBMARINE</td><td>PG-13</td><td>3</td><td>28.99</td><td>7</td><td>MARIA</td><td>MILLER</td><td>MARIA.MILLER@sakilacustomer.org</td><td>11</td><td>2</td><td>Jon</td><td>Stephens</td><td>Jon.Stephens@sakilastaff.com</td><td>20050823</td><td>Tuesday</td><td>23</td><td>Weekday</td><td>August</td><td>3</td><td>2005</td><td>20050830</td><td>Tuesday</td><td>30</td><td>Weekday</td><td>August</td><td>3</td><td>2005</td><td>20050823</td><td>Tuesday</td><td>23</td><td>Weekday</td><td>August</td><td>3</td><td>2005</td><td>5.99</td></tr><tr><td>951</td><td>47</td><td>2211</td><td>2</td><td>2</td><td>478</td><td>JAWS HARRY</td><td>G</td><td>4</td><td>10.99</td><td>35</td><td>VIRGINIA</td><td>GREEN</td><td>VIRGINIA.GREEN@sakilacustomer.org</td><td>39</td><td>1</td><td>Mike</td><td>Hillyer</td><td>Mike.Hillyer@sakilastaff.com</td><td>20050823</td><td>Tuesday</td><td>23</td><td>Weekday</td><td>August</td><td>3</td><td>2005</td><td>20050830</td><td>Tuesday</td><td>30</td><td>Weekday</td><td>August</td><td>3</td><td>2005</td><td>20050823</td><td>Tuesday</td><td>23</td><td>Weekday</td><td>August</td><td>3</td><td>2005</td><td>3.99</td></tr><tr><td>467</td><td>50</td><td>1983</td><td>2</td><td>2</td><td>432</td><td>HOPE TOOTSIE</td><td>NC-17</td><td>4</td><td>22.99</td><td>18</td><td>CAROL</td><td>GARCIA</td><td>CAROL.GARCIA@sakilacustomer.org</td><td>22</td><td>2</td><td>Jon</td><td>Stephens</td><td>Jon.Stephens@sakilastaff.com</td><td>20050823</td><td>Tuesday</td><td>23</td><td>Weekday</td><td>August</td><td>3</td><td>2005</td><td>20050830</td><td>Tuesday</td><td>30</td><td>Weekday</td><td>August</td><td>3</td><td>2005</td><td>20050823</td><td>Tuesday</td><td>23</td><td>Weekday</td><td>August</td><td>3</td><td>2005</td><td>2.99</td></tr><tr><td>146</td><td>57</td><td>3938</td><td>2</td><td>2</td><td>858</td><td>SUBMARINE BED</td><td>R</td><td>5</td><td>21.99</td><td>6</td><td>JENNIFER</td><td>DAVIS</td><td>JENNIFER.DAVIS@sakilacustomer.org</td><td>10</td><td>2</td><td>Jon</td><td>Stephens</td><td>Jon.Stephens@sakilastaff.com</td><td>20050823</td><td>Tuesday</td><td>23</td><td>Weekday</td><td>August</td><td>3</td><td>2005</td><td>20050830</td><td>Tuesday</td><td>30</td><td>Weekday</td><td>August</td><td>3</td><td>2005</td><td>20050823</td><td>Tuesday</td><td>23</td><td>Weekday</td><td>August</td><td>3</td><td>2005</td><td>4.99</td></tr></tbody></table></div>"
      ]
     },
     "metadata": {
      "application/vnd.databricks.v1+output": {
       "addedWidgets": {},
       "aggData": [],
       "aggError": "",
       "aggOverflow": false,
       "aggSchema": [],
       "aggSeriesLimitReached": false,
       "aggType": "",
       "arguments": {},
       "columnCustomDisplayInfos": {},
       "data": [
        [
         489,
         18,
         3376,
         1,
         1,
         741,
         "ROMAN PUNK",
         "NC-17",
         7,
         28.99,
         19,
         "RUTH",
         "MARTINEZ",
         "RUTH.MARTINEZ@sakilacustomer.org",
         23,
         2,
         "Jon",
         "Stephens",
         "Jon.Stephens@sakilastaff.com",
         20050823,
         "Tuesday",
         23,
         "Weekday",
         "August",
         3,
         2005,
         20050830,
         "Tuesday",
         30,
         "Weekday",
         "August",
         3,
         2005,
         20050823,
         "Tuesday",
         23,
         "Weekday",
         "August",
         3,
         2005,
         0.99
        ],
        [
         174,
         46,
         3318,
         1,
         1,
         730,
         "RIDGEMONT SUBMARINE",
         "PG-13",
         3,
         28.99,
         7,
         "MARIA",
         "MILLER",
         "MARIA.MILLER@sakilacustomer.org",
         11,
         2,
         "Jon",
         "Stephens",
         "Jon.Stephens@sakilastaff.com",
         20050823,
         "Tuesday",
         23,
         "Weekday",
         "August",
         3,
         2005,
         20050830,
         "Tuesday",
         30,
         "Weekday",
         "August",
         3,
         2005,
         20050823,
         "Tuesday",
         23,
         "Weekday",
         "August",
         3,
         2005,
         5.99
        ],
        [
         951,
         47,
         2211,
         2,
         2,
         478,
         "JAWS HARRY",
         "G",
         4,
         10.99,
         35,
         "VIRGINIA",
         "GREEN",
         "VIRGINIA.GREEN@sakilacustomer.org",
         39,
         1,
         "Mike",
         "Hillyer",
         "Mike.Hillyer@sakilastaff.com",
         20050823,
         "Tuesday",
         23,
         "Weekday",
         "August",
         3,
         2005,
         20050830,
         "Tuesday",
         30,
         "Weekday",
         "August",
         3,
         2005,
         20050823,
         "Tuesday",
         23,
         "Weekday",
         "August",
         3,
         2005,
         3.99
        ],
        [
         467,
         50,
         1983,
         2,
         2,
         432,
         "HOPE TOOTSIE",
         "NC-17",
         4,
         22.99,
         18,
         "CAROL",
         "GARCIA",
         "CAROL.GARCIA@sakilacustomer.org",
         22,
         2,
         "Jon",
         "Stephens",
         "Jon.Stephens@sakilastaff.com",
         20050823,
         "Tuesday",
         23,
         "Weekday",
         "August",
         3,
         2005,
         20050830,
         "Tuesday",
         30,
         "Weekday",
         "August",
         3,
         2005,
         20050823,
         "Tuesday",
         23,
         "Weekday",
         "August",
         3,
         2005,
         2.99
        ],
        [
         146,
         57,
         3938,
         2,
         2,
         858,
         "SUBMARINE BED",
         "R",
         5,
         21.99,
         6,
         "JENNIFER",
         "DAVIS",
         "JENNIFER.DAVIS@sakilacustomer.org",
         10,
         2,
         "Jon",
         "Stephens",
         "Jon.Stephens@sakilastaff.com",
         20050823,
         "Tuesday",
         23,
         "Weekday",
         "August",
         3,
         2005,
         20050830,
         "Tuesday",
         30,
         "Weekday",
         "August",
         3,
         2005,
         20050823,
         "Tuesday",
         23,
         "Weekday",
         "August",
         3,
         2005,
         4.99
        ]
       ],
       "datasetInfos": [],
       "dbfsResultPath": null,
       "isJsonSchema": true,
       "metadata": {},
       "overflow": false,
       "plotOptions": {
        "customPlotOptions": {},
        "displayType": "table",
        "pivotAggregation": null,
        "pivotColumns": null,
        "xColumns": null,
        "yColumns": null
       },
       "removedWidgets": [],
       "schema": [
        {
         "metadata": "{}",
         "name": "fact_order_key",
         "type": "\"long\""
        },
        {
         "metadata": "{}",
         "name": "rental_key",
         "type": "\"long\""
        },
        {
         "metadata": "{\"scale\":0}",
         "name": "inventory_id",
         "type": "\"long\""
        },
        {
         "metadata": "{}",
         "name": "store_key",
         "type": "\"long\""
        },
        {
         "metadata": "{}",
         "name": "manager_staff_id",
         "type": "\"integer\""
        },
        {
         "metadata": "{}",
         "name": "film_key",
         "type": "\"long\""
        },
        {
         "metadata": "{\"scale\":0}",
         "name": "film_name",
         "type": "\"string\""
        },
        {
         "metadata": "{\"scale\":0}",
         "name": "film_rating",
         "type": "\"string\""
        },
        {
         "metadata": "{\"scale\":0}",
         "name": "rental_duration",
         "type": "\"long\""
        },
        {
         "metadata": "{\"scale\":31}",
         "name": "replacement_cost",
         "type": "\"double\""
        },
        {
         "metadata": "{}",
         "name": "customer_key",
         "type": "\"long\""
        },
        {
         "metadata": "{}",
         "name": "customer_first_name",
         "type": "\"string\""
        },
        {
         "metadata": "{}",
         "name": "customer_last_name",
         "type": "\"string\""
        },
        {
         "metadata": "{}",
         "name": "customer_email",
         "type": "\"string\""
        },
        {
         "metadata": "{}",
         "name": "customer_address_id",
         "type": "\"integer\""
        },
        {
         "metadata": "{}",
         "name": "staff_key",
         "type": "\"long\""
        },
        {
         "metadata": "{}",
         "name": "staff_first_name",
         "type": "\"string\""
        },
        {
         "metadata": "{}",
         "name": "staff_last_name",
         "type": "\"string\""
        },
        {
         "metadata": "{}",
         "name": "staff_email",
         "type": "\"string\""
        },
        {
         "metadata": "{}",
         "name": "rental_date_key",
         "type": "\"long\""
        },
        {
         "metadata": "{\"scale\":0}",
         "name": "rental_day_name_of_week",
         "type": "\"string\""
        },
        {
         "metadata": "{\"scale\":0}",
         "name": "rental_day_of_month",
         "type": "\"integer\""
        },
        {
         "metadata": "{\"scale\":0}",
         "name": "rental_weekday_weekend",
         "type": "\"string\""
        },
        {
         "metadata": "{\"scale\":0}",
         "name": "rental_month_name",
         "type": "\"string\""
        },
        {
         "metadata": "{\"scale\":0}",
         "name": "rental_quarter",
         "type": "\"integer\""
        },
        {
         "metadata": "{\"scale\":0}",
         "name": "rental_year",
         "type": "\"integer\""
        },
        {
         "metadata": "{}",
         "name": "return_date_key",
         "type": "\"long\""
        },
        {
         "metadata": "{\"scale\":0}",
         "name": "return_day_name_of_week",
         "type": "\"string\""
        },
        {
         "metadata": "{\"scale\":0}",
         "name": "return_day_of_month",
         "type": "\"integer\""
        },
        {
         "metadata": "{\"scale\":0}",
         "name": "return_weekday_weekend",
         "type": "\"string\""
        },
        {
         "metadata": "{\"scale\":0}",
         "name": "return_month_name",
         "type": "\"string\""
        },
        {
         "metadata": "{\"scale\":0}",
         "name": "return_quarter",
         "type": "\"integer\""
        },
        {
         "metadata": "{\"scale\":0}",
         "name": "return_year",
         "type": "\"integer\""
        },
        {
         "metadata": "{}",
         "name": "payment_date_key",
         "type": "\"long\""
        },
        {
         "metadata": "{\"scale\":0}",
         "name": "payment_day_name_of_week",
         "type": "\"string\""
        },
        {
         "metadata": "{\"scale\":0}",
         "name": "payment_day_of_month",
         "type": "\"integer\""
        },
        {
         "metadata": "{\"scale\":0}",
         "name": "payment_weekday_weekend",
         "type": "\"string\""
        },
        {
         "metadata": "{\"scale\":0}",
         "name": "payment_month_name",
         "type": "\"string\""
        },
        {
         "metadata": "{\"scale\":0}",
         "name": "payment_quarter",
         "type": "\"integer\""
        },
        {
         "metadata": "{\"scale\":0}",
         "name": "payment_year",
         "type": "\"integer\""
        },
        {
         "metadata": "{}",
         "name": "rental_price",
         "type": "\"double\""
        }
       ],
       "type": "table"
      }
     },
     "output_type": "display_data"
    }
   ],
   "source": [
    "%sql\n",
    "SELECT * FROM fact_rentals_silver LIMIT 5;"
   ]
  },
  {
   "cell_type": "code",
   "execution_count": 0,
   "metadata": {
    "application/vnd.databricks.v1+cell": {
     "cellMetadata": {
      "byteLimit": 2048000,
      "implicitDf": true,
      "rowLimit": 10000
     },
     "inputWidgets": {},
     "nuid": "f89680de-3ae9-4a27-9c0c-a8e4eef7667a",
     "showTitle": false,
     "title": ""
    }
   },
   "outputs": [
    {
     "output_type": "display_data",
     "data": {
      "text/html": [
       "<style scoped>\n",
       "  .table-result-container {\n",
       "    max-height: 300px;\n",
       "    overflow: auto;\n",
       "  }\n",
       "  table, th, td {\n",
       "    border: 1px solid black;\n",
       "    border-collapse: collapse;\n",
       "  }\n",
       "  th, td {\n",
       "    padding: 5px;\n",
       "  }\n",
       "  th {\n",
       "    text-align: left;\n",
       "  }\n",
       "</style><div class='table-result-container'><table class='table-result'><thead style='background-color: white'><tr><th>col_name</th><th>data_type</th><th>comment</th></tr></thead><tbody><tr><td>fact_order_key</td><td>bigint</td><td>null</td></tr><tr><td>rental_key</td><td>bigint</td><td>null</td></tr><tr><td>inventory_id</td><td>bigint</td><td>null</td></tr><tr><td>store_key</td><td>bigint</td><td>null</td></tr><tr><td>manager_staff_id</td><td>int</td><td>null</td></tr><tr><td>film_key</td><td>bigint</td><td>null</td></tr><tr><td>film_name</td><td>string</td><td>null</td></tr><tr><td>film_rating</td><td>string</td><td>null</td></tr><tr><td>rental_duration</td><td>bigint</td><td>null</td></tr><tr><td>replacement_cost</td><td>double</td><td>null</td></tr><tr><td>customer_key</td><td>bigint</td><td>null</td></tr><tr><td>customer_first_name</td><td>string</td><td>null</td></tr><tr><td>customer_last_name</td><td>string</td><td>null</td></tr><tr><td>customer_email</td><td>string</td><td>null</td></tr><tr><td>customer_address_id</td><td>int</td><td>null</td></tr><tr><td>staff_key</td><td>bigint</td><td>null</td></tr><tr><td>staff_first_name</td><td>string</td><td>null</td></tr><tr><td>staff_last_name</td><td>string</td><td>null</td></tr><tr><td>staff_email</td><td>string</td><td>null</td></tr><tr><td>rental_date_key</td><td>bigint</td><td>null</td></tr><tr><td>rental_day_name_of_week</td><td>string</td><td>null</td></tr><tr><td>rental_day_of_month</td><td>int</td><td>null</td></tr><tr><td>rental_weekday_weekend</td><td>string</td><td>null</td></tr><tr><td>rental_month_name</td><td>string</td><td>null</td></tr><tr><td>rental_quarter</td><td>int</td><td>null</td></tr><tr><td>rental_year</td><td>int</td><td>null</td></tr><tr><td>return_date_key</td><td>bigint</td><td>null</td></tr><tr><td>return_day_name_of_week</td><td>string</td><td>null</td></tr><tr><td>return_day_of_month</td><td>int</td><td>null</td></tr><tr><td>return_weekday_weekend</td><td>string</td><td>null</td></tr><tr><td>return_month_name</td><td>string</td><td>null</td></tr><tr><td>return_quarter</td><td>int</td><td>null</td></tr><tr><td>return_year</td><td>int</td><td>null</td></tr><tr><td>payment_date_key</td><td>bigint</td><td>null</td></tr><tr><td>payment_day_name_of_week</td><td>string</td><td>null</td></tr><tr><td>payment_day_of_month</td><td>int</td><td>null</td></tr><tr><td>payment_weekday_weekend</td><td>string</td><td>null</td></tr><tr><td>payment_month_name</td><td>string</td><td>null</td></tr><tr><td>payment_quarter</td><td>int</td><td>null</td></tr><tr><td>payment_year</td><td>int</td><td>null</td></tr><tr><td>rental_price</td><td>double</td><td>null</td></tr><tr><td></td><td></td><td></td></tr><tr><td># Detailed Table Information</td><td></td><td></td></tr><tr><td>Catalog</td><td>spark_catalog</td><td></td></tr><tr><td>Database</td><td>sakila_dlh</td><td></td></tr><tr><td>Table</td><td>fact_rentals_silver</td><td></td></tr><tr><td>Type</td><td>MANAGED</td><td></td></tr><tr><td>Location</td><td>dbfs:/FileStore/MassarelliEva-Capstone/sakila_dlh/fact_rentals_silver</td><td></td></tr><tr><td>Provider</td><td>delta</td><td></td></tr><tr><td>Owner</td><td>root</td><td></td></tr><tr><td>Is_managed_location</td><td>true</td><td></td></tr><tr><td>Table Properties</td><td>[delta.minReaderVersion=1,delta.minWriterVersion=2]</td><td></td></tr></tbody></table></div>"
      ]
     },
     "metadata": {
      "application/vnd.databricks.v1+output": {
       "addedWidgets": {},
       "aggData": [],
       "aggError": "",
       "aggOverflow": false,
       "aggSchema": [],
       "aggSeriesLimitReached": false,
       "aggType": "",
       "arguments": {},
       "columnCustomDisplayInfos": {},
       "data": [
        [
         "fact_order_key",
         "bigint",
         null
        ],
        [
         "rental_key",
         "bigint",
         null
        ],
        [
         "inventory_id",
         "bigint",
         null
        ],
        [
         "store_key",
         "bigint",
         null
        ],
        [
         "manager_staff_id",
         "int",
         null
        ],
        [
         "film_key",
         "bigint",
         null
        ],
        [
         "film_name",
         "string",
         null
        ],
        [
         "film_rating",
         "string",
         null
        ],
        [
         "rental_duration",
         "bigint",
         null
        ],
        [
         "replacement_cost",
         "double",
         null
        ],
        [
         "customer_key",
         "bigint",
         null
        ],
        [
         "customer_first_name",
         "string",
         null
        ],
        [
         "customer_last_name",
         "string",
         null
        ],
        [
         "customer_email",
         "string",
         null
        ],
        [
         "customer_address_id",
         "int",
         null
        ],
        [
         "staff_key",
         "bigint",
         null
        ],
        [
         "staff_first_name",
         "string",
         null
        ],
        [
         "staff_last_name",
         "string",
         null
        ],
        [
         "staff_email",
         "string",
         null
        ],
        [
         "rental_date_key",
         "bigint",
         null
        ],
        [
         "rental_day_name_of_week",
         "string",
         null
        ],
        [
         "rental_day_of_month",
         "int",
         null
        ],
        [
         "rental_weekday_weekend",
         "string",
         null
        ],
        [
         "rental_month_name",
         "string",
         null
        ],
        [
         "rental_quarter",
         "int",
         null
        ],
        [
         "rental_year",
         "int",
         null
        ],
        [
         "return_date_key",
         "bigint",
         null
        ],
        [
         "return_day_name_of_week",
         "string",
         null
        ],
        [
         "return_day_of_month",
         "int",
         null
        ],
        [
         "return_weekday_weekend",
         "string",
         null
        ],
        [
         "return_month_name",
         "string",
         null
        ],
        [
         "return_quarter",
         "int",
         null
        ],
        [
         "return_year",
         "int",
         null
        ],
        [
         "payment_date_key",
         "bigint",
         null
        ],
        [
         "payment_day_name_of_week",
         "string",
         null
        ],
        [
         "payment_day_of_month",
         "int",
         null
        ],
        [
         "payment_weekday_weekend",
         "string",
         null
        ],
        [
         "payment_month_name",
         "string",
         null
        ],
        [
         "payment_quarter",
         "int",
         null
        ],
        [
         "payment_year",
         "int",
         null
        ],
        [
         "rental_price",
         "double",
         null
        ],
        [
         "",
         "",
         ""
        ],
        [
         "# Detailed Table Information",
         "",
         ""
        ],
        [
         "Catalog",
         "spark_catalog",
         ""
        ],
        [
         "Database",
         "sakila_dlh",
         ""
        ],
        [
         "Table",
         "fact_rentals_silver",
         ""
        ],
        [
         "Type",
         "MANAGED",
         ""
        ],
        [
         "Location",
         "dbfs:/FileStore/MassarelliEva-Capstone/sakila_dlh/fact_rentals_silver",
         ""
        ],
        [
         "Provider",
         "delta",
         ""
        ],
        [
         "Owner",
         "root",
         ""
        ],
        [
         "Is_managed_location",
         "true",
         ""
        ],
        [
         "Table Properties",
         "[delta.minReaderVersion=1,delta.minWriterVersion=2]",
         ""
        ]
       ],
       "datasetInfos": [],
       "dbfsResultPath": null,
       "isJsonSchema": true,
       "metadata": {},
       "overflow": false,
       "plotOptions": {
        "customPlotOptions": {},
        "displayType": "table",
        "pivotAggregation": null,
        "pivotColumns": null,
        "xColumns": null,
        "yColumns": null
       },
       "removedWidgets": [],
       "schema": [
        {
         "metadata": "{\"comment\":\"name of the column\"}",
         "name": "col_name",
         "type": "\"string\""
        },
        {
         "metadata": "{\"comment\":\"data type of the column\"}",
         "name": "data_type",
         "type": "\"string\""
        },
        {
         "metadata": "{\"comment\":\"comment of the column\"}",
         "name": "comment",
         "type": "\"string\""
        }
       ],
       "type": "table"
      }
     },
     "output_type": "display_data"
    }
   ],
   "source": [
    "%sql\n",
    "DESCRIBE EXTENDED sakila_dlh.fact_rentals_silver"
   ]
  },
  {
   "cell_type": "markdown",
   "metadata": {
    "application/vnd.databricks.v1+cell": {
     "cellMetadata": {
      "byteLimit": 2048000,
      "rowLimit": 10000
     },
     "inputWidgets": {},
     "nuid": "6804eb9a-7c90-4c3c-a26e-29c9b91f1b1c",
     "showTitle": false,
     "title": ""
    }
   },
   "source": [
    "##### 6.3. Gold Table: Perform Aggregations (NOTE the required visualization is a tab on output)"
   ]
  },
  {
   "cell_type": "code",
   "execution_count": 0,
   "metadata": {
    "application/vnd.databricks.v1+cell": {
     "cellMetadata": {
      "byteLimit": 2048000,
      "implicitDf": true,
      "rowLimit": 10000
     },
     "inputWidgets": {},
     "nuid": "255621fc-ae98-4723-917c-898eb3c0bf96",
     "showTitle": false,
     "title": ""
    }
   },
   "outputs": [
    {
     "output_type": "display_data",
     "data": {
      "text/html": [
       "<style scoped>\n",
       "  .table-result-container {\n",
       "    max-height: 300px;\n",
       "    overflow: auto;\n",
       "  }\n",
       "  table, th, td {\n",
       "    border: 1px solid black;\n",
       "    border-collapse: collapse;\n",
       "  }\n",
       "  th, td {\n",
       "    padding: 5px;\n",
       "  }\n",
       "  th {\n",
       "    text-align: left;\n",
       "  }\n",
       "</style><div class='table-result-container'><table class='table-result'><thead style='background-color: white'><tr><th>CustomerID</th><th>LastName</th><th>FirstName</th><th>RentalMonth</th><th>RentalCount</th><th>TotalSpent</th></tr></thead><tbody><tr><td>5</td><td>BROWN</td><td>ELIZABETH</td><td>August</td><td>38</td><td>144.61999999999995</td></tr><tr><td>29</td><td>HERNANDEZ</td><td>ANGELA</td><td>August</td><td>36</td><td>140.63999999999996</td></tr><tr><td>21</td><td>CLARK</td><td>MICHELLE</td><td>August</td><td>35</td><td>155.65</td></tr><tr><td>30</td><td>KING</td><td>MELISSA</td><td>August</td><td>34</td><td>123.65999999999993</td></tr><tr><td>26</td><td>HALL</td><td>JESSICA</td><td>August</td><td>34</td><td>152.65999999999997</td></tr><tr><td>7</td><td>MILLER</td><td>MARIA</td><td>August</td><td>33</td><td>151.67</td></tr><tr><td>15</td><td>HARRIS</td><td>HELEN</td><td>August</td><td>32</td><td>134.68</td></tr><tr><td>35</td><td>GREEN</td><td>VIRGINIA</td><td>August</td><td>32</td><td>129.67999999999995</td></tr><tr><td>1</td><td>SMITH</td><td>MARY</td><td>August</td><td>32</td><td>118.67999999999992</td></tr><tr><td>28</td><td>YOUNG</td><td>CYNTHIA</td><td>August</td><td>32</td><td>111.67999999999995</td></tr><tr><td>27</td><td>ALLEN</td><td>SHIRLEY</td><td>August</td><td>31</td><td>126.68999999999996</td></tr><tr><td>23</td><td>LEWIS</td><td>SARAH</td><td>August</td><td>30</td><td>119.69999999999996</td></tr><tr><td>20</td><td>ROBINSON</td><td>SHARON</td><td>August</td><td>30</td><td>115.69999999999995</td></tr><tr><td>25</td><td>WALKER</td><td>DEBORAH</td><td>August</td><td>29</td><td>115.70999999999995</td></tr><tr><td>32</td><td>LOPEZ</td><td>AMY</td><td>August</td><td>29</td><td>127.70999999999995</td></tr><tr><td>16</td><td>MARTIN</td><td>SANDRA</td><td>August</td><td>28</td><td>118.71999999999997</td></tr><tr><td>14</td><td>WHITE</td><td>BETTY</td><td>August</td><td>28</td><td>117.71999999999994</td></tr><tr><td>12</td><td>THOMAS</td><td>NANCY</td><td>August</td><td>28</td><td>103.71999999999998</td></tr><tr><td>6</td><td>DAVIS</td><td>JENNIFER</td><td>August</td><td>28</td><td>93.71999999999998</td></tr><tr><td>13</td><td>JACKSON</td><td>KAREN</td><td>August</td><td>27</td><td>131.72999999999996</td></tr><tr><td>2</td><td>JOHNSON</td><td>PATRICIA</td><td>August</td><td>27</td><td>128.72999999999993</td></tr><tr><td>3</td><td>WILLIAMS</td><td>LINDA</td><td>August</td><td>26</td><td>135.73999999999998</td></tr><tr><td>31</td><td>WRIGHT</td><td>BRENDA</td><td>August</td><td>26</td><td>104.73999999999997</td></tr><tr><td>10</td><td>TAYLOR</td><td>DOROTHY</td><td>August</td><td>25</td><td>99.74999999999997</td></tr><tr><td>24</td><td>LEE</td><td>KIMBERLY</td><td>August</td><td>25</td><td>95.74999999999999</td></tr><tr><td>8</td><td>WILSON</td><td>SUSAN</td><td>August</td><td>24</td><td>92.75999999999999</td></tr><tr><td>11</td><td>ANDERSON</td><td>LISA</td><td>August</td><td>24</td><td>106.75999999999996</td></tr><tr><td>19</td><td>MARTINEZ</td><td>RUTH</td><td>August</td><td>24</td><td>125.75999999999998</td></tr><tr><td>34</td><td>SCOTT</td><td>REBECCA</td><td>August</td><td>24</td><td>89.76</td></tr><tr><td>9</td><td>MOORE</td><td>MARGARET</td><td>August</td><td>23</td><td>89.76999999999998</td></tr><tr><td>4</td><td>JONES</td><td>BARBARA</td><td>August</td><td>22</td><td>81.78</td></tr><tr><td>22</td><td>RODRIGUEZ</td><td>LAURA</td><td>August</td><td>22</td><td>113.77999999999997</td></tr><tr><td>18</td><td>GARCIA</td><td>CAROL</td><td>August</td><td>22</td><td>91.77999999999999</td></tr><tr><td>33</td><td>HILL</td><td>ANNA</td><td>August</td><td>21</td><td>91.78999999999998</td></tr><tr><td>17</td><td>THOMPSON</td><td>DONNA</td><td>August</td><td>21</td><td>98.78999999999998</td></tr><tr><td>36</td><td>ADAMS</td><td>KATHLEEN</td><td>August</td><td>18</td><td>49.82000000000001</td></tr></tbody></table></div>"
      ]
     },
     "metadata": {
      "application/vnd.databricks.v1+output": {
       "addedWidgets": {},
       "aggData": [],
       "aggError": "",
       "aggOverflow": false,
       "aggSchema": [],
       "aggSeriesLimitReached": false,
       "aggType": "",
       "arguments": {},
       "columnCustomDisplayInfos": {},
       "data": [
        [
         5,
         "BROWN",
         "ELIZABETH",
         "August",
         38,
         144.61999999999995
        ],
        [
         29,
         "HERNANDEZ",
         "ANGELA",
         "August",
         36,
         140.63999999999996
        ],
        [
         21,
         "CLARK",
         "MICHELLE",
         "August",
         35,
         155.65
        ],
        [
         30,
         "KING",
         "MELISSA",
         "August",
         34,
         123.65999999999993
        ],
        [
         26,
         "HALL",
         "JESSICA",
         "August",
         34,
         152.65999999999997
        ],
        [
         7,
         "MILLER",
         "MARIA",
         "August",
         33,
         151.67
        ],
        [
         15,
         "HARRIS",
         "HELEN",
         "August",
         32,
         134.68
        ],
        [
         35,
         "GREEN",
         "VIRGINIA",
         "August",
         32,
         129.67999999999995
        ],
        [
         1,
         "SMITH",
         "MARY",
         "August",
         32,
         118.67999999999992
        ],
        [
         28,
         "YOUNG",
         "CYNTHIA",
         "August",
         32,
         111.67999999999995
        ],
        [
         27,
         "ALLEN",
         "SHIRLEY",
         "August",
         31,
         126.68999999999996
        ],
        [
         23,
         "LEWIS",
         "SARAH",
         "August",
         30,
         119.69999999999996
        ],
        [
         20,
         "ROBINSON",
         "SHARON",
         "August",
         30,
         115.69999999999995
        ],
        [
         25,
         "WALKER",
         "DEBORAH",
         "August",
         29,
         115.70999999999995
        ],
        [
         32,
         "LOPEZ",
         "AMY",
         "August",
         29,
         127.70999999999995
        ],
        [
         16,
         "MARTIN",
         "SANDRA",
         "August",
         28,
         118.71999999999997
        ],
        [
         14,
         "WHITE",
         "BETTY",
         "August",
         28,
         117.71999999999994
        ],
        [
         12,
         "THOMAS",
         "NANCY",
         "August",
         28,
         103.71999999999998
        ],
        [
         6,
         "DAVIS",
         "JENNIFER",
         "August",
         28,
         93.71999999999998
        ],
        [
         13,
         "JACKSON",
         "KAREN",
         "August",
         27,
         131.72999999999996
        ],
        [
         2,
         "JOHNSON",
         "PATRICIA",
         "August",
         27,
         128.72999999999993
        ],
        [
         3,
         "WILLIAMS",
         "LINDA",
         "August",
         26,
         135.73999999999998
        ],
        [
         31,
         "WRIGHT",
         "BRENDA",
         "August",
         26,
         104.73999999999997
        ],
        [
         10,
         "TAYLOR",
         "DOROTHY",
         "August",
         25,
         99.74999999999997
        ],
        [
         24,
         "LEE",
         "KIMBERLY",
         "August",
         25,
         95.74999999999999
        ],
        [
         8,
         "WILSON",
         "SUSAN",
         "August",
         24,
         92.75999999999999
        ],
        [
         11,
         "ANDERSON",
         "LISA",
         "August",
         24,
         106.75999999999996
        ],
        [
         19,
         "MARTINEZ",
         "RUTH",
         "August",
         24,
         125.75999999999998
        ],
        [
         34,
         "SCOTT",
         "REBECCA",
         "August",
         24,
         89.76
        ],
        [
         9,
         "MOORE",
         "MARGARET",
         "August",
         23,
         89.76999999999998
        ],
        [
         4,
         "JONES",
         "BARBARA",
         "August",
         22,
         81.78
        ],
        [
         22,
         "RODRIGUEZ",
         "LAURA",
         "August",
         22,
         113.77999999999997
        ],
        [
         18,
         "GARCIA",
         "CAROL",
         "August",
         22,
         91.77999999999999
        ],
        [
         33,
         "HILL",
         "ANNA",
         "August",
         21,
         91.78999999999998
        ],
        [
         17,
         "THOMPSON",
         "DONNA",
         "August",
         21,
         98.78999999999998
        ],
        [
         36,
         "ADAMS",
         "KATHLEEN",
         "August",
         18,
         49.82000000000001
        ]
       ],
       "datasetInfos": [],
       "dbfsResultPath": null,
       "isJsonSchema": true,
       "metadata": {},
       "overflow": false,
       "plotOptions": {
        "customPlotOptions": {},
        "displayType": "table",
        "pivotAggregation": null,
        "pivotColumns": null,
        "xColumns": null,
        "yColumns": null
       },
       "removedWidgets": [],
       "schema": [
        {
         "metadata": "{}",
         "name": "CustomerID",
         "type": "\"long\""
        },
        {
         "metadata": "{}",
         "name": "LastName",
         "type": "\"string\""
        },
        {
         "metadata": "{}",
         "name": "FirstName",
         "type": "\"string\""
        },
        {
         "metadata": "{\"scale\":0}",
         "name": "RentalMonth",
         "type": "\"string\""
        },
        {
         "metadata": "{}",
         "name": "RentalCount",
         "type": "\"long\""
        },
        {
         "metadata": "{}",
         "name": "TotalSpent",
         "type": "\"double\""
        }
       ],
       "type": "table"
      }
     },
     "output_type": "display_data"
    },
    {
     "output_type": "display_data",
     "data": {
      "text/plain": [
       "Output can only be rendered in Databricks"
      ]
     },
     "metadata": {
      "application/vnd.databricks.v1.subcommand+json": {
       "bindings": {},
       "collapsed": false,
       "command": "%sql WITH q AS (SELECT customer_key AS CustomerID\n  , customer_last_name AS LastName\n  , customer_first_name AS FirstName\n  , rental_month_name AS RentalMonth\n  , COUNT(rental_key) AS RentalCount\n  , SUM(rental_price) AS TotalSpent\nFROM sakila_dlh.fact_rentals_silver\nGROUP BY CustomerID, LastName, FirstName, RentalMonth\nORDER BY RentalCount DESC) SELECT `RentalCount`,SUM(`TotalSpent`) `column_6b1fd0d19` FROM q GROUP BY `RentalCount`",
       "commandTitle": "Visualization 1",
       "commandType": "auto",
       "commandVersion": 0,
       "commentThread": [],
       "commentsVisible": false,
       "contentSha256Hex": null,
       "customPlotOptions": {
        "redashChart": [
         {
          "key": "type",
          "value": "CHART"
         },
         {
          "key": "options",
          "value": {
           "alignYAxesAtZero": true,
           "coefficient": 1,
           "columnConfigurationMap": {
            "x": {
             "column": "RentalCount",
             "id": "column_6b1fd0d18"
            },
            "y": [
             {
              "column": "TotalSpent",
              "id": "column_6b1fd0d19",
              "transform": "SUM"
             }
            ]
           },
           "dateTimeFormat": "DD/MM/YYYY HH:mm",
           "direction": {
            "type": "counterclockwise"
           },
           "error_y": {
            "type": "data",
            "visible": true
           },
           "globalSeriesType": "column",
           "isAggregationOn": true,
           "legend": {
            "traceorder": "normal"
           },
           "missingValuesAsZero": true,
           "numberFormat": "0,0[.]00000",
           "percentFormat": "0[.]00%",
           "series": {
            "error_y": {
             "type": "data",
             "visible": true
            },
            "stacking": null
           },
           "seriesOptions": {
            "TotalSpent": {
             "type": "column",
             "yAxis": 0
            },
            "column_6b1fd0d19": {
             "type": "column",
             "yAxis": 0
            }
           },
           "showDataLabels": false,
           "sizemode": "diameter",
           "sortX": true,
           "sortY": true,
           "swappedAxes": false,
           "textFormat": "",
           "useAggregationsUi": true,
           "valuesOptions": {},
           "version": 2,
           "xAxis": {
            "labels": {
             "enabled": true
            },
            "type": "-"
           },
           "yAxis": [
            {
             "type": "-"
            },
            {
             "opposite": true,
             "type": "-"
            }
           ]
          }
         }
        ]
       },
       "datasetPreviewNameToCmdIdMap": {},
       "diffDeletes": [],
       "diffInserts": [],
       "displayType": "redashChart",
       "error": null,
       "errorSummary": null,
       "errorTraceType": null,
       "finishTime": 0,
       "globalVars": {},
       "guid": "03303e52-ba3d-4a0b-bfb1-4513212e48bc",
       "height": "auto",
       "hideCommandCode": false,
       "hideCommandResult": false,
       "iPythonMetadata": null,
       "inputWidgets": {},
       "isLockedInExamMode": false,
       "latestUser": "a user",
       "latestUserId": null,
       "listResultMetadata": null,
       "metadata": {
        "byteLimit": 2048000,
        "implicitDf": true,
        "rowLimit": 10000
       },
       "nuid": "0a9a0eec-a841-413b-b78e-3d3a08c332f2",
       "origId": 2666962603711889,
       "parentHierarchy": [
        "88cf29a3-550d-4a17-a397-1f29a39dbfa7"
       ],
       "pivotAggregation": null,
       "pivotColumns": null,
       "position": 75.0,
       "resultDbfsErrorMessage": null,
       "resultDbfsStatus": "INLINED_IN_TREE",
       "results": null,
       "showCommandTitle": false,
       "startTime": 0,
       "state": "input",
       "streamStates": {},
       "subcommandOptions": {
        "queryPlan": {
         "groups": [
          {
           "column": "RentalCount",
           "type": "column"
          }
         ],
         "selects": [
          {
           "column": "RentalCount",
           "type": "column"
          },
          {
           "alias": "column_6b1fd0d19",
           "args": [
            {
             "column": "TotalSpent",
             "type": "column"
            }
           ],
           "function": "SUM",
           "type": "function"
          }
         ]
        }
       },
       "submitTime": 0,
       "subtype": "tableResultSubCmd.visualization",
       "tableResultIndex": 0,
       "useConsistentColors": false,
       "version": "CommandV1",
       "width": "auto",
       "workflows": [],
       "xColumns": null,
       "yColumns": null
      }
     },
     "output_type": "display_data"
    }
   ],
   "source": [
    "%sql\n",
    "SELECT customer_key AS CustomerID\n",
    "  , customer_last_name AS LastName\n",
    "  , customer_first_name AS FirstName\n",
    "  , rental_month_name AS RentalMonth\n",
    "  , COUNT(rental_key) AS RentalCount\n",
    "  , SUM(rental_price) AS TotalSpent\n",
    "FROM sakila_dlh.fact_rentals_silver\n",
    "GROUP BY CustomerID, LastName, FirstName, RentalMonth\n",
    "ORDER BY RentalCount DESC;"
   ]
  },
  {
   "cell_type": "markdown",
   "metadata": {
    "application/vnd.databricks.v1+cell": {
     "cellMetadata": {
      "byteLimit": 2048000,
      "rowLimit": 10000
     },
     "inputWidgets": {},
     "nuid": "143f665e-eda3-4fbf-8f72-9aab08ae302b",
     "showTitle": false,
     "title": ""
    }
   },
   "source": [
    "#### 7.0. Clean up the File System"
   ]
  },
  {
   "cell_type": "code",
   "execution_count": 0,
   "metadata": {
    "application/vnd.databricks.v1+cell": {
     "cellMetadata": {
      "byteLimit": 2048000,
      "rowLimit": 10000
     },
     "inputWidgets": {},
     "nuid": "5d6447df-9b1b-4ca6-aab4-9651998583d9",
     "showTitle": false,
     "title": ""
    }
   },
   "outputs": [
    {
     "output_type": "display_data",
     "data": {
      "text/html": [
       "<style scoped>\n",
       "  .ansiout {\n",
       "    display: block;\n",
       "    unicode-bidi: embed;\n",
       "    white-space: pre-wrap;\n",
       "    word-wrap: break-word;\n",
       "    word-break: break-all;\n",
       "    font-family: \"Source Code Pro\", \"Menlo\", monospace;;\n",
       "    font-size: 13px;\n",
       "    color: #555;\n",
       "    margin-left: 4px;\n",
       "    line-height: 19px;\n",
       "  }\n",
       "</style>\n",
       "<div class=\"ansiout\">res26: Boolean = true\n",
       "</div>"
      ]
     },
     "metadata": {
      "application/vnd.databricks.v1+output": {
       "addedWidgets": {},
       "arguments": {},
       "data": "<div class=\"ansiout\">res26: Boolean = true\n</div>",
       "datasetInfos": [],
       "metadata": {
        "isDbfsCommandResult": false
       },
       "removedWidgets": [],
       "type": "html"
      }
     },
     "output_type": "display_data"
    }
   ],
   "source": [
    "%fs rm -r /FileStore/MassarelliEva-Capstone/"
   ]
  }
 ],
 "metadata": {
  "application/vnd.databricks.v1+notebook": {
   "dashboards": [
    {
     "elements": [
      {
       "dashboardResultIndex": null,
       "elementNUID": "0a9a0eec-a841-413b-b78e-3d3a08c332f2",
       "elementType": "command",
       "guid": "a7c2dddd-372e-489c-87b7-a8433c9cc189",
       "options": null,
       "position": {
        "height": 10,
        "width": 19,
        "x": 3,
        "y": 0,
        "z": null
       },
       "resultIndex": null
      },
      {
       "dashboardResultIndex": 0,
       "elementNUID": "255621fc-ae98-4723-917c-898eb3c0bf96",
       "elementType": "command",
       "guid": "c1092a69-a892-43bc-bde1-83d97733353e",
       "options": null,
       "position": {
        "height": 8,
        "width": 19,
        "x": 3,
        "y": 10,
        "z": null
       },
       "resultIndex": null
      }
     ],
     "globalVars": {},
     "guid": "5ebee1e3-e3cf-45ca-b6bb-638833d47c5d",
     "layoutOption": {
      "grid": true,
      "stack": false
     },
     "nuid": "fca7e59f-5992-48ae-a783-b6829bcc2c76",
     "origId": 2666962603711890,
     "title": "Capstone Dashboard",
     "version": "DashboardViewV1",
     "width": 1024
    },
    {
     "elements": [
      {
       "dashboardResultIndex": 0,
       "elementNUID": "255621fc-ae98-4723-917c-898eb3c0bf96",
       "elementType": "command",
       "guid": "04ae7050-19b3-46df-a9c0-0efb27a329ec",
       "options": null,
       "position": {
        "height": 6,
        "width": 12,
        "x": 0,
        "y": 0,
        "z": null
       },
       "resultIndex": null
      }
     ],
     "globalVars": {},
     "guid": "5eca4b8c-8e1b-4624-852c-fbc426aac36d",
     "layoutOption": {
      "grid": true,
      "stack": true
     },
     "nuid": "ab47014a-9ced-4345-a66a-914d2fec1b92",
     "origId": 2666962603711891,
     "title": "Untitled",
     "version": "DashboardViewV1",
     "width": 1024
    }
   ],
   "language": "python",
   "notebookMetadata": {
    "mostRecentlyExecutedCommandWithImplicitDF": {
     "commandId": 1728363750107630,
     "dataframes": [
      "_sqldf"
     ]
    },
    "pythonIndentUnit": 4
   },
   "notebookName": "MassarelliEva-Capstone",
   "notebookOrigID": 1728363750107556,
   "widgets": {}
  }
 },
 "nbformat": 4,
 "nbformat_minor": 0
}
